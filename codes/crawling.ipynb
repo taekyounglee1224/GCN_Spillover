{
 "cells": [
  {
   "cell_type": "code",
   "execution_count": 4,
   "metadata": {},
   "outputs": [
    {
     "name": "stdout",
     "output_type": "stream",
     "text": [
      "Downloading data for S&P 500 (^GSPC)...\n"
     ]
    },
    {
     "name": "stderr",
     "output_type": "stream",
     "text": [
      "[*********************100%***********************]  1 of 1 completed\n",
      "[*********************100%***********************]  1 of 1 completed\n"
     ]
    },
    {
     "name": "stdout",
     "output_type": "stream",
     "text": [
      "Downloading data for NASDAQ 100 (^NDX)...\n",
      "Downloading data for Dow Jones (^DJI)...\n"
     ]
    },
    {
     "name": "stderr",
     "output_type": "stream",
     "text": [
      "[*********************100%***********************]  1 of 1 completed\n",
      "[*********************100%***********************]  1 of 1 completed\n"
     ]
    },
    {
     "name": "stdout",
     "output_type": "stream",
     "text": [
      "Downloading data for Russell 2000 (^RUT)...\n",
      "Downloading data for MSCI World (URTH)...\n"
     ]
    },
    {
     "name": "stderr",
     "output_type": "stream",
     "text": [
      "[*********************100%***********************]  1 of 1 completed\n",
      "[*********************100%***********************]  1 of 1 completed\n"
     ]
    },
    {
     "name": "stdout",
     "output_type": "stream",
     "text": [
      "Downloading data for Euro Stoxx 50 (^STOXX50E)...\n",
      "Downloading data for Nikkei 225 (^N225)...\n"
     ]
    },
    {
     "name": "stderr",
     "output_type": "stream",
     "text": [
      "[*********************100%***********************]  1 of 1 completed\n",
      "[*********************100%***********************]  1 of 1 completed\n"
     ]
    },
    {
     "name": "stdout",
     "output_type": "stream",
     "text": [
      "Downloading data for Shanghai Composite (000001.SS)...\n",
      "Downloading data for FTSE 100 (^FTSE)...\n"
     ]
    },
    {
     "name": "stderr",
     "output_type": "stream",
     "text": [
      "[*********************100%***********************]  1 of 1 completed\n",
      "[*********************100%***********************]  1 of 1 completed\n"
     ]
    },
    {
     "name": "stdout",
     "output_type": "stream",
     "text": [
      "Downloading data for DAX (^GDAXI)...\n",
      "Downloading data for Hang Seng (^HSI)...\n"
     ]
    },
    {
     "name": "stderr",
     "output_type": "stream",
     "text": [
      "[*********************100%***********************]  1 of 1 completed\n",
      "[*********************100%***********************]  1 of 1 completed\n"
     ]
    },
    {
     "name": "stdout",
     "output_type": "stream",
     "text": [
      "Downloading data for KOSPI (^KS11)...\n",
      "Downloading data for ASX 200 (^AXJO)...\n"
     ]
    },
    {
     "name": "stderr",
     "output_type": "stream",
     "text": [
      "[*********************100%***********************]  1 of 1 completed\n",
      "[*********************100%***********************]  1 of 1 completed\n"
     ]
    },
    {
     "name": "stdout",
     "output_type": "stream",
     "text": [
      "Downloading data for CAC 40 (^FCHI)...\n",
      "Downloading data for S&P/TSX (^GSPTSE)...\n"
     ]
    },
    {
     "name": "stderr",
     "output_type": "stream",
     "text": [
      "[*********************100%***********************]  1 of 1 completed\n",
      "[*********************100%***********************]  1 of 1 completed\n"
     ]
    },
    {
     "name": "stdout",
     "output_type": "stream",
     "text": [
      "Downloading data for Bovespa (^BVSP)...\n",
      "Downloading data for Sensex (^BSESN)...\n"
     ]
    },
    {
     "name": "stderr",
     "output_type": "stream",
     "text": [
      "[*********************100%***********************]  1 of 1 completed\n",
      "[*********************100%***********************]  1 of 1 completed\n"
     ]
    },
    {
     "name": "stdout",
     "output_type": "stream",
     "text": [
      "Downloading data for Nifty 50 (^NSEI)...\n",
      "Downloading data for IBEX 35 (^IBEX)...\n"
     ]
    },
    {
     "name": "stderr",
     "output_type": "stream",
     "text": [
      "[*********************100%***********************]  1 of 1 completed\n",
      "[*********************100%***********************]  1 of 1 completed\n",
      "[*********************100%***********************]  1 of 1 completed\n",
      "\n",
      "1 Failed download:\n",
      "['JTOPI.JO']: YFTzMissingError('$%ticker%: possibly delisted; no timezone found')\n"
     ]
    },
    {
     "name": "stdout",
     "output_type": "stream",
     "text": [
      "Downloading data for MOEX Russia (IMOEX.ME)...\n",
      "Downloading data for South Africa Top 40 (JTOPI.JO)...\n",
      "Downloading data for KLCI (^KLSE)...\n"
     ]
    },
    {
     "name": "stderr",
     "output_type": "stream",
     "text": [
      "[*********************100%***********************]  1 of 1 completed\n",
      "[*********************100%***********************]  1 of 1 completed\n"
     ]
    },
    {
     "name": "stdout",
     "output_type": "stream",
     "text": [
      "Downloading data for TSEC Weighted Index (^TWII)...\n",
      "Downloading data for Straits Times (^STI)...\n"
     ]
    },
    {
     "name": "stderr",
     "output_type": "stream",
     "text": [
      "[*********************100%***********************]  1 of 1 completed\n",
      "[*********************100%***********************]  1 of 1 completed\n"
     ]
    },
    {
     "name": "stdout",
     "output_type": "stream",
     "text": [
      "Downloading data for NZ 50 (^NZ50)...\n",
      "Downloading data for Argentina Merval (^MERV)...\n"
     ]
    },
    {
     "name": "stderr",
     "output_type": "stream",
     "text": [
      "[*********************100%***********************]  1 of 1 completed\n",
      "[*********************100%***********************]  1 of 1 completed\n",
      "\n",
      "1 Failed download:\n",
      "['^TASI']: YFTzMissingError('$%ticker%: possibly delisted; no timezone found')\n",
      "[*********************100%***********************]  1 of 1 completed\n"
     ]
    },
    {
     "name": "stdout",
     "output_type": "stream",
     "text": [
      "Downloading data for Saudi Tadawul (^TASI)...\n",
      "Downloading data for Mexican IPC (^MXX)...\n",
      "Downloading data for Turkey BIST 100 (XU100.IS)...\n"
     ]
    },
    {
     "name": "stderr",
     "output_type": "stream",
     "text": [
      "[*********************100%***********************]  1 of 1 completed\n",
      "[*********************100%***********************]  1 of 1 completed\n",
      "\n",
      "1 Failed download:\n",
      "['TA125.TA']: YFTzMissingError('$%ticker%: possibly delisted; no timezone found')\n",
      "[*********************100%***********************]  1 of 1 completed\n",
      "\n",
      "1 Failed download:\n",
      "['^VNINDEX']: YFTzMissingError('$%ticker%: possibly delisted; no timezone found')\n",
      "[*********************100%***********************]  1 of 1 completed\n",
      "\n",
      "1 Failed download:\n",
      "['^PSEI']: YFTzMissingError('$%ticker%: possibly delisted; no timezone found')\n"
     ]
    },
    {
     "name": "stdout",
     "output_type": "stream",
     "text": [
      "Downloading data for Israel TA-125 (TA125.TA)...\n",
      "Downloading data for Vietnam VN-Index (^VNINDEX)...\n",
      "Downloading data for Philippine PSEi (^PSEI)...\n",
      "Downloading data for Thailand SET (^SET.BK)...\n"
     ]
    },
    {
     "name": "stderr",
     "output_type": "stream",
     "text": [
      "[*********************100%***********************]  1 of 1 completed\n",
      "[*********************100%***********************]  1 of 1 completed\n",
      "[*********************100%***********************]  1 of 1 completed\n",
      "\n",
      "1 Failed download:\n",
      "['^COLCAP']: YFTzMissingError('$%ticker%: possibly delisted; no timezone found')\n"
     ]
    },
    {
     "name": "stdout",
     "output_type": "stream",
     "text": [
      "Downloading data for Indonesia Jakarta Composite (^JKSE)...\n",
      "Downloading data for Colombia COLCAP (^COLCAP)...\n",
      "Downloading data for Chile IPSA (^IPSA)...\n"
     ]
    },
    {
     "name": "stderr",
     "output_type": "stream",
     "text": [
      "[*********************100%***********************]  1 of 1 completed\n",
      "\n",
      "1 Failed download:\n",
      "['^IPSA']: YFPricesMissingError('$%ticker%: possibly delisted; no price data found  (1d 2023-01-01 -> 2023-12-31)')\n",
      "[*********************100%***********************]  1 of 1 completed\n",
      "\n",
      "1 Failed download:\n",
      "['^SPBLPGPT']: YFPricesMissingError('$%ticker%: possibly delisted; no price data found  (1d 2023-01-01 -> 2023-12-31)')\n"
     ]
    },
    {
     "name": "stdout",
     "output_type": "stream",
     "text": [
      "Downloading data for Peru S&P/BVL (^SPBLPGPT)...\n",
      "Downloading data for Pakistan KSE 100 (^KSE)...\n"
     ]
    },
    {
     "name": "stderr",
     "output_type": "stream",
     "text": [
      "[*********************100%***********************]  1 of 1 completed\n",
      "\n",
      "1 Failed download:\n",
      "['^KSE']: YFPricesMissingError('$%ticker%: possibly delisted; no price data found  (1d 2023-01-01 -> 2023-12-31)')\n",
      "[*********************100%***********************]  1 of 1 completed\n",
      "\n",
      "1 Failed download:\n",
      "['^DSEX']: YFTzMissingError('$%ticker%: possibly delisted; no timezone found')\n",
      "[*********************100%***********************]  1 of 1 completed\n",
      "\n",
      "1 Failed download:\n",
      "['^ADXG']: YFTzMissingError('$%ticker%: possibly delisted; no timezone found')\n",
      "[*********************100%***********************]  1 of 1 completed\n",
      "\n",
      "1 Failed download:\n",
      "['^QE']: YFTzMissingError('$%ticker%: possibly delisted; no timezone found')\n"
     ]
    },
    {
     "name": "stdout",
     "output_type": "stream",
     "text": [
      "Downloading data for Bangladesh DSE General (^DSEX)...\n",
      "Downloading data for UAE ADX General (^ADXG)...\n",
      "Downloading data for Qatar QE Index (^QE)...\n",
      "Data downloaded successfully and saved to 'global_indices.csv'\n"
     ]
    }
   ],
   "source": [
    "import yfinance as yf\n",
    "import pandas as pd\n",
    "\n",
    "# 글로벌 주요 지수 심볼 리스트\n",
    "index_symbols = {\n",
    "    \"S&P 500\": \"^GSPC\",\n",
    "    \"NASDAQ 100\": \"^NDX\",\n",
    "    \"Dow Jones\": \"^DJI\",\n",
    "    \"Russell 2000\": \"^RUT\",\n",
    "    \"MSCI World\": \"URTH\",\n",
    "    \"Euro Stoxx 50\": \"^STOXX50E\",\n",
    "    \"Nikkei 225\": \"^N225\",\n",
    "    \"Shanghai Composite\": \"000001.SS\",\n",
    "    \"FTSE 100\": \"^FTSE\",\n",
    "    \"DAX\": \"^GDAXI\",\n",
    "    \"Hang Seng\": \"^HSI\",\n",
    "    \"KOSPI\": \"^KS11\",\n",
    "    \"ASX 200\": \"^AXJO\",\n",
    "    \"CAC 40\": \"^FCHI\",\n",
    "    \"S&P/TSX\": \"^GSPTSE\",\n",
    "    \"Bovespa\": \"^BVSP\",\n",
    "    \"Sensex\": \"^BSESN\",\n",
    "    \"Nifty 50\": \"^NSEI\",\n",
    "    \"IBEX 35\": \"^IBEX\",\n",
    "    \"MOEX Russia\": \"IMOEX.ME\",\n",
    "    \"South Africa Top 40\": \"JTOPI.JO\",\n",
    "    \"KLCI\": \"^KLSE\",\n",
    "    \"TSEC Weighted Index\": \"^TWII\",\n",
    "    \"Straits Times\": \"^STI\",\n",
    "    \"NZ 50\": \"^NZ50\",\n",
    "    \"Argentina Merval\": \"^MERV\",\n",
    "    \"Saudi Tadawul\": \"^TASI\",\n",
    "    \"Mexican IPC\": \"^MXX\",\n",
    "    \"Turkey BIST 100\": \"XU100.IS\",\n",
    "    \"Israel TA-125\": \"TA125.TA\",\n",
    "    \"Vietnam VN-Index\": \"^VNINDEX\",\n",
    "    \"Philippine PSEi\": \"^PSEI\",\n",
    "    \"Thailand SET\": \"^SET.BK\",\n",
    "    \"Indonesia Jakarta Composite\": \"^JKSE\",\n",
    "    \"Colombia COLCAP\": \"^COLCAP\",\n",
    "    \"Chile IPSA\": \"^IPSA\",\n",
    "    \"Peru S&P/BVL\": \"^SPBLPGPT\",\n",
    "    \"Pakistan KSE 100\": \"^KSE\",\n",
    "    \"Bangladesh DSE General\": \"^DSEX\",\n",
    "    \"UAE ADX General\": \"^ADXG\",\n",
    "    \"Qatar QE Index\": \"^QE\"\n",
    "}\n",
    "\n",
    "# 데이터 크롤링 함수\n",
    "def download_global_indices(symbols, start_date, end_date):\n",
    "    all_data = {}\n",
    "    for index_name, symbol in symbols.items():\n",
    "        print(f\"Downloading data for {index_name} ({symbol})...\")\n",
    "        try:\n",
    "            # yfinance를 통해 데이터 다운로드\n",
    "            data = yf.download(symbol, start=start_date, end=end_date)\n",
    "            all_data[index_name] = data[\"Adj Close\"]\n",
    "        except Exception as e:\n",
    "            print(f\"Failed to download {index_name}: {e}\")\n",
    "    return pd.DataFrame(all_data)\n",
    "\n",
    "# 데이터 다운로드 설정\n",
    "start_date = \"2023-01-01\"\n",
    "end_date = \"2023-12-31\"\n",
    "\n",
    "data = download_global_indices(index_symbols, start_date, end_date)\n",
    "\n",
    "# 결과 저장\n",
    "data.to_csv(\"global_indices.csv\")\n",
    "\n",
    "print(\"Data downloaded successfully and saved to 'global_indices.csv'\")\n"
   ]
  },
  {
   "cell_type": "code",
   "execution_count": null,
   "metadata": {},
   "outputs": [],
   "source": []
  }
 ],
 "metadata": {
  "kernelspec": {
   "display_name": "base",
   "language": "python",
   "name": "python3"
  },
  "language_info": {
   "codemirror_mode": {
    "name": "ipython",
    "version": 3
   },
   "file_extension": ".py",
   "mimetype": "text/x-python",
   "name": "python",
   "nbconvert_exporter": "python",
   "pygments_lexer": "ipython3",
   "version": "3.11.7"
  }
 },
 "nbformat": 4,
 "nbformat_minor": 2
}
