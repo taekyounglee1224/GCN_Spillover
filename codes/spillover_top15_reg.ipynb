{
 "cells": [
  {
   "cell_type": "code",
   "execution_count": 1,
   "metadata": {},
   "outputs": [],
   "source": [
    "import pandas as pd\n",
    "import numpy as np\n",
    "import matplotlib.pyplot as plt\n",
    "import networkx as nx\n",
    "from torch_geometric.data import Data\n",
    "from torch_geometric.utils import from_networkx\n",
    "import torch\n",
    "from torch_geometric.nn import GCNConv\n",
    "from torch_geometric.nn import GATConv\n",
    "import torch.nn.functional as F\n",
    "from sklearn.model_selection import train_test_split\n",
    "import pandas as pd\n",
    "import numpy as np\n",
    "from sklearn.linear_model import LogisticRegression\n",
    "from sklearn.ensemble import RandomForestRegressor\n",
    "from sklearn.ensemble import GradientBoostingRegressor\n",
    "from sklearn.neural_network import MLPRegressor\n",
    "from sklearn.neighbors import KNeighborsRegressor\n",
    "from sklearn.svm import SVR\n",
    "from sklearn.metrics import mean_squared_error, mean_absolute_error, r2_score\n",
    "from scipy.stats import norm\n",
    "from scipy.stats import ttest_ind\n",
    "import itertools\n",
    "from tqdm import tqdm"
   ]
  },
  {
   "cell_type": "markdown",
   "metadata": {},
   "source": [
    "### **1. 데이터 불러오기**\n",
    "\n",
    "- yahoo finance를 통해 글로벌 인덱스 지수의 종가 데이터 크롤링 하였음\n",
    "- 기간 : 2005.01.01 ~ 2024.12.31 (20년치)\n",
    "- 전처리 : 결측치는 drop과 backfill로 처리\n",
    "- 최종 데이터 : 248 * 26\n"
   ]
  },
  {
   "cell_type": "code",
   "execution_count": 2,
   "metadata": {},
   "outputs": [
    {
     "data": {
      "text/html": [
       "<div>\n",
       "<style scoped>\n",
       "    .dataframe tbody tr th:only-of-type {\n",
       "        vertical-align: middle;\n",
       "    }\n",
       "\n",
       "    .dataframe tbody tr th {\n",
       "        vertical-align: top;\n",
       "    }\n",
       "\n",
       "    .dataframe thead th {\n",
       "        text-align: right;\n",
       "    }\n",
       "</style>\n",
       "<table border=\"1\" class=\"dataframe\">\n",
       "  <thead>\n",
       "    <tr style=\"text-align: right;\">\n",
       "      <th></th>\n",
       "      <th>Date</th>\n",
       "      <th>Turkey BIST 100</th>\n",
       "      <th>Hang Seng</th>\n",
       "      <th>NASDAQ 100</th>\n",
       "      <th>S&amp;P 500</th>\n",
       "      <th>Mexican IPC</th>\n",
       "      <th>FTSE 100</th>\n",
       "      <th>Dow Jones</th>\n",
       "      <th>Russell 2000</th>\n",
       "      <th>S&amp;P/TSX</th>\n",
       "      <th>Nikkei 225</th>\n",
       "      <th>IBEX 35</th>\n",
       "      <th>DAX</th>\n",
       "      <th>Bovespa</th>\n",
       "      <th>Straits Times</th>\n",
       "      <th>CAC 40</th>\n",
       "    </tr>\n",
       "  </thead>\n",
       "  <tbody>\n",
       "    <tr>\n",
       "      <th>1003</th>\n",
       "      <td>2003-12-31 00:00:00</td>\n",
       "      <td>18625.000000</td>\n",
       "      <td>12575.940430</td>\n",
       "      <td>1467.920044</td>\n",
       "      <td>1111.920044</td>\n",
       "      <td>8795.280273</td>\n",
       "      <td>4476.899902</td>\n",
       "      <td>10453.919922</td>\n",
       "      <td>556.909973</td>\n",
       "      <td>8220.900391</td>\n",
       "      <td>10825.169922</td>\n",
       "      <td>7879.192383</td>\n",
       "      <td>4018.500000</td>\n",
       "      <td>22445.0</td>\n",
       "      <td>1764.520020</td>\n",
       "      <td>3557.899902</td>\n",
       "    </tr>\n",
       "    <tr>\n",
       "      <th>1004</th>\n",
       "      <td>2004-01-02 00:00:00</td>\n",
       "      <td>19147.699219</td>\n",
       "      <td>12801.480469</td>\n",
       "      <td>1463.569946</td>\n",
       "      <td>1108.479980</td>\n",
       "      <td>8818.190430</td>\n",
       "      <td>4510.200195</td>\n",
       "      <td>10409.849609</td>\n",
       "      <td>560.849976</td>\n",
       "      <td>8293.700195</td>\n",
       "      <td>10825.169922</td>\n",
       "      <td>7879.192383</td>\n",
       "      <td>4018.500000</td>\n",
       "      <td>22445.0</td>\n",
       "      <td>1791.349976</td>\n",
       "      <td>3596.800049</td>\n",
       "    </tr>\n",
       "    <tr>\n",
       "      <th>1005</th>\n",
       "      <td>2004-01-05 00:00:00</td>\n",
       "      <td>19696.599609</td>\n",
       "      <td>13005.330078</td>\n",
       "      <td>1496.579956</td>\n",
       "      <td>1122.219971</td>\n",
       "      <td>9054.110352</td>\n",
       "      <td>4513.299805</td>\n",
       "      <td>10544.070312</td>\n",
       "      <td>568.919983</td>\n",
       "      <td>8381.700195</td>\n",
       "      <td>10825.169922</td>\n",
       "      <td>7911.392090</td>\n",
       "      <td>4035.899902</td>\n",
       "      <td>23532.0</td>\n",
       "      <td>1828.660034</td>\n",
       "      <td>3608.290039</td>\n",
       "    </tr>\n",
       "    <tr>\n",
       "      <th>1006</th>\n",
       "      <td>2004-01-06 00:00:00</td>\n",
       "      <td>19013.800781</td>\n",
       "      <td>13036.320312</td>\n",
       "      <td>1501.260010</td>\n",
       "      <td>1123.670044</td>\n",
       "      <td>9038.459961</td>\n",
       "      <td>4505.200195</td>\n",
       "      <td>10538.660156</td>\n",
       "      <td>569.890015</td>\n",
       "      <td>8405.099609</td>\n",
       "      <td>10813.990234</td>\n",
       "      <td>7913.692383</td>\n",
       "      <td>4035.439941</td>\n",
       "      <td>23576.0</td>\n",
       "      <td>1828.719971</td>\n",
       "      <td>3595.820068</td>\n",
       "    </tr>\n",
       "    <tr>\n",
       "      <th>1007</th>\n",
       "      <td>2004-01-07 00:00:00</td>\n",
       "      <td>19382.800781</td>\n",
       "      <td>13157.679688</td>\n",
       "      <td>1514.260010</td>\n",
       "      <td>1126.329956</td>\n",
       "      <td>9098.219727</td>\n",
       "      <td>4473.000000</td>\n",
       "      <td>10529.030273</td>\n",
       "      <td>574.619995</td>\n",
       "      <td>8388.500000</td>\n",
       "      <td>10757.820312</td>\n",
       "      <td>7913.692383</td>\n",
       "      <td>4004.399902</td>\n",
       "      <td>23320.0</td>\n",
       "      <td>1835.959961</td>\n",
       "      <td>3563.510010</td>\n",
       "    </tr>\n",
       "    <tr>\n",
       "      <th>...</th>\n",
       "      <td>...</td>\n",
       "      <td>...</td>\n",
       "      <td>...</td>\n",
       "      <td>...</td>\n",
       "      <td>...</td>\n",
       "      <td>...</td>\n",
       "      <td>...</td>\n",
       "      <td>...</td>\n",
       "      <td>...</td>\n",
       "      <td>...</td>\n",
       "      <td>...</td>\n",
       "      <td>...</td>\n",
       "      <td>...</td>\n",
       "      <td>...</td>\n",
       "      <td>...</td>\n",
       "      <td>...</td>\n",
       "    </tr>\n",
       "    <tr>\n",
       "      <th>6283</th>\n",
       "      <td>2024-12-23 00:00:00</td>\n",
       "      <td>9626.599609</td>\n",
       "      <td>19883.130859</td>\n",
       "      <td>21503.169922</td>\n",
       "      <td>5974.069824</td>\n",
       "      <td>49450.890625</td>\n",
       "      <td>8102.700195</td>\n",
       "      <td>42906.949219</td>\n",
       "      <td>2237.439941</td>\n",
       "      <td>24749.000000</td>\n",
       "      <td>39161.339844</td>\n",
       "      <td>11435.700195</td>\n",
       "      <td>19848.769531</td>\n",
       "      <td>120767.0</td>\n",
       "      <td>3752.330078</td>\n",
       "      <td>7272.319824</td>\n",
       "    </tr>\n",
       "    <tr>\n",
       "      <th>6284</th>\n",
       "      <td>2024-12-24 00:00:00</td>\n",
       "      <td>9672.799805</td>\n",
       "      <td>20098.289062</td>\n",
       "      <td>21797.650391</td>\n",
       "      <td>6040.040039</td>\n",
       "      <td>49316.621094</td>\n",
       "      <td>8137.000000</td>\n",
       "      <td>43297.031250</td>\n",
       "      <td>2259.850098</td>\n",
       "      <td>24846.800781</td>\n",
       "      <td>39036.851562</td>\n",
       "      <td>11473.900391</td>\n",
       "      <td>19984.320312</td>\n",
       "      <td>121078.0</td>\n",
       "      <td>3769.550049</td>\n",
       "      <td>7282.689941</td>\n",
       "    </tr>\n",
       "    <tr>\n",
       "      <th>6285</th>\n",
       "      <td>2024-12-26 00:00:00</td>\n",
       "      <td>9949.000000</td>\n",
       "      <td>20090.460938</td>\n",
       "      <td>21768.310547</td>\n",
       "      <td>6037.589844</td>\n",
       "      <td>49535.578125</td>\n",
       "      <td>8149.799805</td>\n",
       "      <td>43325.800781</td>\n",
       "      <td>2280.189941</td>\n",
       "      <td>24796.400391</td>\n",
       "      <td>39568.058594</td>\n",
       "      <td>11531.599609</td>\n",
       "      <td>19984.320312</td>\n",
       "      <td>121078.0</td>\n",
       "      <td>3761.449951</td>\n",
       "      <td>7355.370117</td>\n",
       "    </tr>\n",
       "    <tr>\n",
       "      <th>6286</th>\n",
       "      <td>2024-12-27 00:00:00</td>\n",
       "      <td>10025.500000</td>\n",
       "      <td>20090.460938</td>\n",
       "      <td>21473.019531</td>\n",
       "      <td>5970.839844</td>\n",
       "      <td>49290.578125</td>\n",
       "      <td>8149.799805</td>\n",
       "      <td>42992.210938</td>\n",
       "      <td>2244.590088</td>\n",
       "      <td>24796.400391</td>\n",
       "      <td>40281.160156</td>\n",
       "      <td>11531.599609</td>\n",
       "      <td>19984.320312</td>\n",
       "      <td>120269.0</td>\n",
       "      <td>3771.629883</td>\n",
       "      <td>7355.370117</td>\n",
       "    </tr>\n",
       "    <tr>\n",
       "      <th>6287</th>\n",
       "      <td>2024-12-30 00:00:00</td>\n",
       "      <td>9889.700195</td>\n",
       "      <td>20041.419922</td>\n",
       "      <td>21197.089844</td>\n",
       "      <td>5906.939941</td>\n",
       "      <td>48837.718750</td>\n",
       "      <td>8121.000000</td>\n",
       "      <td>42573.730469</td>\n",
       "      <td>2227.780029</td>\n",
       "      <td>24620.599609</td>\n",
       "      <td>39894.539062</td>\n",
       "      <td>11536.799805</td>\n",
       "      <td>19909.140625</td>\n",
       "      <td>120283.0</td>\n",
       "      <td>3795.729980</td>\n",
       "      <td>7313.560059</td>\n",
       "    </tr>\n",
       "  </tbody>\n",
       "</table>\n",
       "<p>5285 rows × 16 columns</p>\n",
       "</div>"
      ],
      "text/plain": [
       "                     Date  Turkey BIST 100     Hang Seng    NASDAQ 100  \\\n",
       "1003  2003-12-31 00:00:00     18625.000000  12575.940430   1467.920044   \n",
       "1004  2004-01-02 00:00:00     19147.699219  12801.480469   1463.569946   \n",
       "1005  2004-01-05 00:00:00     19696.599609  13005.330078   1496.579956   \n",
       "1006  2004-01-06 00:00:00     19013.800781  13036.320312   1501.260010   \n",
       "1007  2004-01-07 00:00:00     19382.800781  13157.679688   1514.260010   \n",
       "...                   ...              ...           ...           ...   \n",
       "6283  2024-12-23 00:00:00      9626.599609  19883.130859  21503.169922   \n",
       "6284  2024-12-24 00:00:00      9672.799805  20098.289062  21797.650391   \n",
       "6285  2024-12-26 00:00:00      9949.000000  20090.460938  21768.310547   \n",
       "6286  2024-12-27 00:00:00     10025.500000  20090.460938  21473.019531   \n",
       "6287  2024-12-30 00:00:00      9889.700195  20041.419922  21197.089844   \n",
       "\n",
       "          S&P 500   Mexican IPC     FTSE 100     Dow Jones  Russell 2000  \\\n",
       "1003  1111.920044   8795.280273  4476.899902  10453.919922    556.909973   \n",
       "1004  1108.479980   8818.190430  4510.200195  10409.849609    560.849976   \n",
       "1005  1122.219971   9054.110352  4513.299805  10544.070312    568.919983   \n",
       "1006  1123.670044   9038.459961  4505.200195  10538.660156    569.890015   \n",
       "1007  1126.329956   9098.219727  4473.000000  10529.030273    574.619995   \n",
       "...           ...           ...          ...           ...           ...   \n",
       "6283  5974.069824  49450.890625  8102.700195  42906.949219   2237.439941   \n",
       "6284  6040.040039  49316.621094  8137.000000  43297.031250   2259.850098   \n",
       "6285  6037.589844  49535.578125  8149.799805  43325.800781   2280.189941   \n",
       "6286  5970.839844  49290.578125  8149.799805  42992.210938   2244.590088   \n",
       "6287  5906.939941  48837.718750  8121.000000  42573.730469   2227.780029   \n",
       "\n",
       "           S&P/TSX    Nikkei 225       IBEX 35           DAX   Bovespa  \\\n",
       "1003   8220.900391  10825.169922   7879.192383   4018.500000   22445.0   \n",
       "1004   8293.700195  10825.169922   7879.192383   4018.500000   22445.0   \n",
       "1005   8381.700195  10825.169922   7911.392090   4035.899902   23532.0   \n",
       "1006   8405.099609  10813.990234   7913.692383   4035.439941   23576.0   \n",
       "1007   8388.500000  10757.820312   7913.692383   4004.399902   23320.0   \n",
       "...            ...           ...           ...           ...       ...   \n",
       "6283  24749.000000  39161.339844  11435.700195  19848.769531  120767.0   \n",
       "6284  24846.800781  39036.851562  11473.900391  19984.320312  121078.0   \n",
       "6285  24796.400391  39568.058594  11531.599609  19984.320312  121078.0   \n",
       "6286  24796.400391  40281.160156  11531.599609  19984.320312  120269.0   \n",
       "6287  24620.599609  39894.539062  11536.799805  19909.140625  120283.0   \n",
       "\n",
       "      Straits Times       CAC 40  \n",
       "1003    1764.520020  3557.899902  \n",
       "1004    1791.349976  3596.800049  \n",
       "1005    1828.660034  3608.290039  \n",
       "1006    1828.719971  3595.820068  \n",
       "1007    1835.959961  3563.510010  \n",
       "...             ...          ...  \n",
       "6283    3752.330078  7272.319824  \n",
       "6284    3769.550049  7282.689941  \n",
       "6285    3761.449951  7355.370117  \n",
       "6286    3771.629883  7355.370117  \n",
       "6287    3795.729980  7313.560059  \n",
       "\n",
       "[5285 rows x 16 columns]"
      ]
     },
     "execution_count": 2,
     "metadata": {},
     "output_type": "execute_result"
    }
   ],
   "source": [
    "\n",
    "index_close = pd.read_csv('data/global_indices.csv')\n",
    "index_volume = pd.read_csv('data/global_indices_volume.csv')\n",
    "\n",
    "index_close = index_close.iloc[1003:6288]\n",
    "index_volume = index_volume.iloc[1003:6288]\n",
    "\n",
    "# 삭제하려는 컬럼 리스트\n",
    "columns_to_drop = [ 'MSCI World', 'Euro Stoxx 50', 'Nifty 50', 'MOEX Russia',\n",
    "    'South Africa Top 40', 'Saudi Tadawul', 'Israel TA-125', 'Vietnam VN-Index', 'Philippine PSEi',\n",
    "    'Colombia COLCAP', 'Chile IPSA', 'Peru S&P/BVL', 'Pakistan KSE 100', 'Bangladesh DSE General',\n",
    "    'UAE ADX General', 'Qatar QE Index'\n",
    "]\n",
    "\n",
    "index_close = index_close.drop(columns=columns_to_drop, errors='ignore')\n",
    "index_volume = index_volume.drop(columns=columns_to_drop, errors='ignore')\n",
    "\n",
    "index_close = index_close.fillna(method='bfill')\n",
    "index_volume = index_volume.fillna(method = 'bfill')\n",
    "\n",
    "\n",
    "date_column = index_close.iloc[:, 0]  # 첫 번째 열\n",
    "\n",
    "close_data = index_close.iloc[:, 1:]  # 두 번째 열부터\n",
    "volume_data = index_volume.iloc[:, 1:]  # 두 번째 열부터\n",
    "\n",
    "market_cap_data = close_data * volume_data\n",
    "market_cap = pd.concat([date_column, market_cap_data], axis=1)\n",
    "\n",
    "total_market_cap = market_cap.iloc[:, 1:].sum()\n",
    "top_15_columns = total_market_cap.nlargest(15).index\n",
    "top_15_market_cap = market_cap[[\"Date\"] + list(top_15_columns)]\n",
    "\n",
    "top_15_columns = top_15_market_cap.columns[1:]  # 날짜 열 제외\n",
    "\n",
    "index = index_close[[\"Date\"] + list(top_15_columns)]\n",
    "index\n",
    "\n"
   ]
  },
  {
   "cell_type": "markdown",
   "metadata": {},
   "source": [
    "### **2. 수익률 데이터로 변환**\n",
    "\n",
    "- 종가 데이터를 1일 수익률 데이터로 변환"
   ]
  },
  {
   "cell_type": "code",
   "execution_count": 3,
   "metadata": {},
   "outputs": [
    {
     "data": {
      "text/html": [
       "<div>\n",
       "<style scoped>\n",
       "    .dataframe tbody tr th:only-of-type {\n",
       "        vertical-align: middle;\n",
       "    }\n",
       "\n",
       "    .dataframe tbody tr th {\n",
       "        vertical-align: top;\n",
       "    }\n",
       "\n",
       "    .dataframe thead th {\n",
       "        text-align: right;\n",
       "    }\n",
       "</style>\n",
       "<table border=\"1\" class=\"dataframe\">\n",
       "  <thead>\n",
       "    <tr style=\"text-align: right;\">\n",
       "      <th></th>\n",
       "      <th>Turkey BIST 100</th>\n",
       "      <th>Hang Seng</th>\n",
       "      <th>NASDAQ 100</th>\n",
       "      <th>S&amp;P 500</th>\n",
       "      <th>Mexican IPC</th>\n",
       "      <th>FTSE 100</th>\n",
       "      <th>Dow Jones</th>\n",
       "      <th>Russell 2000</th>\n",
       "      <th>S&amp;P/TSX</th>\n",
       "      <th>Nikkei 225</th>\n",
       "      <th>IBEX 35</th>\n",
       "      <th>DAX</th>\n",
       "      <th>Bovespa</th>\n",
       "      <th>Straits Times</th>\n",
       "      <th>CAC 40</th>\n",
       "    </tr>\n",
       "    <tr>\n",
       "      <th>Date</th>\n",
       "      <th></th>\n",
       "      <th></th>\n",
       "      <th></th>\n",
       "      <th></th>\n",
       "      <th></th>\n",
       "      <th></th>\n",
       "      <th></th>\n",
       "      <th></th>\n",
       "      <th></th>\n",
       "      <th></th>\n",
       "      <th></th>\n",
       "      <th></th>\n",
       "      <th></th>\n",
       "      <th></th>\n",
       "      <th></th>\n",
       "    </tr>\n",
       "  </thead>\n",
       "  <tbody>\n",
       "    <tr>\n",
       "      <th>2004-01-02</th>\n",
       "      <td>0.028064</td>\n",
       "      <td>0.017934</td>\n",
       "      <td>-0.002963</td>\n",
       "      <td>-0.003094</td>\n",
       "      <td>0.002605</td>\n",
       "      <td>0.007438</td>\n",
       "      <td>-0.004216</td>\n",
       "      <td>0.007075</td>\n",
       "      <td>0.008855</td>\n",
       "      <td>0.000000</td>\n",
       "      <td>0.000000</td>\n",
       "      <td>0.000000</td>\n",
       "      <td>0.000000</td>\n",
       "      <td>0.015205</td>\n",
       "      <td>0.010933</td>\n",
       "    </tr>\n",
       "    <tr>\n",
       "      <th>2004-01-05</th>\n",
       "      <td>0.028667</td>\n",
       "      <td>0.015924</td>\n",
       "      <td>0.022554</td>\n",
       "      <td>0.012395</td>\n",
       "      <td>0.026754</td>\n",
       "      <td>0.000687</td>\n",
       "      <td>0.012894</td>\n",
       "      <td>0.014389</td>\n",
       "      <td>0.010610</td>\n",
       "      <td>0.000000</td>\n",
       "      <td>0.004087</td>\n",
       "      <td>0.004330</td>\n",
       "      <td>0.048429</td>\n",
       "      <td>0.020828</td>\n",
       "      <td>0.003195</td>\n",
       "    </tr>\n",
       "    <tr>\n",
       "      <th>2004-01-06</th>\n",
       "      <td>-0.034666</td>\n",
       "      <td>0.002383</td>\n",
       "      <td>0.003127</td>\n",
       "      <td>0.001292</td>\n",
       "      <td>-0.001729</td>\n",
       "      <td>-0.001795</td>\n",
       "      <td>-0.000513</td>\n",
       "      <td>0.001705</td>\n",
       "      <td>0.002792</td>\n",
       "      <td>-0.001033</td>\n",
       "      <td>0.000291</td>\n",
       "      <td>-0.000114</td>\n",
       "      <td>0.001870</td>\n",
       "      <td>0.000033</td>\n",
       "      <td>-0.003456</td>\n",
       "    </tr>\n",
       "    <tr>\n",
       "      <th>2004-01-07</th>\n",
       "      <td>0.019407</td>\n",
       "      <td>0.009309</td>\n",
       "      <td>0.008659</td>\n",
       "      <td>0.002367</td>\n",
       "      <td>0.006612</td>\n",
       "      <td>-0.007147</td>\n",
       "      <td>-0.000914</td>\n",
       "      <td>0.008300</td>\n",
       "      <td>-0.001975</td>\n",
       "      <td>-0.005194</td>\n",
       "      <td>0.000000</td>\n",
       "      <td>-0.007692</td>\n",
       "      <td>-0.010859</td>\n",
       "      <td>0.003959</td>\n",
       "      <td>-0.008985</td>\n",
       "    </tr>\n",
       "    <tr>\n",
       "      <th>2004-01-08</th>\n",
       "      <td>0.001140</td>\n",
       "      <td>0.003489</td>\n",
       "      <td>0.010824</td>\n",
       "      <td>0.004963</td>\n",
       "      <td>0.007869</td>\n",
       "      <td>0.004740</td>\n",
       "      <td>0.006022</td>\n",
       "      <td>0.008701</td>\n",
       "      <td>-0.000250</td>\n",
       "      <td>0.007421</td>\n",
       "      <td>0.003753</td>\n",
       "      <td>0.010246</td>\n",
       "      <td>0.017024</td>\n",
       "      <td>0.003116</td>\n",
       "      <td>0.008200</td>\n",
       "    </tr>\n",
       "    <tr>\n",
       "      <th>...</th>\n",
       "      <td>...</td>\n",
       "      <td>...</td>\n",
       "      <td>...</td>\n",
       "      <td>...</td>\n",
       "      <td>...</td>\n",
       "      <td>...</td>\n",
       "      <td>...</td>\n",
       "      <td>...</td>\n",
       "      <td>...</td>\n",
       "      <td>...</td>\n",
       "      <td>...</td>\n",
       "      <td>...</td>\n",
       "      <td>...</td>\n",
       "      <td>...</td>\n",
       "      <td>...</td>\n",
       "    </tr>\n",
       "    <tr>\n",
       "      <th>2024-12-23</th>\n",
       "      <td>-0.010067</td>\n",
       "      <td>0.008237</td>\n",
       "      <td>0.010053</td>\n",
       "      <td>0.007287</td>\n",
       "      <td>-0.002729</td>\n",
       "      <td>0.002239</td>\n",
       "      <td>0.001557</td>\n",
       "      <td>-0.002199</td>\n",
       "      <td>0.006077</td>\n",
       "      <td>0.011871</td>\n",
       "      <td>-0.002756</td>\n",
       "      <td>-0.001809</td>\n",
       "      <td>-0.010933</td>\n",
       "      <td>0.008710</td>\n",
       "      <td>-0.000297</td>\n",
       "    </tr>\n",
       "    <tr>\n",
       "      <th>2024-12-24</th>\n",
       "      <td>0.004799</td>\n",
       "      <td>0.010821</td>\n",
       "      <td>0.013695</td>\n",
       "      <td>0.011043</td>\n",
       "      <td>-0.002715</td>\n",
       "      <td>0.004233</td>\n",
       "      <td>0.009091</td>\n",
       "      <td>0.010016</td>\n",
       "      <td>0.003952</td>\n",
       "      <td>-0.003179</td>\n",
       "      <td>0.003340</td>\n",
       "      <td>0.006829</td>\n",
       "      <td>0.002575</td>\n",
       "      <td>0.004589</td>\n",
       "      <td>0.001426</td>\n",
       "    </tr>\n",
       "    <tr>\n",
       "      <th>2024-12-26</th>\n",
       "      <td>0.028554</td>\n",
       "      <td>-0.000389</td>\n",
       "      <td>-0.001346</td>\n",
       "      <td>-0.000406</td>\n",
       "      <td>0.004440</td>\n",
       "      <td>0.001573</td>\n",
       "      <td>0.000664</td>\n",
       "      <td>0.009001</td>\n",
       "      <td>-0.002028</td>\n",
       "      <td>0.013608</td>\n",
       "      <td>0.005029</td>\n",
       "      <td>0.000000</td>\n",
       "      <td>0.000000</td>\n",
       "      <td>-0.002149</td>\n",
       "      <td>0.009980</td>\n",
       "    </tr>\n",
       "    <tr>\n",
       "      <th>2024-12-27</th>\n",
       "      <td>0.007689</td>\n",
       "      <td>0.000000</td>\n",
       "      <td>-0.013565</td>\n",
       "      <td>-0.011056</td>\n",
       "      <td>-0.004946</td>\n",
       "      <td>0.000000</td>\n",
       "      <td>-0.007700</td>\n",
       "      <td>-0.015613</td>\n",
       "      <td>0.000000</td>\n",
       "      <td>0.018022</td>\n",
       "      <td>0.000000</td>\n",
       "      <td>0.000000</td>\n",
       "      <td>-0.006682</td>\n",
       "      <td>0.002706</td>\n",
       "      <td>0.000000</td>\n",
       "    </tr>\n",
       "    <tr>\n",
       "      <th>2024-12-30</th>\n",
       "      <td>-0.013545</td>\n",
       "      <td>-0.002441</td>\n",
       "      <td>-0.012850</td>\n",
       "      <td>-0.010702</td>\n",
       "      <td>-0.009188</td>\n",
       "      <td>-0.003534</td>\n",
       "      <td>-0.009734</td>\n",
       "      <td>-0.007489</td>\n",
       "      <td>-0.007090</td>\n",
       "      <td>-0.009598</td>\n",
       "      <td>0.000451</td>\n",
       "      <td>-0.003762</td>\n",
       "      <td>0.000116</td>\n",
       "      <td>0.006390</td>\n",
       "      <td>-0.005684</td>\n",
       "    </tr>\n",
       "  </tbody>\n",
       "</table>\n",
       "<p>5284 rows × 15 columns</p>\n",
       "</div>"
      ],
      "text/plain": [
       "            Turkey BIST 100  Hang Seng  NASDAQ 100   S&P 500  Mexican IPC  \\\n",
       "Date                                                                        \n",
       "2004-01-02         0.028064   0.017934   -0.002963 -0.003094     0.002605   \n",
       "2004-01-05         0.028667   0.015924    0.022554  0.012395     0.026754   \n",
       "2004-01-06        -0.034666   0.002383    0.003127  0.001292    -0.001729   \n",
       "2004-01-07         0.019407   0.009309    0.008659  0.002367     0.006612   \n",
       "2004-01-08         0.001140   0.003489    0.010824  0.004963     0.007869   \n",
       "...                     ...        ...         ...       ...          ...   \n",
       "2024-12-23        -0.010067   0.008237    0.010053  0.007287    -0.002729   \n",
       "2024-12-24         0.004799   0.010821    0.013695  0.011043    -0.002715   \n",
       "2024-12-26         0.028554  -0.000389   -0.001346 -0.000406     0.004440   \n",
       "2024-12-27         0.007689   0.000000   -0.013565 -0.011056    -0.004946   \n",
       "2024-12-30        -0.013545  -0.002441   -0.012850 -0.010702    -0.009188   \n",
       "\n",
       "            FTSE 100  Dow Jones  Russell 2000   S&P/TSX  Nikkei 225   IBEX 35  \\\n",
       "Date                                                                            \n",
       "2004-01-02  0.007438  -0.004216      0.007075  0.008855    0.000000  0.000000   \n",
       "2004-01-05  0.000687   0.012894      0.014389  0.010610    0.000000  0.004087   \n",
       "2004-01-06 -0.001795  -0.000513      0.001705  0.002792   -0.001033  0.000291   \n",
       "2004-01-07 -0.007147  -0.000914      0.008300 -0.001975   -0.005194  0.000000   \n",
       "2004-01-08  0.004740   0.006022      0.008701 -0.000250    0.007421  0.003753   \n",
       "...              ...        ...           ...       ...         ...       ...   \n",
       "2024-12-23  0.002239   0.001557     -0.002199  0.006077    0.011871 -0.002756   \n",
       "2024-12-24  0.004233   0.009091      0.010016  0.003952   -0.003179  0.003340   \n",
       "2024-12-26  0.001573   0.000664      0.009001 -0.002028    0.013608  0.005029   \n",
       "2024-12-27  0.000000  -0.007700     -0.015613  0.000000    0.018022  0.000000   \n",
       "2024-12-30 -0.003534  -0.009734     -0.007489 -0.007090   -0.009598  0.000451   \n",
       "\n",
       "                 DAX   Bovespa  Straits Times    CAC 40  \n",
       "Date                                                     \n",
       "2004-01-02  0.000000  0.000000       0.015205  0.010933  \n",
       "2004-01-05  0.004330  0.048429       0.020828  0.003195  \n",
       "2004-01-06 -0.000114  0.001870       0.000033 -0.003456  \n",
       "2004-01-07 -0.007692 -0.010859       0.003959 -0.008985  \n",
       "2004-01-08  0.010246  0.017024       0.003116  0.008200  \n",
       "...              ...       ...            ...       ...  \n",
       "2024-12-23 -0.001809 -0.010933       0.008710 -0.000297  \n",
       "2024-12-24  0.006829  0.002575       0.004589  0.001426  \n",
       "2024-12-26  0.000000  0.000000      -0.002149  0.009980  \n",
       "2024-12-27  0.000000 -0.006682       0.002706  0.000000  \n",
       "2024-12-30 -0.003762  0.000116       0.006390 -0.005684  \n",
       "\n",
       "[5284 rows x 15 columns]"
      ]
     },
     "execution_count": 3,
     "metadata": {},
     "output_type": "execute_result"
    }
   ],
   "source": [
    "# 날짜를 인덱스에서 칼럼으로 변환\n",
    "prices = index.copy()\n",
    "prices = prices.set_index('Date')\n",
    "\n",
    "# 숫자로 변환\n",
    "prices = prices.apply(pd.to_numeric, errors='coerce')\n",
    "\n",
    "prices = prices.reset_index()\n",
    "prices['Date'] = pd.to_datetime(prices['Date']).dt.strftime('%Y-%m-%d')\n",
    "\n",
    "returns = prices.set_index('Date').pct_change().reset_index()\n",
    "\n",
    "returns = returns.dropna()\n",
    "returns.set_index('Date', inplace = True)\n",
    "returns\n"
   ]
  },
  {
   "cell_type": "code",
   "execution_count": 5,
   "metadata": {},
   "outputs": [],
   "source": [
    "# returns.to_csv(\"returns.csv\")"
   ]
  },
  {
   "cell_type": "markdown",
   "metadata": {},
   "source": [
    "### **3. 각 지수를 노드로, 지수간 상관관계를 엣지로 설정**\n",
    "\n",
    "- 상관관계를 계산해서 절댓값이 0.3 이상인 것들에 대해서만 노드와 엣지로 구성\n",
    "- 총 노드 수 : 26, 엣지 수 : 216"
   ]
  },
  {
   "cell_type": "code",
   "execution_count": 4,
   "metadata": {},
   "outputs": [],
   "source": [
    "test_periods = [\n",
    "    (\"2004-01-01\", \"2004-06-30\", \"2004-07-01\", \"2004-12-31\"),\n",
    "    (\"2004-07-01\", \"2004-12-31\", \"2005-01-01\", \"2005-06-30\"),\n",
    "    (\"2005-01-01\", \"2005-06-30\", \"2005-07-01\", \"2005-12-31\"),\n",
    "    (\"2005-07-01\", \"2005-12-31\", \"2006-01-01\", \"2006-06-30\"),\n",
    "    (\"2006-01-01\", \"2006-06-30\", \"2006-07-01\", \"2006-12-31\"),\n",
    "    (\"2006-07-01\", \"2006-12-31\", \"2007-01-01\", \"2007-06-30\"),\n",
    "    (\"2007-01-01\", \"2007-06-30\", \"2007-07-01\", \"2007-12-31\"),\n",
    "    (\"2007-07-01\", \"2007-12-31\", \"2008-01-01\", \"2008-06-30\"),\n",
    "    (\"2008-01-01\", \"2008-06-30\", \"2008-07-01\", \"2008-12-31\"),\n",
    "    (\"2008-07-01\", \"2008-12-31\", \"2009-01-01\", \"2009-06-30\"),\n",
    "    (\"2009-01-01\", \"2009-06-30\", \"2009-07-01\", \"2009-12-31\"),\n",
    "    (\"2009-07-01\", \"2009-12-31\", \"2010-01-01\", \"2010-06-30\"),\n",
    "    (\"2010-01-01\", \"2010-06-30\", \"2010-07-01\", \"2010-12-31\"),\n",
    "    (\"2010-07-01\", \"2010-12-31\", \"2011-01-01\", \"2011-06-30\"),\n",
    "    (\"2011-01-01\", \"2011-06-30\", \"2011-07-01\", \"2011-12-31\"),\n",
    "    (\"2011-07-01\", \"2011-12-31\", \"2012-01-01\", \"2012-06-30\"),\n",
    "    (\"2012-01-01\", \"2012-06-30\", \"2012-07-01\", \"2012-12-31\"),\n",
    "    (\"2012-07-01\", \"2012-12-31\", \"2013-01-01\", \"2013-06-30\"),\n",
    "    (\"2013-01-01\", \"2013-06-30\", \"2013-07-01\", \"2013-12-31\"),\n",
    "    (\"2013-07-01\", \"2013-12-31\", \"2014-01-01\", \"2014-06-30\"),\n",
    "    (\"2014-01-01\", \"2014-06-30\", \"2014-07-01\", \"2014-12-31\"),\n",
    "    (\"2014-07-01\", \"2014-12-31\", \"2015-01-01\", \"2015-06-30\"),\n",
    "    (\"2015-01-01\", \"2015-06-30\", \"2015-07-01\", \"2015-12-31\"),\n",
    "    (\"2015-07-01\", \"2015-12-31\", \"2016-01-01\", \"2016-06-30\"),\n",
    "    (\"2016-01-01\", \"2016-06-30\", \"2016-07-01\", \"2016-12-31\"),\n",
    "    (\"2016-07-01\", \"2016-12-31\", \"2017-01-01\", \"2017-06-30\"),\n",
    "    (\"2017-01-01\", \"2017-06-30\", \"2017-07-01\", \"2017-12-31\"),\n",
    "    (\"2017-07-01\", \"2017-12-31\", \"2018-01-01\", \"2018-06-30\"),\n",
    "    (\"2018-01-01\", \"2018-06-30\", \"2018-07-01\", \"2018-12-31\"),\n",
    "    (\"2018-07-01\", \"2018-12-31\", \"2019-01-01\", \"2019-06-30\"),\n",
    "    (\"2019-01-01\", \"2019-06-30\", \"2019-07-01\", \"2019-12-31\"),\n",
    "    (\"2019-07-01\", \"2019-12-31\", \"2020-01-01\", \"2020-06-30\"),\n",
    "    (\"2020-01-01\", \"2020-06-30\", \"2020-07-01\", \"2020-12-31\"),\n",
    "    (\"2020-07-01\", \"2020-12-31\", \"2021-01-01\", \"2021-06-30\"),\n",
    "    (\"2021-01-01\", \"2021-06-30\", \"2021-07-01\", \"2021-12-31\"),\n",
    "    (\"2021-07-01\", \"2021-12-31\", \"2022-01-01\", \"2022-06-30\"),\n",
    "    (\"2022-01-01\", \"2022-06-30\", \"2022-07-01\", \"2022-12-31\"),\n",
    "    (\"2022-07-01\", \"2022-12-31\", \"2023-01-01\", \"2023-06-30\"),\n",
    "    (\"2023-01-01\", \"2023-06-30\", \"2023-07-01\", \"2023-12-31\"),\n",
    "    (\"2023-07-01\", \"2023-12-31\", \"2024-01-01\", \"2024-06-30\"),\n",
    "    (\"2024-01-01\", \"2024-06-30\", \"2024-07-01\", \"2024-12-31\")\n",
    "]"
   ]
  },
  {
   "cell_type": "code",
   "execution_count": 5,
   "metadata": {},
   "outputs": [
    {
     "name": "stdout",
     "output_type": "stream",
     "text": [
      "Processing Test 1: Train (2004-01-01 to 2004-06-30), Test (2004-07-01 to 2004-12-31)\n",
      "Processing Test 2: Train (2004-07-01 to 2004-12-31), Test (2005-01-01 to 2005-06-30)\n",
      "Processing Test 3: Train (2005-01-01 to 2005-06-30), Test (2005-07-01 to 2005-12-31)\n",
      "Processing Test 4: Train (2005-07-01 to 2005-12-31), Test (2006-01-01 to 2006-06-30)\n",
      "Processing Test 5: Train (2006-01-01 to 2006-06-30), Test (2006-07-01 to 2006-12-31)\n",
      "Processing Test 6: Train (2006-07-01 to 2006-12-31), Test (2007-01-01 to 2007-06-30)\n",
      "Processing Test 7: Train (2007-01-01 to 2007-06-30), Test (2007-07-01 to 2007-12-31)\n",
      "Processing Test 8: Train (2007-07-01 to 2007-12-31), Test (2008-01-01 to 2008-06-30)\n",
      "Processing Test 9: Train (2008-01-01 to 2008-06-30), Test (2008-07-01 to 2008-12-31)\n",
      "Processing Test 10: Train (2008-07-01 to 2008-12-31), Test (2009-01-01 to 2009-06-30)\n",
      "Processing Test 11: Train (2009-01-01 to 2009-06-30), Test (2009-07-01 to 2009-12-31)\n",
      "Processing Test 12: Train (2009-07-01 to 2009-12-31), Test (2010-01-01 to 2010-06-30)\n",
      "Processing Test 13: Train (2010-01-01 to 2010-06-30), Test (2010-07-01 to 2010-12-31)\n",
      "Processing Test 14: Train (2010-07-01 to 2010-12-31), Test (2011-01-01 to 2011-06-30)\n",
      "Processing Test 15: Train (2011-01-01 to 2011-06-30), Test (2011-07-01 to 2011-12-31)\n",
      "Processing Test 16: Train (2011-07-01 to 2011-12-31), Test (2012-01-01 to 2012-06-30)\n",
      "Processing Test 17: Train (2012-01-01 to 2012-06-30), Test (2012-07-01 to 2012-12-31)\n",
      "Processing Test 18: Train (2012-07-01 to 2012-12-31), Test (2013-01-01 to 2013-06-30)\n",
      "Processing Test 19: Train (2013-01-01 to 2013-06-30), Test (2013-07-01 to 2013-12-31)\n",
      "Processing Test 20: Train (2013-07-01 to 2013-12-31), Test (2014-01-01 to 2014-06-30)\n",
      "Processing Test 21: Train (2014-01-01 to 2014-06-30), Test (2014-07-01 to 2014-12-31)\n",
      "Processing Test 22: Train (2014-07-01 to 2014-12-31), Test (2015-01-01 to 2015-06-30)\n",
      "Processing Test 23: Train (2015-01-01 to 2015-06-30), Test (2015-07-01 to 2015-12-31)\n",
      "Processing Test 24: Train (2015-07-01 to 2015-12-31), Test (2016-01-01 to 2016-06-30)\n",
      "Processing Test 25: Train (2016-01-01 to 2016-06-30), Test (2016-07-01 to 2016-12-31)\n",
      "Processing Test 26: Train (2016-07-01 to 2016-12-31), Test (2017-01-01 to 2017-06-30)\n",
      "Processing Test 27: Train (2017-01-01 to 2017-06-30), Test (2017-07-01 to 2017-12-31)\n",
      "Processing Test 28: Train (2017-07-01 to 2017-12-31), Test (2018-01-01 to 2018-06-30)\n",
      "Processing Test 29: Train (2018-01-01 to 2018-06-30), Test (2018-07-01 to 2018-12-31)\n",
      "Processing Test 30: Train (2018-07-01 to 2018-12-31), Test (2019-01-01 to 2019-06-30)\n",
      "Processing Test 31: Train (2019-01-01 to 2019-06-30), Test (2019-07-01 to 2019-12-31)\n",
      "Processing Test 32: Train (2019-07-01 to 2019-12-31), Test (2020-01-01 to 2020-06-30)\n",
      "Processing Test 33: Train (2020-01-01 to 2020-06-30), Test (2020-07-01 to 2020-12-31)\n",
      "Processing Test 34: Train (2020-07-01 to 2020-12-31), Test (2021-01-01 to 2021-06-30)\n",
      "Processing Test 35: Train (2021-01-01 to 2021-06-30), Test (2021-07-01 to 2021-12-31)\n",
      "Processing Test 36: Train (2021-07-01 to 2021-12-31), Test (2022-01-01 to 2022-06-30)\n",
      "Processing Test 37: Train (2022-01-01 to 2022-06-30), Test (2022-07-01 to 2022-12-31)\n",
      "Processing Test 38: Train (2022-07-01 to 2022-12-31), Test (2023-01-01 to 2023-06-30)\n",
      "Processing Test 39: Train (2023-01-01 to 2023-06-30), Test (2023-07-01 to 2023-12-31)\n",
      "Processing Test 40: Train (2023-07-01 to 2023-12-31), Test (2024-01-01 to 2024-06-30)\n",
      "Processing Test 41: Train (2024-01-01 to 2024-06-30), Test (2024-07-01 to 2024-12-31)\n",
      "All graphs have been saved.\n"
     ]
    }
   ],
   "source": [
    "import networkx as nx\n",
    "import matplotlib.pyplot as plt\n",
    "import pandas as pd\n",
    "\n",
    "def create_graph(train_data):\n",
    "    \"\"\"\n",
    "    Create a graph based on the correlation matrix of the train_data.\n",
    "    \"\"\"\n",
    "    correlation_matrix = train_data.corr()\n",
    "    G = nx.Graph()\n",
    "    for i in correlation_matrix.columns:\n",
    "        for j in correlation_matrix.columns:\n",
    "            if i != j:\n",
    "                weight = correlation_matrix.loc[i, j]\n",
    "                if abs(weight) > 0.3:  # correlation threshold\n",
    "                    G.add_edge(i, j, weight=weight)\n",
    "    return G\n",
    "\n",
    "def plot_and_save_graph(G, title, filename):\n",
    "    \"\"\"\n",
    "    Plot the graph using networkx and matplotlib, and save it to a file.\n",
    "    \"\"\"\n",
    "    plt.figure(figsize=(20, 12))\n",
    "    pos = nx.kamada_kawai_layout(G)\n",
    "    weights = nx.get_edge_attributes(G, 'weight')\n",
    "    edge_colors = ['blue' if w > 0 else 'red' for w in weights.values()]\n",
    "    edge_widths = [abs(w) * 5 for w in weights.values()]  # 상관계수에 비례\n",
    "    node_sizes = [len(list(G.neighbors(node))) * 200 for node in G.nodes()]\n",
    "    node_colors = ['skyblue' if len(list(G.neighbors(node))) > 5 else 'lightgray' for node in G.nodes()]\n",
    "\n",
    "    nx.draw_networkx_nodes(G, pos, node_size=node_sizes, node_color=node_colors, alpha=0.9)\n",
    "    nx.draw_networkx_edges(G, pos, edgelist=weights.keys(), edge_color=edge_colors, width=edge_widths, alpha=0.7)\n",
    "    nx.draw_networkx_labels(G, pos, font_size=10, font_color='black')\n",
    "\n",
    "    plt.title(title, fontsize=20, fontweight='bold')\n",
    "    plt.axis('off')\n",
    "    plt.savefig(filename, format='png', bbox_inches='tight')\n",
    "    plt.close()\n",
    "\n",
    "# Process each test period\n",
    "for i, (train_start, train_end, test_start, test_end) in enumerate(test_periods):\n",
    "    print(f\"Processing Test {i + 1}: Train ({train_start} to {train_end}), Test ({test_start} to {test_end})\")\n",
    "    \n",
    "    # Split data into Train and Test\n",
    "    train_data = returns.loc[train_start:train_end]\n",
    "    \n",
    "    # Create graph based on Train data\n",
    "    G = create_graph(train_data)\n",
    "    \n",
    "    # Save the graph with a unique filename\n",
    "    filename = f\"graph_test{i + 1}.png\"\n",
    "    title = f\"Spillover Effect Graph (Train: {train_start} to {train_end})\"\n",
    "    plot_and_save_graph(G, title, filename)\n",
    "\n",
    "print(\"All graphs have been saved.\")\n"
   ]
  },
  {
   "cell_type": "markdown",
   "metadata": {},
   "source": [
    "### **4. 기본 데이터를 Tabular Form으로 활용했을 때 성능 평가**"
   ]
  },
  {
   "cell_type": "code",
   "execution_count": 6,
   "metadata": {},
   "outputs": [],
   "source": [
    "# Pearson Correlation 기반 그래프 생성 함수\n",
    "n_experiments = 30\n",
    "\n",
    "def create_correlation_graph(data, threshold=0.3):\n",
    "    correlation_matrix = data.corr()\n",
    "    G = nx.Graph()\n",
    "    for i in correlation_matrix.columns:\n",
    "        for j in correlation_matrix.columns:\n",
    "            if i != j:\n",
    "                weight = correlation_matrix.loc[i, j]\n",
    "                if abs(weight) > threshold:\n",
    "                    G.add_edge(i, j, weight=weight)\n",
    "    return G\n",
    "\n",
    "def prepare_time_series_data(data_matrix):\n",
    "    X = data_matrix.iloc[:-1].values\n",
    "    y = data_matrix.iloc[1:].values\n",
    "    return X, y"
   ]
  },
  {
   "cell_type": "markdown",
   "metadata": {},
   "source": [
    "#### 4.1 Random Forest Model 사용"
   ]
  },
  {
   "cell_type": "code",
   "execution_count": 11,
   "metadata": {},
   "outputs": [
    {
     "name": "stdout",
     "output_type": "stream",
     "text": [
      "\n",
      "=== Processing Test 1: Train (2004-01-01 to 2004-06-30), Test (2004-07-01 to 2004-12-31) ===\n"
     ]
    },
    {
     "name": "stderr",
     "output_type": "stream",
     "text": [
      "Processing Target Nodes (Test 1): 100%|██████████| 15/15 [00:21<00:00,  1.43s/it]\n"
     ]
    },
    {
     "name": "stdout",
     "output_type": "stream",
     "text": [
      "\n",
      "=== Processing Test 2: Train (2004-07-01 to 2004-12-31), Test (2005-01-01 to 2005-06-30) ===\n"
     ]
    },
    {
     "name": "stderr",
     "output_type": "stream",
     "text": [
      "Processing Target Nodes (Test 2): 100%|██████████| 14/14 [00:19<00:00,  1.40s/it]\n"
     ]
    },
    {
     "name": "stdout",
     "output_type": "stream",
     "text": [
      "\n",
      "=== Processing Test 3: Train (2005-01-01 to 2005-06-30), Test (2005-07-01 to 2005-12-31) ===\n"
     ]
    },
    {
     "name": "stderr",
     "output_type": "stream",
     "text": [
      "Processing Target Nodes (Test 3): 100%|██████████| 15/15 [00:21<00:00,  1.41s/it]\n"
     ]
    },
    {
     "name": "stdout",
     "output_type": "stream",
     "text": [
      "\n",
      "=== Processing Test 4: Train (2005-07-01 to 2005-12-31), Test (2006-01-01 to 2006-06-30) ===\n"
     ]
    },
    {
     "name": "stderr",
     "output_type": "stream",
     "text": [
      "Processing Target Nodes (Test 4): 100%|██████████| 15/15 [00:21<00:00,  1.46s/it]\n"
     ]
    },
    {
     "name": "stdout",
     "output_type": "stream",
     "text": [
      "\n",
      "=== Processing Test 5: Train (2006-01-01 to 2006-06-30), Test (2006-07-01 to 2006-12-31) ===\n"
     ]
    },
    {
     "name": "stderr",
     "output_type": "stream",
     "text": [
      "Processing Target Nodes (Test 5): 100%|██████████| 15/15 [00:21<00:00,  1.46s/it]\n"
     ]
    },
    {
     "name": "stdout",
     "output_type": "stream",
     "text": [
      "\n",
      "=== Processing Test 6: Train (2006-07-01 to 2006-12-31), Test (2007-01-01 to 2007-06-30) ===\n"
     ]
    },
    {
     "name": "stderr",
     "output_type": "stream",
     "text": [
      "Processing Target Nodes (Test 6): 100%|██████████| 15/15 [00:21<00:00,  1.44s/it]\n"
     ]
    },
    {
     "name": "stdout",
     "output_type": "stream",
     "text": [
      "\n",
      "=== Processing Test 7: Train (2007-01-01 to 2007-06-30), Test (2007-07-01 to 2007-12-31) ===\n"
     ]
    },
    {
     "name": "stderr",
     "output_type": "stream",
     "text": [
      "Processing Target Nodes (Test 7): 100%|██████████| 15/15 [00:21<00:00,  1.46s/it]\n"
     ]
    },
    {
     "name": "stdout",
     "output_type": "stream",
     "text": [
      "\n",
      "=== Processing Test 8: Train (2007-07-01 to 2007-12-31), Test (2008-01-01 to 2008-06-30) ===\n"
     ]
    },
    {
     "name": "stderr",
     "output_type": "stream",
     "text": [
      "Processing Target Nodes (Test 8): 100%|██████████| 15/15 [00:21<00:00,  1.41s/it]\n"
     ]
    },
    {
     "name": "stdout",
     "output_type": "stream",
     "text": [
      "\n",
      "=== Processing Test 9: Train (2008-01-01 to 2008-06-30), Test (2008-07-01 to 2008-12-31) ===\n"
     ]
    },
    {
     "name": "stderr",
     "output_type": "stream",
     "text": [
      "Processing Target Nodes (Test 9): 100%|██████████| 15/15 [00:21<00:00,  1.42s/it]\n"
     ]
    },
    {
     "name": "stdout",
     "output_type": "stream",
     "text": [
      "\n",
      "=== Processing Test 10: Train (2008-07-01 to 2008-12-31), Test (2009-01-01 to 2009-06-30) ===\n"
     ]
    },
    {
     "name": "stderr",
     "output_type": "stream",
     "text": [
      "Processing Target Nodes (Test 10): 100%|██████████| 15/15 [00:22<00:00,  1.52s/it]\n"
     ]
    },
    {
     "name": "stdout",
     "output_type": "stream",
     "text": [
      "\n",
      "=== Processing Test 11: Train (2009-01-01 to 2009-06-30), Test (2009-07-01 to 2009-12-31) ===\n"
     ]
    },
    {
     "name": "stderr",
     "output_type": "stream",
     "text": [
      "Processing Target Nodes (Test 11): 100%|██████████| 15/15 [00:21<00:00,  1.40s/it]\n"
     ]
    },
    {
     "name": "stdout",
     "output_type": "stream",
     "text": [
      "\n",
      "=== Processing Test 12: Train (2009-07-01 to 2009-12-31), Test (2010-01-01 to 2010-06-30) ===\n"
     ]
    },
    {
     "name": "stderr",
     "output_type": "stream",
     "text": [
      "Processing Target Nodes (Test 12): 100%|██████████| 15/15 [00:21<00:00,  1.43s/it]\n"
     ]
    },
    {
     "name": "stdout",
     "output_type": "stream",
     "text": [
      "\n",
      "=== Processing Test 13: Train (2010-01-01 to 2010-06-30), Test (2010-07-01 to 2010-12-31) ===\n"
     ]
    },
    {
     "name": "stderr",
     "output_type": "stream",
     "text": [
      "Processing Target Nodes (Test 13): 100%|██████████| 15/15 [00:21<00:00,  1.44s/it]\n"
     ]
    },
    {
     "name": "stdout",
     "output_type": "stream",
     "text": [
      "\n",
      "=== Processing Test 14: Train (2010-07-01 to 2010-12-31), Test (2011-01-01 to 2011-06-30) ===\n"
     ]
    },
    {
     "name": "stderr",
     "output_type": "stream",
     "text": [
      "Processing Target Nodes (Test 14): 100%|██████████| 15/15 [00:21<00:00,  1.45s/it]\n"
     ]
    },
    {
     "name": "stdout",
     "output_type": "stream",
     "text": [
      "\n",
      "=== Processing Test 15: Train (2011-01-01 to 2011-06-30), Test (2011-07-01 to 2011-12-31) ===\n"
     ]
    },
    {
     "name": "stderr",
     "output_type": "stream",
     "text": [
      "Processing Target Nodes (Test 15): 100%|██████████| 15/15 [00:20<00:00,  1.37s/it]\n"
     ]
    },
    {
     "name": "stdout",
     "output_type": "stream",
     "text": [
      "\n",
      "=== Processing Test 16: Train (2011-07-01 to 2011-12-31), Test (2012-01-01 to 2012-06-30) ===\n"
     ]
    },
    {
     "name": "stderr",
     "output_type": "stream",
     "text": [
      "Processing Target Nodes (Test 16): 100%|██████████| 15/15 [00:21<00:00,  1.43s/it]\n"
     ]
    },
    {
     "name": "stdout",
     "output_type": "stream",
     "text": [
      "\n",
      "=== Processing Test 17: Train (2012-01-01 to 2012-06-30), Test (2012-07-01 to 2012-12-31) ===\n"
     ]
    },
    {
     "name": "stderr",
     "output_type": "stream",
     "text": [
      "Processing Target Nodes (Test 17): 100%|██████████| 15/15 [00:20<00:00,  1.39s/it]\n"
     ]
    },
    {
     "name": "stdout",
     "output_type": "stream",
     "text": [
      "\n",
      "=== Processing Test 18: Train (2012-07-01 to 2012-12-31), Test (2013-01-01 to 2013-06-30) ===\n"
     ]
    },
    {
     "name": "stderr",
     "output_type": "stream",
     "text": [
      "Processing Target Nodes (Test 18): 100%|██████████| 15/15 [00:21<00:00,  1.42s/it]\n"
     ]
    },
    {
     "name": "stdout",
     "output_type": "stream",
     "text": [
      "\n",
      "=== Processing Test 19: Train (2013-01-01 to 2013-06-30), Test (2013-07-01 to 2013-12-31) ===\n"
     ]
    },
    {
     "name": "stderr",
     "output_type": "stream",
     "text": [
      "Processing Target Nodes (Test 19): 100%|██████████| 15/15 [00:21<00:00,  1.45s/it]\n"
     ]
    },
    {
     "name": "stdout",
     "output_type": "stream",
     "text": [
      "\n",
      "=== Processing Test 20: Train (2013-07-01 to 2013-12-31), Test (2014-01-01 to 2014-06-30) ===\n"
     ]
    },
    {
     "name": "stderr",
     "output_type": "stream",
     "text": [
      "Processing Target Nodes (Test 20): 100%|██████████| 15/15 [00:21<00:00,  1.40s/it]\n"
     ]
    },
    {
     "name": "stdout",
     "output_type": "stream",
     "text": [
      "\n",
      "=== Processing Test 21: Train (2014-01-01 to 2014-06-30), Test (2014-07-01 to 2014-12-31) ===\n"
     ]
    },
    {
     "name": "stderr",
     "output_type": "stream",
     "text": [
      "Processing Target Nodes (Test 21): 100%|██████████| 15/15 [00:21<00:00,  1.42s/it]\n"
     ]
    },
    {
     "name": "stdout",
     "output_type": "stream",
     "text": [
      "\n",
      "=== Processing Test 22: Train (2014-07-01 to 2014-12-31), Test (2015-01-01 to 2015-06-30) ===\n"
     ]
    },
    {
     "name": "stderr",
     "output_type": "stream",
     "text": [
      "Processing Target Nodes (Test 22): 100%|██████████| 14/14 [00:20<00:00,  1.45s/it]\n"
     ]
    },
    {
     "name": "stdout",
     "output_type": "stream",
     "text": [
      "\n",
      "=== Processing Test 23: Train (2015-01-01 to 2015-06-30), Test (2015-07-01 to 2015-12-31) ===\n"
     ]
    },
    {
     "name": "stderr",
     "output_type": "stream",
     "text": [
      "Processing Target Nodes (Test 23): 100%|██████████| 15/15 [00:21<00:00,  1.45s/it]\n"
     ]
    },
    {
     "name": "stdout",
     "output_type": "stream",
     "text": [
      "\n",
      "=== Processing Test 24: Train (2015-07-01 to 2015-12-31), Test (2016-01-01 to 2016-06-30) ===\n"
     ]
    },
    {
     "name": "stderr",
     "output_type": "stream",
     "text": [
      "Processing Target Nodes (Test 24): 100%|██████████| 15/15 [00:22<00:00,  1.48s/it]\n"
     ]
    },
    {
     "name": "stdout",
     "output_type": "stream",
     "text": [
      "\n",
      "=== Processing Test 25: Train (2016-01-01 to 2016-06-30), Test (2016-07-01 to 2016-12-31) ===\n"
     ]
    },
    {
     "name": "stderr",
     "output_type": "stream",
     "text": [
      "Processing Target Nodes (Test 25): 100%|██████████| 15/15 [00:21<00:00,  1.44s/it]\n"
     ]
    },
    {
     "name": "stdout",
     "output_type": "stream",
     "text": [
      "\n",
      "=== Processing Test 26: Train (2016-07-01 to 2016-12-31), Test (2017-01-01 to 2017-06-30) ===\n"
     ]
    },
    {
     "name": "stderr",
     "output_type": "stream",
     "text": [
      "Processing Target Nodes (Test 26): 100%|██████████| 15/15 [00:21<00:00,  1.46s/it]\n"
     ]
    },
    {
     "name": "stdout",
     "output_type": "stream",
     "text": [
      "\n",
      "=== Processing Test 27: Train (2017-01-01 to 2017-06-30), Test (2017-07-01 to 2017-12-31) ===\n"
     ]
    },
    {
     "name": "stderr",
     "output_type": "stream",
     "text": [
      "Processing Target Nodes (Test 27): 100%|██████████| 14/14 [00:19<00:00,  1.40s/it]\n"
     ]
    },
    {
     "name": "stdout",
     "output_type": "stream",
     "text": [
      "\n",
      "=== Processing Test 28: Train (2017-07-01 to 2017-12-31), Test (2018-01-01 to 2018-06-30) ===\n"
     ]
    },
    {
     "name": "stderr",
     "output_type": "stream",
     "text": [
      "Processing Target Nodes (Test 28): 100%|██████████| 13/13 [00:17<00:00,  1.37s/it]\n"
     ]
    },
    {
     "name": "stdout",
     "output_type": "stream",
     "text": [
      "\n",
      "=== Processing Test 29: Train (2018-01-01 to 2018-06-30), Test (2018-07-01 to 2018-12-31) ===\n"
     ]
    },
    {
     "name": "stderr",
     "output_type": "stream",
     "text": [
      "Processing Target Nodes (Test 29): 100%|██████████| 14/14 [00:20<00:00,  1.43s/it]\n"
     ]
    },
    {
     "name": "stdout",
     "output_type": "stream",
     "text": [
      "\n",
      "=== Processing Test 30: Train (2018-07-01 to 2018-12-31), Test (2019-01-01 to 2019-06-30) ===\n"
     ]
    },
    {
     "name": "stderr",
     "output_type": "stream",
     "text": [
      "Processing Target Nodes (Test 30): 100%|██████████| 15/15 [00:22<00:00,  1.49s/it]\n"
     ]
    },
    {
     "name": "stdout",
     "output_type": "stream",
     "text": [
      "\n",
      "=== Processing Test 31: Train (2019-01-01 to 2019-06-30), Test (2019-07-01 to 2019-12-31) ===\n"
     ]
    },
    {
     "name": "stderr",
     "output_type": "stream",
     "text": [
      "Processing Target Nodes (Test 31): 100%|██████████| 15/15 [00:21<00:00,  1.42s/it]\n"
     ]
    },
    {
     "name": "stdout",
     "output_type": "stream",
     "text": [
      "\n",
      "=== Processing Test 32: Train (2019-07-01 to 2019-12-31), Test (2020-01-01 to 2020-06-30) ===\n"
     ]
    },
    {
     "name": "stderr",
     "output_type": "stream",
     "text": [
      "Processing Target Nodes (Test 32): 100%|██████████| 14/14 [00:20<00:00,  1.45s/it]\n"
     ]
    },
    {
     "name": "stdout",
     "output_type": "stream",
     "text": [
      "\n",
      "=== Processing Test 33: Train (2020-01-01 to 2020-06-30), Test (2020-07-01 to 2020-12-31) ===\n"
     ]
    },
    {
     "name": "stderr",
     "output_type": "stream",
     "text": [
      "Processing Target Nodes (Test 33): 100%|██████████| 15/15 [00:23<00:00,  1.57s/it]\n"
     ]
    },
    {
     "name": "stdout",
     "output_type": "stream",
     "text": [
      "\n",
      "=== Processing Test 34: Train (2020-07-01 to 2020-12-31), Test (2021-01-01 to 2021-06-30) ===\n"
     ]
    },
    {
     "name": "stderr",
     "output_type": "stream",
     "text": [
      "Processing Target Nodes (Test 34): 100%|██████████| 14/14 [00:19<00:00,  1.39s/it]\n"
     ]
    },
    {
     "name": "stdout",
     "output_type": "stream",
     "text": [
      "\n",
      "=== Processing Test 35: Train (2021-01-01 to 2021-06-30), Test (2021-07-01 to 2021-12-31) ===\n"
     ]
    },
    {
     "name": "stderr",
     "output_type": "stream",
     "text": [
      "Processing Target Nodes (Test 35): 100%|██████████| 15/15 [00:21<00:00,  1.46s/it]\n"
     ]
    },
    {
     "name": "stdout",
     "output_type": "stream",
     "text": [
      "\n",
      "=== Processing Test 36: Train (2021-07-01 to 2021-12-31), Test (2022-01-01 to 2022-06-30) ===\n"
     ]
    },
    {
     "name": "stderr",
     "output_type": "stream",
     "text": [
      "Processing Target Nodes (Test 36): 100%|██████████| 14/14 [00:19<00:00,  1.40s/it]\n"
     ]
    },
    {
     "name": "stdout",
     "output_type": "stream",
     "text": [
      "\n",
      "=== Processing Test 37: Train (2022-01-01 to 2022-06-30), Test (2022-07-01 to 2022-12-31) ===\n"
     ]
    },
    {
     "name": "stderr",
     "output_type": "stream",
     "text": [
      "Processing Target Nodes (Test 37): 100%|██████████| 15/15 [00:20<00:00,  1.40s/it]\n"
     ]
    },
    {
     "name": "stdout",
     "output_type": "stream",
     "text": [
      "\n",
      "=== Processing Test 38: Train (2022-07-01 to 2022-12-31), Test (2023-01-01 to 2023-06-30) ===\n"
     ]
    },
    {
     "name": "stderr",
     "output_type": "stream",
     "text": [
      "Processing Target Nodes (Test 38): 100%|██████████| 15/15 [00:21<00:00,  1.45s/it]\n"
     ]
    },
    {
     "name": "stdout",
     "output_type": "stream",
     "text": [
      "\n",
      "=== Processing Test 39: Train (2023-01-01 to 2023-06-30), Test (2023-07-01 to 2023-12-31) ===\n"
     ]
    },
    {
     "name": "stderr",
     "output_type": "stream",
     "text": [
      "Processing Target Nodes (Test 39): 100%|██████████| 14/14 [00:19<00:00,  1.39s/it]\n"
     ]
    },
    {
     "name": "stdout",
     "output_type": "stream",
     "text": [
      "\n",
      "=== Processing Test 40: Train (2023-07-01 to 2023-12-31), Test (2024-01-01 to 2024-06-30) ===\n"
     ]
    },
    {
     "name": "stderr",
     "output_type": "stream",
     "text": [
      "Processing Target Nodes (Test 40): 100%|██████████| 14/14 [00:19<00:00,  1.38s/it]\n"
     ]
    },
    {
     "name": "stdout",
     "output_type": "stream",
     "text": [
      "\n",
      "=== Processing Test 41: Train (2024-01-01 to 2024-06-30), Test (2024-07-01 to 2024-12-31) ===\n"
     ]
    },
    {
     "name": "stderr",
     "output_type": "stream",
     "text": [
      "Processing Target Nodes (Test 41): 100%|██████████| 14/14 [00:18<00:00,  1.35s/it]"
     ]
    },
    {
     "name": "stdout",
     "output_type": "stream",
     "text": [
      "\n",
      "Final Results with Random Forest Regressor:\n"
     ]
    },
    {
     "name": "stderr",
     "output_type": "stream",
     "text": [
      "\n"
     ]
    },
    {
     "data": {
      "text/html": [
       "<div>\n",
       "<style scoped>\n",
       "    .dataframe tbody tr th:only-of-type {\n",
       "        vertical-align: middle;\n",
       "    }\n",
       "\n",
       "    .dataframe tbody tr th {\n",
       "        vertical-align: top;\n",
       "    }\n",
       "\n",
       "    .dataframe thead th {\n",
       "        text-align: right;\n",
       "    }\n",
       "</style>\n",
       "<table border=\"1\" class=\"dataframe\">\n",
       "  <thead>\n",
       "    <tr style=\"text-align: right;\">\n",
       "      <th></th>\n",
       "      <th>Test ID</th>\n",
       "      <th>Target Index</th>\n",
       "      <th>RMSE</th>\n",
       "      <th>RMAE</th>\n",
       "    </tr>\n",
       "  </thead>\n",
       "  <tbody>\n",
       "    <tr>\n",
       "      <th>0</th>\n",
       "      <td>1</td>\n",
       "      <td>Turkey BIST 100</td>\n",
       "      <td>0.016237</td>\n",
       "      <td>0.012988</td>\n",
       "    </tr>\n",
       "    <tr>\n",
       "      <th>1</th>\n",
       "      <td>1</td>\n",
       "      <td>Hang Seng</td>\n",
       "      <td>0.009278</td>\n",
       "      <td>0.007400</td>\n",
       "    </tr>\n",
       "    <tr>\n",
       "      <th>2</th>\n",
       "      <td>1</td>\n",
       "      <td>Straits Times</td>\n",
       "      <td>0.006887</td>\n",
       "      <td>0.005546</td>\n",
       "    </tr>\n",
       "    <tr>\n",
       "      <th>3</th>\n",
       "      <td>1</td>\n",
       "      <td>Mexican IPC</td>\n",
       "      <td>0.007730</td>\n",
       "      <td>0.006170</td>\n",
       "    </tr>\n",
       "    <tr>\n",
       "      <th>4</th>\n",
       "      <td>1</td>\n",
       "      <td>FTSE 100</td>\n",
       "      <td>0.005883</td>\n",
       "      <td>0.004709</td>\n",
       "    </tr>\n",
       "    <tr>\n",
       "      <th>...</th>\n",
       "      <td>...</td>\n",
       "      <td>...</td>\n",
       "      <td>...</td>\n",
       "      <td>...</td>\n",
       "    </tr>\n",
       "    <tr>\n",
       "      <th>598</th>\n",
       "      <td>41</td>\n",
       "      <td>DAX</td>\n",
       "      <td>0.008936</td>\n",
       "      <td>0.007178</td>\n",
       "    </tr>\n",
       "    <tr>\n",
       "      <th>599</th>\n",
       "      <td>41</td>\n",
       "      <td>Mexican IPC</td>\n",
       "      <td>0.009555</td>\n",
       "      <td>0.007673</td>\n",
       "    </tr>\n",
       "    <tr>\n",
       "      <th>600</th>\n",
       "      <td>41</td>\n",
       "      <td>IBEX 35</td>\n",
       "      <td>0.008921</td>\n",
       "      <td>0.006886</td>\n",
       "    </tr>\n",
       "    <tr>\n",
       "      <th>601</th>\n",
       "      <td>41</td>\n",
       "      <td>CAC 40</td>\n",
       "      <td>0.009316</td>\n",
       "      <td>0.007310</td>\n",
       "    </tr>\n",
       "    <tr>\n",
       "      <th>602</th>\n",
       "      <td>41</td>\n",
       "      <td>Bovespa</td>\n",
       "      <td>0.008590</td>\n",
       "      <td>0.006641</td>\n",
       "    </tr>\n",
       "  </tbody>\n",
       "</table>\n",
       "<p>603 rows × 4 columns</p>\n",
       "</div>"
      ],
      "text/plain": [
       "     Test ID     Target Index      RMSE      RMAE\n",
       "0          1  Turkey BIST 100  0.016237  0.012988\n",
       "1          1        Hang Seng  0.009278  0.007400\n",
       "2          1    Straits Times  0.006887  0.005546\n",
       "3          1      Mexican IPC  0.007730  0.006170\n",
       "4          1         FTSE 100  0.005883  0.004709\n",
       "..       ...              ...       ...       ...\n",
       "598       41              DAX  0.008936  0.007178\n",
       "599       41      Mexican IPC  0.009555  0.007673\n",
       "600       41          IBEX 35  0.008921  0.006886\n",
       "601       41           CAC 40  0.009316  0.007310\n",
       "602       41          Bovespa  0.008590  0.006641\n",
       "\n",
       "[603 rows x 4 columns]"
      ]
     },
     "execution_count": 11,
     "metadata": {},
     "output_type": "execute_result"
    }
   ],
   "source": [
    "from sklearn.ensemble import RandomForestRegressor\n",
    "from sklearn.metrics import mean_squared_error, mean_absolute_error, r2_score\n",
    "import numpy as np\n",
    "import pandas as pd\n",
    "from tqdm import tqdm\n",
    "\n",
    "# Initialize Results\n",
    "final_results = []\n",
    "\n",
    "# Random Forest Regressor Evaluation\n",
    "for test_id, (train_start, train_end, test_start, test_end) in enumerate(test_periods):\n",
    "    print(f\"\\n=== Processing Test {test_id + 1}: Train ({train_start} to {train_end}), Test ({test_start} to {test_end}) ===\")\n",
    "    \n",
    "    # Train/Test 데이터 분리\n",
    "    train_data = returns.loc[train_start:train_end]\n",
    "    test_data = returns.loc[test_start:test_end]\n",
    "    \n",
    "    # 그래프 생성 (Train 데이터 기준)\n",
    "    G = create_correlation_graph(train_data)\n",
    "    nodes_in_graph = list(G.nodes)\n",
    "    \n",
    "    # Train/Test 데이터 준비\n",
    "    X_train = train_data[nodes_in_graph].iloc[:-1].values\n",
    "    y_train_set = train_data[nodes_in_graph].iloc[1:].values\n",
    "    X_test = test_data[nodes_in_graph].iloc[:-1].values\n",
    "    y_test_set = test_data[nodes_in_graph].iloc[1:].values\n",
    "    \n",
    "    # Target Index Loop\n",
    "    for target_idx in tqdm(range(len(nodes_in_graph)), desc=f\"Processing Target Nodes (Test {test_id + 1})\"):\n",
    "        rmse_scores = []\n",
    "        rmae_scores = []\n",
    "        \n",
    "        for _ in range(n_experiments):  # 반복 실험\n",
    "            y_train = y_train_set[:, target_idx]\n",
    "            y_test = y_test_set[:, target_idx]\n",
    "            \n",
    "            # Random Forest Regressor 초기화 및 학습\n",
    "            random_seed = np.random.randint(0, 10000)\n",
    "            model = RandomForestRegressor(\n",
    "                n_estimators=100,\n",
    "                max_depth=None,\n",
    "                min_samples_split=5,\n",
    "                min_samples_leaf=3,\n",
    "                random_state=random_seed\n",
    "            )\n",
    "            model.fit(X_train, y_train)\n",
    "            \n",
    "            # 예측 및 평가\n",
    "            y_pred = model.predict(X_test)\n",
    "            rmse = np.sqrt(mean_squared_error(y_test, y_pred))\n",
    "            rmae = mean_absolute_error(y_test, y_pred)\n",
    "            \n",
    "            # 결과 수집\n",
    "            r2_scores.append(r2)\n",
    "            rmse_scores.append(rmse)\n",
    "            rmae_scores.append(rmae)\n",
    "        \n",
    "        # 결과 집계\n",
    "        final_results.append({\n",
    "            'Test ID': test_id + 1,\n",
    "            'Target Index': nodes_in_graph[target_idx],\n",
    "            'RMSE': np.mean(rmse_scores),\n",
    "            'RMAE': np.mean(rmae_scores)\n",
    "        })\n",
    "\n",
    "# 결과를 DataFrame으로 정리\n",
    "rf_results = pd.DataFrame(final_results)\n",
    "\n",
    "# Display results\n",
    "print(\"\\nFinal Results with Random Forest Regressor:\")\n",
    "rf_results\n"
   ]
  },
  {
   "cell_type": "markdown",
   "metadata": {},
   "source": [
    "#### 4.2 Gradient Boost Classifier (XGBoost) Model 사용"
   ]
  },
  {
   "cell_type": "code",
   "execution_count": 12,
   "metadata": {},
   "outputs": [
    {
     "name": "stdout",
     "output_type": "stream",
     "text": [
      "\n",
      "=== Processing Test 1: Train (2004-01-01 to 2004-06-30), Test (2004-07-01 to 2004-12-31) ===\n"
     ]
    },
    {
     "name": "stderr",
     "output_type": "stream",
     "text": [
      "Processing Target Nodes (Test 1): 100%|██████████| 15/15 [00:11<00:00,  1.29it/s]\n"
     ]
    },
    {
     "name": "stdout",
     "output_type": "stream",
     "text": [
      "\n",
      "=== Processing Test 2: Train (2004-07-01 to 2004-12-31), Test (2005-01-01 to 2005-06-30) ===\n"
     ]
    },
    {
     "name": "stderr",
     "output_type": "stream",
     "text": [
      "Processing Target Nodes (Test 2): 100%|██████████| 14/14 [00:10<00:00,  1.34it/s]\n"
     ]
    },
    {
     "name": "stdout",
     "output_type": "stream",
     "text": [
      "\n",
      "=== Processing Test 3: Train (2005-01-01 to 2005-06-30), Test (2005-07-01 to 2005-12-31) ===\n"
     ]
    },
    {
     "name": "stderr",
     "output_type": "stream",
     "text": [
      "Processing Target Nodes (Test 3): 100%|██████████| 15/15 [00:11<00:00,  1.30it/s]\n"
     ]
    },
    {
     "name": "stdout",
     "output_type": "stream",
     "text": [
      "\n",
      "=== Processing Test 4: Train (2005-07-01 to 2005-12-31), Test (2006-01-01 to 2006-06-30) ===\n"
     ]
    },
    {
     "name": "stderr",
     "output_type": "stream",
     "text": [
      "Processing Target Nodes (Test 4): 100%|██████████| 15/15 [00:11<00:00,  1.27it/s]\n"
     ]
    },
    {
     "name": "stdout",
     "output_type": "stream",
     "text": [
      "\n",
      "=== Processing Test 5: Train (2006-01-01 to 2006-06-30), Test (2006-07-01 to 2006-12-31) ===\n"
     ]
    },
    {
     "name": "stderr",
     "output_type": "stream",
     "text": [
      "Processing Target Nodes (Test 5): 100%|██████████| 15/15 [00:11<00:00,  1.31it/s]\n"
     ]
    },
    {
     "name": "stdout",
     "output_type": "stream",
     "text": [
      "\n",
      "=== Processing Test 6: Train (2006-07-01 to 2006-12-31), Test (2007-01-01 to 2007-06-30) ===\n"
     ]
    },
    {
     "name": "stderr",
     "output_type": "stream",
     "text": [
      "Processing Target Nodes (Test 6): 100%|██████████| 15/15 [00:11<00:00,  1.29it/s]\n"
     ]
    },
    {
     "name": "stdout",
     "output_type": "stream",
     "text": [
      "\n",
      "=== Processing Test 7: Train (2007-01-01 to 2007-06-30), Test (2007-07-01 to 2007-12-31) ===\n"
     ]
    },
    {
     "name": "stderr",
     "output_type": "stream",
     "text": [
      "Processing Target Nodes (Test 7): 100%|██████████| 15/15 [00:11<00:00,  1.32it/s]\n"
     ]
    },
    {
     "name": "stdout",
     "output_type": "stream",
     "text": [
      "\n",
      "=== Processing Test 8: Train (2007-07-01 to 2007-12-31), Test (2008-01-01 to 2008-06-30) ===\n"
     ]
    },
    {
     "name": "stderr",
     "output_type": "stream",
     "text": [
      "Processing Target Nodes (Test 8): 100%|██████████| 15/15 [00:11<00:00,  1.29it/s]\n"
     ]
    },
    {
     "name": "stdout",
     "output_type": "stream",
     "text": [
      "\n",
      "=== Processing Test 9: Train (2008-01-01 to 2008-06-30), Test (2008-07-01 to 2008-12-31) ===\n"
     ]
    },
    {
     "name": "stderr",
     "output_type": "stream",
     "text": [
      "Processing Target Nodes (Test 9): 100%|██████████| 15/15 [00:11<00:00,  1.31it/s]\n"
     ]
    },
    {
     "name": "stdout",
     "output_type": "stream",
     "text": [
      "\n",
      "=== Processing Test 10: Train (2008-07-01 to 2008-12-31), Test (2009-01-01 to 2009-06-30) ===\n"
     ]
    },
    {
     "name": "stderr",
     "output_type": "stream",
     "text": [
      "Processing Target Nodes (Test 10): 100%|██████████| 15/15 [00:11<00:00,  1.29it/s]\n"
     ]
    },
    {
     "name": "stdout",
     "output_type": "stream",
     "text": [
      "\n",
      "=== Processing Test 11: Train (2009-01-01 to 2009-06-30), Test (2009-07-01 to 2009-12-31) ===\n"
     ]
    },
    {
     "name": "stderr",
     "output_type": "stream",
     "text": [
      "Processing Target Nodes (Test 11): 100%|██████████| 15/15 [00:11<00:00,  1.32it/s]\n"
     ]
    },
    {
     "name": "stdout",
     "output_type": "stream",
     "text": [
      "\n",
      "=== Processing Test 12: Train (2009-07-01 to 2009-12-31), Test (2010-01-01 to 2010-06-30) ===\n"
     ]
    },
    {
     "name": "stderr",
     "output_type": "stream",
     "text": [
      "Processing Target Nodes (Test 12): 100%|██████████| 15/15 [00:11<00:00,  1.27it/s]\n"
     ]
    },
    {
     "name": "stdout",
     "output_type": "stream",
     "text": [
      "\n",
      "=== Processing Test 13: Train (2010-01-01 to 2010-06-30), Test (2010-07-01 to 2010-12-31) ===\n"
     ]
    },
    {
     "name": "stderr",
     "output_type": "stream",
     "text": [
      "Processing Target Nodes (Test 13): 100%|██████████| 15/15 [00:11<00:00,  1.32it/s]\n"
     ]
    },
    {
     "name": "stdout",
     "output_type": "stream",
     "text": [
      "\n",
      "=== Processing Test 14: Train (2010-07-01 to 2010-12-31), Test (2011-01-01 to 2011-06-30) ===\n"
     ]
    },
    {
     "name": "stderr",
     "output_type": "stream",
     "text": [
      "Processing Target Nodes (Test 14): 100%|██████████| 15/15 [00:11<00:00,  1.28it/s]\n"
     ]
    },
    {
     "name": "stdout",
     "output_type": "stream",
     "text": [
      "\n",
      "=== Processing Test 15: Train (2011-01-01 to 2011-06-30), Test (2011-07-01 to 2011-12-31) ===\n"
     ]
    },
    {
     "name": "stderr",
     "output_type": "stream",
     "text": [
      "Processing Target Nodes (Test 15): 100%|██████████| 15/15 [00:11<00:00,  1.30it/s]\n"
     ]
    },
    {
     "name": "stdout",
     "output_type": "stream",
     "text": [
      "\n",
      "=== Processing Test 16: Train (2011-07-01 to 2011-12-31), Test (2012-01-01 to 2012-06-30) ===\n"
     ]
    },
    {
     "name": "stderr",
     "output_type": "stream",
     "text": [
      "Processing Target Nodes (Test 16): 100%|██████████| 15/15 [00:11<00:00,  1.30it/s]\n"
     ]
    },
    {
     "name": "stdout",
     "output_type": "stream",
     "text": [
      "\n",
      "=== Processing Test 17: Train (2012-01-01 to 2012-06-30), Test (2012-07-01 to 2012-12-31) ===\n"
     ]
    },
    {
     "name": "stderr",
     "output_type": "stream",
     "text": [
      "Processing Target Nodes (Test 17): 100%|██████████| 15/15 [00:11<00:00,  1.27it/s]\n"
     ]
    },
    {
     "name": "stdout",
     "output_type": "stream",
     "text": [
      "\n",
      "=== Processing Test 18: Train (2012-07-01 to 2012-12-31), Test (2013-01-01 to 2013-06-30) ===\n"
     ]
    },
    {
     "name": "stderr",
     "output_type": "stream",
     "text": [
      "Processing Target Nodes (Test 18): 100%|██████████| 15/15 [00:11<00:00,  1.30it/s]\n"
     ]
    },
    {
     "name": "stdout",
     "output_type": "stream",
     "text": [
      "\n",
      "=== Processing Test 19: Train (2013-01-01 to 2013-06-30), Test (2013-07-01 to 2013-12-31) ===\n"
     ]
    },
    {
     "name": "stderr",
     "output_type": "stream",
     "text": [
      "Processing Target Nodes (Test 19): 100%|██████████| 15/15 [00:11<00:00,  1.31it/s]\n"
     ]
    },
    {
     "name": "stdout",
     "output_type": "stream",
     "text": [
      "\n",
      "=== Processing Test 20: Train (2013-07-01 to 2013-12-31), Test (2014-01-01 to 2014-06-30) ===\n"
     ]
    },
    {
     "name": "stderr",
     "output_type": "stream",
     "text": [
      "Processing Target Nodes (Test 20): 100%|██████████| 15/15 [00:11<00:00,  1.27it/s]\n"
     ]
    },
    {
     "name": "stdout",
     "output_type": "stream",
     "text": [
      "\n",
      "=== Processing Test 21: Train (2014-01-01 to 2014-06-30), Test (2014-07-01 to 2014-12-31) ===\n"
     ]
    },
    {
     "name": "stderr",
     "output_type": "stream",
     "text": [
      "Processing Target Nodes (Test 21): 100%|██████████| 15/15 [00:11<00:00,  1.30it/s]\n"
     ]
    },
    {
     "name": "stdout",
     "output_type": "stream",
     "text": [
      "\n",
      "=== Processing Test 22: Train (2014-07-01 to 2014-12-31), Test (2015-01-01 to 2015-06-30) ===\n"
     ]
    },
    {
     "name": "stderr",
     "output_type": "stream",
     "text": [
      "Processing Target Nodes (Test 22): 100%|██████████| 14/14 [00:10<00:00,  1.33it/s]\n"
     ]
    },
    {
     "name": "stdout",
     "output_type": "stream",
     "text": [
      "\n",
      "=== Processing Test 23: Train (2015-01-01 to 2015-06-30), Test (2015-07-01 to 2015-12-31) ===\n"
     ]
    },
    {
     "name": "stderr",
     "output_type": "stream",
     "text": [
      "Processing Target Nodes (Test 23): 100%|██████████| 15/15 [00:11<00:00,  1.29it/s]\n"
     ]
    },
    {
     "name": "stdout",
     "output_type": "stream",
     "text": [
      "\n",
      "=== Processing Test 24: Train (2015-07-01 to 2015-12-31), Test (2016-01-01 to 2016-06-30) ===\n"
     ]
    },
    {
     "name": "stderr",
     "output_type": "stream",
     "text": [
      "Processing Target Nodes (Test 24): 100%|██████████| 15/15 [00:11<00:00,  1.28it/s]\n"
     ]
    },
    {
     "name": "stdout",
     "output_type": "stream",
     "text": [
      "\n",
      "=== Processing Test 25: Train (2016-01-01 to 2016-06-30), Test (2016-07-01 to 2016-12-31) ===\n"
     ]
    },
    {
     "name": "stderr",
     "output_type": "stream",
     "text": [
      "Processing Target Nodes (Test 25): 100%|██████████| 15/15 [00:11<00:00,  1.30it/s]\n"
     ]
    },
    {
     "name": "stdout",
     "output_type": "stream",
     "text": [
      "\n",
      "=== Processing Test 26: Train (2016-07-01 to 2016-12-31), Test (2017-01-01 to 2017-06-30) ===\n"
     ]
    },
    {
     "name": "stderr",
     "output_type": "stream",
     "text": [
      "Processing Target Nodes (Test 26): 100%|██████████| 15/15 [00:11<00:00,  1.28it/s]\n"
     ]
    },
    {
     "name": "stdout",
     "output_type": "stream",
     "text": [
      "\n",
      "=== Processing Test 27: Train (2017-01-01 to 2017-06-30), Test (2017-07-01 to 2017-12-31) ===\n"
     ]
    },
    {
     "name": "stderr",
     "output_type": "stream",
     "text": [
      "Processing Target Nodes (Test 27): 100%|██████████| 14/14 [00:10<00:00,  1.36it/s]\n"
     ]
    },
    {
     "name": "stdout",
     "output_type": "stream",
     "text": [
      "\n",
      "=== Processing Test 28: Train (2017-07-01 to 2017-12-31), Test (2018-01-01 to 2018-06-30) ===\n"
     ]
    },
    {
     "name": "stderr",
     "output_type": "stream",
     "text": [
      "Processing Target Nodes (Test 28): 100%|██████████| 13/13 [00:09<00:00,  1.42it/s]\n"
     ]
    },
    {
     "name": "stdout",
     "output_type": "stream",
     "text": [
      "\n",
      "=== Processing Test 29: Train (2018-01-01 to 2018-06-30), Test (2018-07-01 to 2018-12-31) ===\n"
     ]
    },
    {
     "name": "stderr",
     "output_type": "stream",
     "text": [
      "Processing Target Nodes (Test 29): 100%|██████████| 14/14 [00:10<00:00,  1.35it/s]\n"
     ]
    },
    {
     "name": "stdout",
     "output_type": "stream",
     "text": [
      "\n",
      "=== Processing Test 30: Train (2018-07-01 to 2018-12-31), Test (2019-01-01 to 2019-06-30) ===\n"
     ]
    },
    {
     "name": "stderr",
     "output_type": "stream",
     "text": [
      "Processing Target Nodes (Test 30): 100%|██████████| 15/15 [00:11<00:00,  1.29it/s]\n"
     ]
    },
    {
     "name": "stdout",
     "output_type": "stream",
     "text": [
      "\n",
      "=== Processing Test 31: Train (2019-01-01 to 2019-06-30), Test (2019-07-01 to 2019-12-31) ===\n"
     ]
    },
    {
     "name": "stderr",
     "output_type": "stream",
     "text": [
      "Processing Target Nodes (Test 31): 100%|██████████| 15/15 [00:11<00:00,  1.32it/s]\n"
     ]
    },
    {
     "name": "stdout",
     "output_type": "stream",
     "text": [
      "\n",
      "=== Processing Test 32: Train (2019-07-01 to 2019-12-31), Test (2020-01-01 to 2020-06-30) ===\n"
     ]
    },
    {
     "name": "stderr",
     "output_type": "stream",
     "text": [
      "Processing Target Nodes (Test 32): 100%|██████████| 14/14 [00:10<00:00,  1.34it/s]\n"
     ]
    },
    {
     "name": "stdout",
     "output_type": "stream",
     "text": [
      "\n",
      "=== Processing Test 33: Train (2020-01-01 to 2020-06-30), Test (2020-07-01 to 2020-12-31) ===\n"
     ]
    },
    {
     "name": "stderr",
     "output_type": "stream",
     "text": [
      "Processing Target Nodes (Test 33): 100%|██████████| 15/15 [00:11<00:00,  1.32it/s]\n"
     ]
    },
    {
     "name": "stdout",
     "output_type": "stream",
     "text": [
      "\n",
      "=== Processing Test 34: Train (2020-07-01 to 2020-12-31), Test (2021-01-01 to 2021-06-30) ===\n"
     ]
    },
    {
     "name": "stderr",
     "output_type": "stream",
     "text": [
      "Processing Target Nodes (Test 34): 100%|██████████| 14/14 [00:10<00:00,  1.34it/s]\n"
     ]
    },
    {
     "name": "stdout",
     "output_type": "stream",
     "text": [
      "\n",
      "=== Processing Test 35: Train (2021-01-01 to 2021-06-30), Test (2021-07-01 to 2021-12-31) ===\n"
     ]
    },
    {
     "name": "stderr",
     "output_type": "stream",
     "text": [
      "Processing Target Nodes (Test 35): 100%|██████████| 15/15 [00:11<00:00,  1.31it/s]\n"
     ]
    },
    {
     "name": "stdout",
     "output_type": "stream",
     "text": [
      "\n",
      "=== Processing Test 36: Train (2021-07-01 to 2021-12-31), Test (2022-01-01 to 2022-06-30) ===\n"
     ]
    },
    {
     "name": "stderr",
     "output_type": "stream",
     "text": [
      "Processing Target Nodes (Test 36): 100%|██████████| 14/14 [00:10<00:00,  1.35it/s]\n"
     ]
    },
    {
     "name": "stdout",
     "output_type": "stream",
     "text": [
      "\n",
      "=== Processing Test 37: Train (2022-01-01 to 2022-06-30), Test (2022-07-01 to 2022-12-31) ===\n"
     ]
    },
    {
     "name": "stderr",
     "output_type": "stream",
     "text": [
      "Processing Target Nodes (Test 37): 100%|██████████| 15/15 [00:11<00:00,  1.30it/s]\n"
     ]
    },
    {
     "name": "stdout",
     "output_type": "stream",
     "text": [
      "\n",
      "=== Processing Test 38: Train (2022-07-01 to 2022-12-31), Test (2023-01-01 to 2023-06-30) ===\n"
     ]
    },
    {
     "name": "stderr",
     "output_type": "stream",
     "text": [
      "Processing Target Nodes (Test 38): 100%|██████████| 15/15 [00:11<00:00,  1.29it/s]\n"
     ]
    },
    {
     "name": "stdout",
     "output_type": "stream",
     "text": [
      "\n",
      "=== Processing Test 39: Train (2023-01-01 to 2023-06-30), Test (2023-07-01 to 2023-12-31) ===\n"
     ]
    },
    {
     "name": "stderr",
     "output_type": "stream",
     "text": [
      "Processing Target Nodes (Test 39): 100%|██████████| 14/14 [00:10<00:00,  1.38it/s]\n"
     ]
    },
    {
     "name": "stdout",
     "output_type": "stream",
     "text": [
      "\n",
      "=== Processing Test 40: Train (2023-07-01 to 2023-12-31), Test (2024-01-01 to 2024-06-30) ===\n"
     ]
    },
    {
     "name": "stderr",
     "output_type": "stream",
     "text": [
      "Processing Target Nodes (Test 40): 100%|██████████| 14/14 [00:10<00:00,  1.34it/s]\n"
     ]
    },
    {
     "name": "stdout",
     "output_type": "stream",
     "text": [
      "\n",
      "=== Processing Test 41: Train (2024-01-01 to 2024-06-30), Test (2024-07-01 to 2024-12-31) ===\n"
     ]
    },
    {
     "name": "stderr",
     "output_type": "stream",
     "text": [
      "Processing Target Nodes (Test 41): 100%|██████████| 14/14 [00:10<00:00,  1.37it/s]"
     ]
    },
    {
     "name": "stdout",
     "output_type": "stream",
     "text": [
      "\n",
      "Final Results with Gradient Boosting Regressor:\n"
     ]
    },
    {
     "name": "stderr",
     "output_type": "stream",
     "text": [
      "\n"
     ]
    },
    {
     "data": {
      "text/html": [
       "<div>\n",
       "<style scoped>\n",
       "    .dataframe tbody tr th:only-of-type {\n",
       "        vertical-align: middle;\n",
       "    }\n",
       "\n",
       "    .dataframe tbody tr th {\n",
       "        vertical-align: top;\n",
       "    }\n",
       "\n",
       "    .dataframe thead th {\n",
       "        text-align: right;\n",
       "    }\n",
       "</style>\n",
       "<table border=\"1\" class=\"dataframe\">\n",
       "  <thead>\n",
       "    <tr style=\"text-align: right;\">\n",
       "      <th></th>\n",
       "      <th>Test ID</th>\n",
       "      <th>Target Index</th>\n",
       "      <th>RMSE</th>\n",
       "      <th>RMAE</th>\n",
       "    </tr>\n",
       "  </thead>\n",
       "  <tbody>\n",
       "    <tr>\n",
       "      <th>0</th>\n",
       "      <td>1</td>\n",
       "      <td>Turkey BIST 100</td>\n",
       "      <td>0.017771</td>\n",
       "      <td>0.013886</td>\n",
       "    </tr>\n",
       "    <tr>\n",
       "      <th>1</th>\n",
       "      <td>1</td>\n",
       "      <td>Hang Seng</td>\n",
       "      <td>0.010120</td>\n",
       "      <td>0.007971</td>\n",
       "    </tr>\n",
       "    <tr>\n",
       "      <th>2</th>\n",
       "      <td>1</td>\n",
       "      <td>Straits Times</td>\n",
       "      <td>0.007203</td>\n",
       "      <td>0.005855</td>\n",
       "    </tr>\n",
       "    <tr>\n",
       "      <th>3</th>\n",
       "      <td>1</td>\n",
       "      <td>Mexican IPC</td>\n",
       "      <td>0.008758</td>\n",
       "      <td>0.006782</td>\n",
       "    </tr>\n",
       "    <tr>\n",
       "      <th>4</th>\n",
       "      <td>1</td>\n",
       "      <td>FTSE 100</td>\n",
       "      <td>0.006462</td>\n",
       "      <td>0.005254</td>\n",
       "    </tr>\n",
       "    <tr>\n",
       "      <th>...</th>\n",
       "      <td>...</td>\n",
       "      <td>...</td>\n",
       "      <td>...</td>\n",
       "      <td>...</td>\n",
       "    </tr>\n",
       "    <tr>\n",
       "      <th>598</th>\n",
       "      <td>41</td>\n",
       "      <td>DAX</td>\n",
       "      <td>0.009777</td>\n",
       "      <td>0.007771</td>\n",
       "    </tr>\n",
       "    <tr>\n",
       "      <th>599</th>\n",
       "      <td>41</td>\n",
       "      <td>Mexican IPC</td>\n",
       "      <td>0.011156</td>\n",
       "      <td>0.008800</td>\n",
       "    </tr>\n",
       "    <tr>\n",
       "      <th>600</th>\n",
       "      <td>41</td>\n",
       "      <td>IBEX 35</td>\n",
       "      <td>0.009610</td>\n",
       "      <td>0.007594</td>\n",
       "    </tr>\n",
       "    <tr>\n",
       "      <th>601</th>\n",
       "      <td>41</td>\n",
       "      <td>CAC 40</td>\n",
       "      <td>0.010456</td>\n",
       "      <td>0.008057</td>\n",
       "    </tr>\n",
       "    <tr>\n",
       "      <th>602</th>\n",
       "      <td>41</td>\n",
       "      <td>Bovespa</td>\n",
       "      <td>0.009126</td>\n",
       "      <td>0.007207</td>\n",
       "    </tr>\n",
       "  </tbody>\n",
       "</table>\n",
       "<p>603 rows × 4 columns</p>\n",
       "</div>"
      ],
      "text/plain": [
       "     Test ID     Target Index      RMSE      RMAE\n",
       "0          1  Turkey BIST 100  0.017771  0.013886\n",
       "1          1        Hang Seng  0.010120  0.007971\n",
       "2          1    Straits Times  0.007203  0.005855\n",
       "3          1      Mexican IPC  0.008758  0.006782\n",
       "4          1         FTSE 100  0.006462  0.005254\n",
       "..       ...              ...       ...       ...\n",
       "598       41              DAX  0.009777  0.007771\n",
       "599       41      Mexican IPC  0.011156  0.008800\n",
       "600       41          IBEX 35  0.009610  0.007594\n",
       "601       41           CAC 40  0.010456  0.008057\n",
       "602       41          Bovespa  0.009126  0.007207\n",
       "\n",
       "[603 rows x 4 columns]"
      ]
     },
     "execution_count": 12,
     "metadata": {},
     "output_type": "execute_result"
    }
   ],
   "source": [
    "final_results = []\n",
    "\n",
    "# Gradient Boosting Regressor Evaluation\n",
    "for test_id, (train_start, train_end, test_start, test_end) in enumerate(test_periods):\n",
    "    print(f\"\\n=== Processing Test {test_id + 1}: Train ({train_start} to {train_end}), Test ({test_start} to {test_end}) ===\")\n",
    "    \n",
    "    # Train/Test 데이터 분리\n",
    "    train_data = returns.loc[train_start:train_end]\n",
    "    test_data = returns.loc[test_start:test_end]\n",
    "    \n",
    "    # 그래프 생성 (Train 데이터 기준)\n",
    "    G = create_correlation_graph(train_data)\n",
    "    nodes_in_graph = list(G.nodes)\n",
    "    \n",
    "    # Train/Test 데이터 준비\n",
    "    X_train = train_data[nodes_in_graph].iloc[:-1].values\n",
    "    y_train_set = train_data[nodes_in_graph].iloc[1:].values\n",
    "    X_test = test_data[nodes_in_graph].iloc[:-1].values\n",
    "    y_test_set = test_data[nodes_in_graph].iloc[1:].values\n",
    "    \n",
    "    # Target Index Loop\n",
    "    for target_idx in tqdm(range(len(nodes_in_graph)), desc=f\"Processing Target Nodes (Test {test_id + 1})\"):\n",
    "        rmse_scores = []\n",
    "        rmae_scores = []\n",
    "        \n",
    "        for _ in range(n_experiments):  # 반복 실험\n",
    "            y_train = y_train_set[:, target_idx]\n",
    "            y_test = y_test_set[:, target_idx]\n",
    "            \n",
    "            # Gradient Boosting Regressor 초기화 및 학습\n",
    "            random_seed = np.random.randint(0, 10000)\n",
    "            model = GradientBoostingRegressor(\n",
    "                n_estimators=100,\n",
    "                min_samples_split=5,\n",
    "                min_samples_leaf=3,\n",
    "                random_state=random_seed\n",
    "            )\n",
    "            model.fit(X_train, y_train)\n",
    "            \n",
    "            # 예측 및 평가\n",
    "            y_pred = model.predict(X_test)\n",
    "            rmse = np.sqrt(mean_squared_error(y_test, y_pred))\n",
    "            rmae = mean_absolute_error(y_test, y_pred)\n",
    "            \n",
    "            # 결과 수집\n",
    "            rmse_scores.append(rmse)\n",
    "            rmae_scores.append(rmae)\n",
    "        \n",
    "        # 결과 집계\n",
    "        final_results.append({\n",
    "            'Test ID': test_id + 1,\n",
    "            'Target Index': nodes_in_graph[target_idx],\n",
    "            'RMSE': np.mean(rmse_scores),\n",
    "            'RMAE': np.mean(rmae_scores)\n",
    "        })\n",
    "\n",
    "# 결과를 DataFrame으로 정리\n",
    "gbc_results = pd.DataFrame(final_results)\n",
    "\n",
    "# Display results\n",
    "print(\"\\nFinal Results with Gradient Boosting Regressor:\")\n",
    "gbc_results"
   ]
  },
  {
   "cell_type": "markdown",
   "metadata": {},
   "source": [
    "#### 4.3. Multi-Layer Perceptron Model 사용"
   ]
  },
  {
   "cell_type": "code",
   "execution_count": 13,
   "metadata": {},
   "outputs": [
    {
     "name": "stdout",
     "output_type": "stream",
     "text": [
      "\n",
      "=== Processing Test 1: Train (2004-01-01 to 2004-06-30), Test (2004-07-01 to 2004-12-31) ===\n"
     ]
    },
    {
     "name": "stderr",
     "output_type": "stream",
     "text": [
      "Processing Target Nodes (Test 1): 100%|██████████| 15/15 [00:07<00:00,  1.93it/s]\n"
     ]
    },
    {
     "name": "stdout",
     "output_type": "stream",
     "text": [
      "\n",
      "=== Processing Test 2: Train (2004-07-01 to 2004-12-31), Test (2005-01-01 to 2005-06-30) ===\n"
     ]
    },
    {
     "name": "stderr",
     "output_type": "stream",
     "text": [
      "Processing Target Nodes (Test 2): 100%|██████████| 14/14 [00:09<00:00,  1.48it/s]\n"
     ]
    },
    {
     "name": "stdout",
     "output_type": "stream",
     "text": [
      "\n",
      "=== Processing Test 3: Train (2005-01-01 to 2005-06-30), Test (2005-07-01 to 2005-12-31) ===\n"
     ]
    },
    {
     "name": "stderr",
     "output_type": "stream",
     "text": [
      "Processing Target Nodes (Test 3): 100%|██████████| 15/15 [00:06<00:00,  2.26it/s]\n"
     ]
    },
    {
     "name": "stdout",
     "output_type": "stream",
     "text": [
      "\n",
      "=== Processing Test 4: Train (2005-07-01 to 2005-12-31), Test (2006-01-01 to 2006-06-30) ===\n"
     ]
    },
    {
     "name": "stderr",
     "output_type": "stream",
     "text": [
      "Processing Target Nodes (Test 4): 100%|██████████| 15/15 [00:05<00:00,  2.53it/s]\n"
     ]
    },
    {
     "name": "stdout",
     "output_type": "stream",
     "text": [
      "\n",
      "=== Processing Test 5: Train (2006-01-01 to 2006-06-30), Test (2006-07-01 to 2006-12-31) ===\n"
     ]
    },
    {
     "name": "stderr",
     "output_type": "stream",
     "text": [
      "Processing Target Nodes (Test 5): 100%|██████████| 15/15 [00:05<00:00,  2.61it/s]\n"
     ]
    },
    {
     "name": "stdout",
     "output_type": "stream",
     "text": [
      "\n",
      "=== Processing Test 6: Train (2006-07-01 to 2006-12-31), Test (2007-01-01 to 2007-06-30) ===\n"
     ]
    },
    {
     "name": "stderr",
     "output_type": "stream",
     "text": [
      "Processing Target Nodes (Test 6): 100%|██████████| 15/15 [00:06<00:00,  2.34it/s]\n"
     ]
    },
    {
     "name": "stdout",
     "output_type": "stream",
     "text": [
      "\n",
      "=== Processing Test 7: Train (2007-01-01 to 2007-06-30), Test (2007-07-01 to 2007-12-31) ===\n"
     ]
    },
    {
     "name": "stderr",
     "output_type": "stream",
     "text": [
      "Processing Target Nodes (Test 7): 100%|██████████| 15/15 [00:05<00:00,  2.69it/s]\n"
     ]
    },
    {
     "name": "stdout",
     "output_type": "stream",
     "text": [
      "\n",
      "=== Processing Test 8: Train (2007-07-01 to 2007-12-31), Test (2008-01-01 to 2008-06-30) ===\n"
     ]
    },
    {
     "name": "stderr",
     "output_type": "stream",
     "text": [
      "Processing Target Nodes (Test 8): 100%|██████████| 15/15 [00:05<00:00,  2.65it/s]\n"
     ]
    },
    {
     "name": "stdout",
     "output_type": "stream",
     "text": [
      "\n",
      "=== Processing Test 9: Train (2008-01-01 to 2008-06-30), Test (2008-07-01 to 2008-12-31) ===\n"
     ]
    },
    {
     "name": "stderr",
     "output_type": "stream",
     "text": [
      "Processing Target Nodes (Test 9): 100%|██████████| 15/15 [00:06<00:00,  2.41it/s]\n"
     ]
    },
    {
     "name": "stdout",
     "output_type": "stream",
     "text": [
      "\n",
      "=== Processing Test 10: Train (2008-07-01 to 2008-12-31), Test (2009-01-01 to 2009-06-30) ===\n"
     ]
    },
    {
     "name": "stderr",
     "output_type": "stream",
     "text": [
      "Processing Target Nodes (Test 10): 100%|██████████| 15/15 [00:06<00:00,  2.46it/s]\n"
     ]
    },
    {
     "name": "stdout",
     "output_type": "stream",
     "text": [
      "\n",
      "=== Processing Test 11: Train (2009-01-01 to 2009-06-30), Test (2009-07-01 to 2009-12-31) ===\n"
     ]
    },
    {
     "name": "stderr",
     "output_type": "stream",
     "text": [
      "Processing Target Nodes (Test 11): 100%|██████████| 15/15 [00:05<00:00,  2.91it/s]\n"
     ]
    },
    {
     "name": "stdout",
     "output_type": "stream",
     "text": [
      "\n",
      "=== Processing Test 12: Train (2009-07-01 to 2009-12-31), Test (2010-01-01 to 2010-06-30) ===\n"
     ]
    },
    {
     "name": "stderr",
     "output_type": "stream",
     "text": [
      "Processing Target Nodes (Test 12): 100%|██████████| 15/15 [00:06<00:00,  2.43it/s]\n"
     ]
    },
    {
     "name": "stdout",
     "output_type": "stream",
     "text": [
      "\n",
      "=== Processing Test 13: Train (2010-01-01 to 2010-06-30), Test (2010-07-01 to 2010-12-31) ===\n"
     ]
    },
    {
     "name": "stderr",
     "output_type": "stream",
     "text": [
      "Processing Target Nodes (Test 13): 100%|██████████| 15/15 [00:05<00:00,  2.54it/s]\n"
     ]
    },
    {
     "name": "stdout",
     "output_type": "stream",
     "text": [
      "\n",
      "=== Processing Test 14: Train (2010-07-01 to 2010-12-31), Test (2011-01-01 to 2011-06-30) ===\n"
     ]
    },
    {
     "name": "stderr",
     "output_type": "stream",
     "text": [
      "Processing Target Nodes (Test 14): 100%|██████████| 15/15 [00:05<00:00,  2.64it/s]\n"
     ]
    },
    {
     "name": "stdout",
     "output_type": "stream",
     "text": [
      "\n",
      "=== Processing Test 15: Train (2011-01-01 to 2011-06-30), Test (2011-07-01 to 2011-12-31) ===\n"
     ]
    },
    {
     "name": "stderr",
     "output_type": "stream",
     "text": [
      "Processing Target Nodes (Test 15): 100%|██████████| 15/15 [00:06<00:00,  2.44it/s]\n"
     ]
    },
    {
     "name": "stdout",
     "output_type": "stream",
     "text": [
      "\n",
      "=== Processing Test 16: Train (2011-07-01 to 2011-12-31), Test (2012-01-01 to 2012-06-30) ===\n"
     ]
    },
    {
     "name": "stderr",
     "output_type": "stream",
     "text": [
      "Processing Target Nodes (Test 16): 100%|██████████| 15/15 [00:05<00:00,  2.51it/s]\n"
     ]
    },
    {
     "name": "stdout",
     "output_type": "stream",
     "text": [
      "\n",
      "=== Processing Test 17: Train (2012-01-01 to 2012-06-30), Test (2012-07-01 to 2012-12-31) ===\n"
     ]
    },
    {
     "name": "stderr",
     "output_type": "stream",
     "text": [
      "Processing Target Nodes (Test 17): 100%|██████████| 15/15 [00:05<00:00,  2.51it/s]\n"
     ]
    },
    {
     "name": "stdout",
     "output_type": "stream",
     "text": [
      "\n",
      "=== Processing Test 18: Train (2012-07-01 to 2012-12-31), Test (2013-01-01 to 2013-06-30) ===\n"
     ]
    },
    {
     "name": "stderr",
     "output_type": "stream",
     "text": [
      "Processing Target Nodes (Test 18): 100%|██████████| 15/15 [00:07<00:00,  2.10it/s]\n"
     ]
    },
    {
     "name": "stdout",
     "output_type": "stream",
     "text": [
      "\n",
      "=== Processing Test 19: Train (2013-01-01 to 2013-06-30), Test (2013-07-01 to 2013-12-31) ===\n"
     ]
    },
    {
     "name": "stderr",
     "output_type": "stream",
     "text": [
      "Processing Target Nodes (Test 19): 100%|██████████| 15/15 [00:06<00:00,  2.42it/s]\n"
     ]
    },
    {
     "name": "stdout",
     "output_type": "stream",
     "text": [
      "\n",
      "=== Processing Test 20: Train (2013-07-01 to 2013-12-31), Test (2014-01-01 to 2014-06-30) ===\n"
     ]
    },
    {
     "name": "stderr",
     "output_type": "stream",
     "text": [
      "Processing Target Nodes (Test 20): 100%|██████████| 15/15 [00:06<00:00,  2.30it/s]\n"
     ]
    },
    {
     "name": "stdout",
     "output_type": "stream",
     "text": [
      "\n",
      "=== Processing Test 21: Train (2014-01-01 to 2014-06-30), Test (2014-07-01 to 2014-12-31) ===\n"
     ]
    },
    {
     "name": "stderr",
     "output_type": "stream",
     "text": [
      "Processing Target Nodes (Test 21): 100%|██████████| 15/15 [00:06<00:00,  2.47it/s]\n"
     ]
    },
    {
     "name": "stdout",
     "output_type": "stream",
     "text": [
      "\n",
      "=== Processing Test 22: Train (2014-07-01 to 2014-12-31), Test (2015-01-01 to 2015-06-30) ===\n"
     ]
    },
    {
     "name": "stderr",
     "output_type": "stream",
     "text": [
      "Processing Target Nodes (Test 22): 100%|██████████| 14/14 [00:05<00:00,  2.46it/s]\n"
     ]
    },
    {
     "name": "stdout",
     "output_type": "stream",
     "text": [
      "\n",
      "=== Processing Test 23: Train (2015-01-01 to 2015-06-30), Test (2015-07-01 to 2015-12-31) ===\n"
     ]
    },
    {
     "name": "stderr",
     "output_type": "stream",
     "text": [
      "Processing Target Nodes (Test 23): 100%|██████████| 15/15 [00:06<00:00,  2.38it/s]\n"
     ]
    },
    {
     "name": "stdout",
     "output_type": "stream",
     "text": [
      "\n",
      "=== Processing Test 24: Train (2015-07-01 to 2015-12-31), Test (2016-01-01 to 2016-06-30) ===\n"
     ]
    },
    {
     "name": "stderr",
     "output_type": "stream",
     "text": [
      "Processing Target Nodes (Test 24): 100%|██████████| 15/15 [00:05<00:00,  2.55it/s]\n"
     ]
    },
    {
     "name": "stdout",
     "output_type": "stream",
     "text": [
      "\n",
      "=== Processing Test 25: Train (2016-01-01 to 2016-06-30), Test (2016-07-01 to 2016-12-31) ===\n"
     ]
    },
    {
     "name": "stderr",
     "output_type": "stream",
     "text": [
      "Processing Target Nodes (Test 25): 100%|██████████| 15/15 [00:05<00:00,  2.56it/s]\n"
     ]
    },
    {
     "name": "stdout",
     "output_type": "stream",
     "text": [
      "\n",
      "=== Processing Test 26: Train (2016-07-01 to 2016-12-31), Test (2017-01-01 to 2017-06-30) ===\n"
     ]
    },
    {
     "name": "stderr",
     "output_type": "stream",
     "text": [
      "Processing Target Nodes (Test 26): 100%|██████████| 15/15 [00:06<00:00,  2.45it/s]\n"
     ]
    },
    {
     "name": "stdout",
     "output_type": "stream",
     "text": [
      "\n",
      "=== Processing Test 27: Train (2017-01-01 to 2017-06-30), Test (2017-07-01 to 2017-12-31) ===\n"
     ]
    },
    {
     "name": "stderr",
     "output_type": "stream",
     "text": [
      "Processing Target Nodes (Test 27): 100%|██████████| 14/14 [00:05<00:00,  2.52it/s]\n"
     ]
    },
    {
     "name": "stdout",
     "output_type": "stream",
     "text": [
      "\n",
      "=== Processing Test 28: Train (2017-07-01 to 2017-12-31), Test (2018-01-01 to 2018-06-30) ===\n"
     ]
    },
    {
     "name": "stderr",
     "output_type": "stream",
     "text": [
      "Processing Target Nodes (Test 28): 100%|██████████| 13/13 [00:05<00:00,  2.49it/s]\n"
     ]
    },
    {
     "name": "stdout",
     "output_type": "stream",
     "text": [
      "\n",
      "=== Processing Test 29: Train (2018-01-01 to 2018-06-30), Test (2018-07-01 to 2018-12-31) ===\n"
     ]
    },
    {
     "name": "stderr",
     "output_type": "stream",
     "text": [
      "Processing Target Nodes (Test 29): 100%|██████████| 14/14 [00:05<00:00,  2.60it/s]\n"
     ]
    },
    {
     "name": "stdout",
     "output_type": "stream",
     "text": [
      "\n",
      "=== Processing Test 30: Train (2018-07-01 to 2018-12-31), Test (2019-01-01 to 2019-06-30) ===\n"
     ]
    },
    {
     "name": "stderr",
     "output_type": "stream",
     "text": [
      "Processing Target Nodes (Test 30): 100%|██████████| 15/15 [00:06<00:00,  2.48it/s]\n"
     ]
    },
    {
     "name": "stdout",
     "output_type": "stream",
     "text": [
      "\n",
      "=== Processing Test 31: Train (2019-01-01 to 2019-06-30), Test (2019-07-01 to 2019-12-31) ===\n"
     ]
    },
    {
     "name": "stderr",
     "output_type": "stream",
     "text": [
      "Processing Target Nodes (Test 31): 100%|██████████| 15/15 [00:05<00:00,  2.60it/s]\n"
     ]
    },
    {
     "name": "stdout",
     "output_type": "stream",
     "text": [
      "\n",
      "=== Processing Test 32: Train (2019-07-01 to 2019-12-31), Test (2020-01-01 to 2020-06-30) ===\n"
     ]
    },
    {
     "name": "stderr",
     "output_type": "stream",
     "text": [
      "Processing Target Nodes (Test 32): 100%|██████████| 14/14 [00:05<00:00,  2.45it/s]\n"
     ]
    },
    {
     "name": "stdout",
     "output_type": "stream",
     "text": [
      "\n",
      "=== Processing Test 33: Train (2020-01-01 to 2020-06-30), Test (2020-07-01 to 2020-12-31) ===\n"
     ]
    },
    {
     "name": "stderr",
     "output_type": "stream",
     "text": [
      "Processing Target Nodes (Test 33): 100%|██████████| 15/15 [00:06<00:00,  2.26it/s]\n"
     ]
    },
    {
     "name": "stdout",
     "output_type": "stream",
     "text": [
      "\n",
      "=== Processing Test 34: Train (2020-07-01 to 2020-12-31), Test (2021-01-01 to 2021-06-30) ===\n"
     ]
    },
    {
     "name": "stderr",
     "output_type": "stream",
     "text": [
      "Processing Target Nodes (Test 34): 100%|██████████| 14/14 [00:05<00:00,  2.41it/s]\n"
     ]
    },
    {
     "name": "stdout",
     "output_type": "stream",
     "text": [
      "\n",
      "=== Processing Test 35: Train (2021-01-01 to 2021-06-30), Test (2021-07-01 to 2021-12-31) ===\n"
     ]
    },
    {
     "name": "stderr",
     "output_type": "stream",
     "text": [
      "Processing Target Nodes (Test 35): 100%|██████████| 15/15 [00:06<00:00,  2.35it/s]\n"
     ]
    },
    {
     "name": "stdout",
     "output_type": "stream",
     "text": [
      "\n",
      "=== Processing Test 36: Train (2021-07-01 to 2021-12-31), Test (2022-01-01 to 2022-06-30) ===\n"
     ]
    },
    {
     "name": "stderr",
     "output_type": "stream",
     "text": [
      "Processing Target Nodes (Test 36): 100%|██████████| 14/14 [00:06<00:00,  2.28it/s]\n"
     ]
    },
    {
     "name": "stdout",
     "output_type": "stream",
     "text": [
      "\n",
      "=== Processing Test 37: Train (2022-01-01 to 2022-06-30), Test (2022-07-01 to 2022-12-31) ===\n"
     ]
    },
    {
     "name": "stderr",
     "output_type": "stream",
     "text": [
      "Processing Target Nodes (Test 37): 100%|██████████| 15/15 [00:06<00:00,  2.46it/s]\n"
     ]
    },
    {
     "name": "stdout",
     "output_type": "stream",
     "text": [
      "\n",
      "=== Processing Test 38: Train (2022-07-01 to 2022-12-31), Test (2023-01-01 to 2023-06-30) ===\n"
     ]
    },
    {
     "name": "stderr",
     "output_type": "stream",
     "text": [
      "Processing Target Nodes (Test 38): 100%|██████████| 15/15 [00:07<00:00,  2.04it/s]\n"
     ]
    },
    {
     "name": "stdout",
     "output_type": "stream",
     "text": [
      "\n",
      "=== Processing Test 39: Train (2023-01-01 to 2023-06-30), Test (2023-07-01 to 2023-12-31) ===\n"
     ]
    },
    {
     "name": "stderr",
     "output_type": "stream",
     "text": [
      "Processing Target Nodes (Test 39): 100%|██████████| 14/14 [00:06<00:00,  2.07it/s]\n"
     ]
    },
    {
     "name": "stdout",
     "output_type": "stream",
     "text": [
      "\n",
      "=== Processing Test 40: Train (2023-07-01 to 2023-12-31), Test (2024-01-01 to 2024-06-30) ===\n"
     ]
    },
    {
     "name": "stderr",
     "output_type": "stream",
     "text": [
      "Processing Target Nodes (Test 40): 100%|██████████| 14/14 [00:06<00:00,  2.28it/s]\n"
     ]
    },
    {
     "name": "stdout",
     "output_type": "stream",
     "text": [
      "\n",
      "=== Processing Test 41: Train (2024-01-01 to 2024-06-30), Test (2024-07-01 to 2024-12-31) ===\n"
     ]
    },
    {
     "name": "stderr",
     "output_type": "stream",
     "text": [
      "Processing Target Nodes (Test 41): 100%|██████████| 14/14 [00:05<00:00,  2.72it/s]"
     ]
    },
    {
     "name": "stdout",
     "output_type": "stream",
     "text": [
      "\n",
      "Final Results with MLP Regressor:\n"
     ]
    },
    {
     "name": "stderr",
     "output_type": "stream",
     "text": [
      "\n"
     ]
    },
    {
     "data": {
      "text/html": [
       "<div>\n",
       "<style scoped>\n",
       "    .dataframe tbody tr th:only-of-type {\n",
       "        vertical-align: middle;\n",
       "    }\n",
       "\n",
       "    .dataframe tbody tr th {\n",
       "        vertical-align: top;\n",
       "    }\n",
       "\n",
       "    .dataframe thead th {\n",
       "        text-align: right;\n",
       "    }\n",
       "</style>\n",
       "<table border=\"1\" class=\"dataframe\">\n",
       "  <thead>\n",
       "    <tr style=\"text-align: right;\">\n",
       "      <th></th>\n",
       "      <th>Test ID</th>\n",
       "      <th>Target Index</th>\n",
       "      <th>RMSE</th>\n",
       "      <th>RMAE</th>\n",
       "    </tr>\n",
       "  </thead>\n",
       "  <tbody>\n",
       "    <tr>\n",
       "      <th>0</th>\n",
       "      <td>1</td>\n",
       "      <td>Turkey BIST 100</td>\n",
       "      <td>0.016176</td>\n",
       "      <td>0.012905</td>\n",
       "    </tr>\n",
       "    <tr>\n",
       "      <th>1</th>\n",
       "      <td>1</td>\n",
       "      <td>Hang Seng</td>\n",
       "      <td>0.009535</td>\n",
       "      <td>0.007652</td>\n",
       "    </tr>\n",
       "    <tr>\n",
       "      <th>2</th>\n",
       "      <td>1</td>\n",
       "      <td>Straits Times</td>\n",
       "      <td>0.007929</td>\n",
       "      <td>0.006387</td>\n",
       "    </tr>\n",
       "    <tr>\n",
       "      <th>3</th>\n",
       "      <td>1</td>\n",
       "      <td>Mexican IPC</td>\n",
       "      <td>0.009357</td>\n",
       "      <td>0.007488</td>\n",
       "    </tr>\n",
       "    <tr>\n",
       "      <th>4</th>\n",
       "      <td>1</td>\n",
       "      <td>FTSE 100</td>\n",
       "      <td>0.007327</td>\n",
       "      <td>0.005877</td>\n",
       "    </tr>\n",
       "    <tr>\n",
       "      <th>...</th>\n",
       "      <td>...</td>\n",
       "      <td>...</td>\n",
       "      <td>...</td>\n",
       "      <td>...</td>\n",
       "    </tr>\n",
       "    <tr>\n",
       "      <th>598</th>\n",
       "      <td>41</td>\n",
       "      <td>DAX</td>\n",
       "      <td>0.010474</td>\n",
       "      <td>0.008135</td>\n",
       "    </tr>\n",
       "    <tr>\n",
       "      <th>599</th>\n",
       "      <td>41</td>\n",
       "      <td>Mexican IPC</td>\n",
       "      <td>0.011818</td>\n",
       "      <td>0.009425</td>\n",
       "    </tr>\n",
       "    <tr>\n",
       "      <th>600</th>\n",
       "      <td>41</td>\n",
       "      <td>IBEX 35</td>\n",
       "      <td>0.010554</td>\n",
       "      <td>0.008284</td>\n",
       "    </tr>\n",
       "    <tr>\n",
       "      <th>601</th>\n",
       "      <td>41</td>\n",
       "      <td>CAC 40</td>\n",
       "      <td>0.010819</td>\n",
       "      <td>0.008517</td>\n",
       "    </tr>\n",
       "    <tr>\n",
       "      <th>602</th>\n",
       "      <td>41</td>\n",
       "      <td>Bovespa</td>\n",
       "      <td>0.010673</td>\n",
       "      <td>0.008344</td>\n",
       "    </tr>\n",
       "  </tbody>\n",
       "</table>\n",
       "<p>603 rows × 4 columns</p>\n",
       "</div>"
      ],
      "text/plain": [
       "     Test ID     Target Index      RMSE      RMAE\n",
       "0          1  Turkey BIST 100  0.016176  0.012905\n",
       "1          1        Hang Seng  0.009535  0.007652\n",
       "2          1    Straits Times  0.007929  0.006387\n",
       "3          1      Mexican IPC  0.009357  0.007488\n",
       "4          1         FTSE 100  0.007327  0.005877\n",
       "..       ...              ...       ...       ...\n",
       "598       41              DAX  0.010474  0.008135\n",
       "599       41      Mexican IPC  0.011818  0.009425\n",
       "600       41          IBEX 35  0.010554  0.008284\n",
       "601       41           CAC 40  0.010819  0.008517\n",
       "602       41          Bovespa  0.010673  0.008344\n",
       "\n",
       "[603 rows x 4 columns]"
      ]
     },
     "execution_count": 13,
     "metadata": {},
     "output_type": "execute_result"
    }
   ],
   "source": [
    "# Initialize Results\n",
    "final_results = []\n",
    "\n",
    "# MLP Regressor Evaluation\n",
    "for test_id, (train_start, train_end, test_start, test_end) in enumerate(test_periods):\n",
    "    print(f\"\\n=== Processing Test {test_id + 1}: Train ({train_start} to {train_end}), Test ({test_start} to {test_end}) ===\")\n",
    "    \n",
    "    # Train/Test 데이터 분리\n",
    "    train_data = returns.loc[train_start:train_end]\n",
    "    test_data = returns.loc[test_start:test_end]\n",
    "    \n",
    "    # 그래프 생성 (Train 데이터 기준)\n",
    "    G = create_correlation_graph(train_data)\n",
    "    nodes_in_graph = list(G.nodes)\n",
    "    \n",
    "    # Train/Test 데이터 준비\n",
    "    X_train = train_data[nodes_in_graph].iloc[:-1].values\n",
    "    y_train_set = train_data[nodes_in_graph].iloc[1:].values\n",
    "    X_test = test_data[nodes_in_graph].iloc[:-1].values\n",
    "    y_test_set = test_data[nodes_in_graph].iloc[1:].values\n",
    "    \n",
    "    # Target Index Loop\n",
    "    for target_idx in tqdm(range(len(nodes_in_graph)), desc=f\"Processing Target Nodes (Test {test_id + 1})\"):\n",
    "        rmse_scores = []\n",
    "        rmae_scores = []\n",
    "        \n",
    "        for _ in range(n_experiments):  # 반복 실험\n",
    "            y_train = y_train_set[:, target_idx]\n",
    "            y_test = y_test_set[:, target_idx]\n",
    "            \n",
    "            # MLP Regressor 초기화 및 학습\n",
    "            random_seed = np.random.randint(0, 10000)\n",
    "            model = MLPRegressor(\n",
    "                hidden_layer_sizes=(100,),\n",
    "                max_iter=2000,\n",
    "                activation='relu',\n",
    "                learning_rate_init=0.001,\n",
    "                early_stopping=True,\n",
    "                random_state=random_seed\n",
    "            )\n",
    "            model.fit(X_train, y_train)\n",
    "            \n",
    "            # 예측 및 평가\n",
    "            y_pred = model.predict(X_test)\n",
    "            rmse = np.sqrt(mean_squared_error(y_test, y_pred))\n",
    "            rmae = mean_absolute_error(y_test, y_pred)\n",
    "            \n",
    "            # 결과 수집\n",
    "            rmse_scores.append(rmse)\n",
    "            rmae_scores.append(rmae)\n",
    "        \n",
    "        # 결과 집계\n",
    "        final_results.append({\n",
    "            'Test ID': test_id + 1,\n",
    "            'Target Index': nodes_in_graph[target_idx],\n",
    "            'RMSE': np.mean(rmse_scores),\n",
    "            'RMAE': np.mean(rmae_scores)\n",
    "        })\n",
    "\n",
    "# 결과를 DataFrame으로 정리\n",
    "mlp_results = pd.DataFrame(final_results)\n",
    "\n",
    "# Display results\n",
    "print(\"\\nFinal Results with MLP Regressor:\")\n",
    "mlp_results"
   ]
  },
  {
   "cell_type": "markdown",
   "metadata": {},
   "source": [
    "#### 4.4. K-Nearest Neighbors Model"
   ]
  },
  {
   "cell_type": "code",
   "execution_count": 14,
   "metadata": {},
   "outputs": [
    {
     "name": "stdout",
     "output_type": "stream",
     "text": [
      "\n",
      "=== Processing Test 1: Train (2004-01-01 to 2004-06-30), Test (2004-07-01 to 2004-12-31) ===\n"
     ]
    },
    {
     "name": "stderr",
     "output_type": "stream",
     "text": [
      "Processing Target Nodes (Test 1): 100%|██████████| 15/15 [00:00<00:00, 83.52it/s]\n"
     ]
    },
    {
     "name": "stdout",
     "output_type": "stream",
     "text": [
      "\n",
      "=== Processing Test 2: Train (2004-07-01 to 2004-12-31), Test (2005-01-01 to 2005-06-30) ===\n"
     ]
    },
    {
     "name": "stderr",
     "output_type": "stream",
     "text": [
      "Processing Target Nodes (Test 2): 100%|██████████| 14/14 [00:00<00:00, 89.83it/s]\n"
     ]
    },
    {
     "name": "stdout",
     "output_type": "stream",
     "text": [
      "\n",
      "=== Processing Test 3: Train (2005-01-01 to 2005-06-30), Test (2005-07-01 to 2005-12-31) ===\n"
     ]
    },
    {
     "name": "stderr",
     "output_type": "stream",
     "text": [
      "Processing Target Nodes (Test 3): 100%|██████████| 15/15 [00:00<00:00, 83.51it/s]\n"
     ]
    },
    {
     "name": "stdout",
     "output_type": "stream",
     "text": [
      "\n",
      "=== Processing Test 4: Train (2005-07-01 to 2005-12-31), Test (2006-01-01 to 2006-06-30) ===\n"
     ]
    },
    {
     "name": "stderr",
     "output_type": "stream",
     "text": [
      "Processing Target Nodes (Test 4): 100%|██████████| 15/15 [00:00<00:00, 54.38it/s]\n"
     ]
    },
    {
     "name": "stdout",
     "output_type": "stream",
     "text": [
      "\n",
      "=== Processing Test 5: Train (2006-01-01 to 2006-06-30), Test (2006-07-01 to 2006-12-31) ===\n"
     ]
    },
    {
     "name": "stderr",
     "output_type": "stream",
     "text": [
      "Processing Target Nodes (Test 5): 100%|██████████| 15/15 [00:00<00:00, 87.05it/s]\n"
     ]
    },
    {
     "name": "stdout",
     "output_type": "stream",
     "text": [
      "\n",
      "=== Processing Test 6: Train (2006-07-01 to 2006-12-31), Test (2007-01-01 to 2007-06-30) ===\n"
     ]
    },
    {
     "name": "stderr",
     "output_type": "stream",
     "text": [
      "Processing Target Nodes (Test 6): 100%|██████████| 15/15 [00:00<00:00, 85.07it/s]\n"
     ]
    },
    {
     "name": "stdout",
     "output_type": "stream",
     "text": [
      "\n",
      "=== Processing Test 7: Train (2007-01-01 to 2007-06-30), Test (2007-07-01 to 2007-12-31) ===\n"
     ]
    },
    {
     "name": "stderr",
     "output_type": "stream",
     "text": [
      "Processing Target Nodes (Test 7): 100%|██████████| 15/15 [00:00<00:00, 82.41it/s]\n"
     ]
    },
    {
     "name": "stdout",
     "output_type": "stream",
     "text": [
      "\n",
      "=== Processing Test 8: Train (2007-07-01 to 2007-12-31), Test (2008-01-01 to 2008-06-30) ===\n"
     ]
    },
    {
     "name": "stderr",
     "output_type": "stream",
     "text": [
      "Processing Target Nodes (Test 8): 100%|██████████| 15/15 [00:00<00:00, 83.74it/s]\n"
     ]
    },
    {
     "name": "stdout",
     "output_type": "stream",
     "text": [
      "\n",
      "=== Processing Test 9: Train (2008-01-01 to 2008-06-30), Test (2008-07-01 to 2008-12-31) ===\n"
     ]
    },
    {
     "name": "stderr",
     "output_type": "stream",
     "text": [
      "Processing Target Nodes (Test 9): 100%|██████████| 15/15 [00:00<00:00, 80.76it/s]\n"
     ]
    },
    {
     "name": "stdout",
     "output_type": "stream",
     "text": [
      "\n",
      "=== Processing Test 10: Train (2008-07-01 to 2008-12-31), Test (2009-01-01 to 2009-06-30) ===\n"
     ]
    },
    {
     "name": "stderr",
     "output_type": "stream",
     "text": [
      "Processing Target Nodes (Test 10): 100%|██████████| 15/15 [00:00<00:00, 84.34it/s]\n"
     ]
    },
    {
     "name": "stdout",
     "output_type": "stream",
     "text": [
      "\n",
      "=== Processing Test 11: Train (2009-01-01 to 2009-06-30), Test (2009-07-01 to 2009-12-31) ===\n"
     ]
    },
    {
     "name": "stderr",
     "output_type": "stream",
     "text": [
      "Processing Target Nodes (Test 11): 100%|██████████| 15/15 [00:00<00:00, 83.51it/s]\n"
     ]
    },
    {
     "name": "stdout",
     "output_type": "stream",
     "text": [
      "\n",
      "=== Processing Test 12: Train (2009-07-01 to 2009-12-31), Test (2010-01-01 to 2010-06-30) ===\n"
     ]
    },
    {
     "name": "stderr",
     "output_type": "stream",
     "text": [
      "Processing Target Nodes (Test 12): 100%|██████████| 15/15 [00:00<00:00, 84.87it/s]\n"
     ]
    },
    {
     "name": "stdout",
     "output_type": "stream",
     "text": [
      "\n",
      "=== Processing Test 13: Train (2010-01-01 to 2010-06-30), Test (2010-07-01 to 2010-12-31) ===\n"
     ]
    },
    {
     "name": "stderr",
     "output_type": "stream",
     "text": [
      "Processing Target Nodes (Test 13): 100%|██████████| 15/15 [00:00<00:00, 85.39it/s]\n"
     ]
    },
    {
     "name": "stdout",
     "output_type": "stream",
     "text": [
      "\n",
      "=== Processing Test 14: Train (2010-07-01 to 2010-12-31), Test (2011-01-01 to 2011-06-30) ===\n"
     ]
    },
    {
     "name": "stderr",
     "output_type": "stream",
     "text": [
      "Processing Target Nodes (Test 14): 100%|██████████| 15/15 [00:00<00:00, 83.94it/s]\n"
     ]
    },
    {
     "name": "stdout",
     "output_type": "stream",
     "text": [
      "\n",
      "=== Processing Test 15: Train (2011-01-01 to 2011-06-30), Test (2011-07-01 to 2011-12-31) ===\n"
     ]
    },
    {
     "name": "stderr",
     "output_type": "stream",
     "text": [
      "Processing Target Nodes (Test 15): 100%|██████████| 15/15 [00:00<00:00, 54.80it/s]\n"
     ]
    },
    {
     "name": "stdout",
     "output_type": "stream",
     "text": [
      "\n",
      "=== Processing Test 16: Train (2011-07-01 to 2011-12-31), Test (2012-01-01 to 2012-06-30) ===\n"
     ]
    },
    {
     "name": "stderr",
     "output_type": "stream",
     "text": [
      "Processing Target Nodes (Test 16): 100%|██████████| 15/15 [00:00<00:00, 86.21it/s]\n"
     ]
    },
    {
     "name": "stdout",
     "output_type": "stream",
     "text": [
      "\n",
      "=== Processing Test 17: Train (2012-01-01 to 2012-06-30), Test (2012-07-01 to 2012-12-31) ===\n"
     ]
    },
    {
     "name": "stderr",
     "output_type": "stream",
     "text": [
      "Processing Target Nodes (Test 17): 100%|██████████| 15/15 [00:00<00:00, 87.33it/s]\n"
     ]
    },
    {
     "name": "stdout",
     "output_type": "stream",
     "text": [
      "\n",
      "=== Processing Test 18: Train (2012-07-01 to 2012-12-31), Test (2013-01-01 to 2013-06-30) ===\n"
     ]
    },
    {
     "name": "stderr",
     "output_type": "stream",
     "text": [
      "Processing Target Nodes (Test 18): 100%|██████████| 15/15 [00:00<00:00, 86.05it/s]\n"
     ]
    },
    {
     "name": "stdout",
     "output_type": "stream",
     "text": [
      "\n",
      "=== Processing Test 19: Train (2013-01-01 to 2013-06-30), Test (2013-07-01 to 2013-12-31) ===\n"
     ]
    },
    {
     "name": "stderr",
     "output_type": "stream",
     "text": [
      "Processing Target Nodes (Test 19): 100%|██████████| 15/15 [00:00<00:00, 86.08it/s]\n"
     ]
    },
    {
     "name": "stdout",
     "output_type": "stream",
     "text": [
      "\n",
      "=== Processing Test 20: Train (2013-07-01 to 2013-12-31), Test (2014-01-01 to 2014-06-30) ===\n"
     ]
    },
    {
     "name": "stderr",
     "output_type": "stream",
     "text": [
      "Processing Target Nodes (Test 20): 100%|██████████| 15/15 [00:00<00:00, 86.74it/s]\n"
     ]
    },
    {
     "name": "stdout",
     "output_type": "stream",
     "text": [
      "\n",
      "=== Processing Test 21: Train (2014-01-01 to 2014-06-30), Test (2014-07-01 to 2014-12-31) ===\n"
     ]
    },
    {
     "name": "stderr",
     "output_type": "stream",
     "text": [
      "Processing Target Nodes (Test 21): 100%|██████████| 15/15 [00:00<00:00, 84.17it/s]\n"
     ]
    },
    {
     "name": "stdout",
     "output_type": "stream",
     "text": [
      "\n",
      "=== Processing Test 22: Train (2014-07-01 to 2014-12-31), Test (2015-01-01 to 2015-06-30) ===\n"
     ]
    },
    {
     "name": "stderr",
     "output_type": "stream",
     "text": [
      "Processing Target Nodes (Test 22): 100%|██████████| 14/14 [00:00<00:00, 88.78it/s]\n"
     ]
    },
    {
     "name": "stdout",
     "output_type": "stream",
     "text": [
      "\n",
      "=== Processing Test 23: Train (2015-01-01 to 2015-06-30), Test (2015-07-01 to 2015-12-31) ===\n"
     ]
    },
    {
     "name": "stderr",
     "output_type": "stream",
     "text": [
      "Processing Target Nodes (Test 23): 100%|██████████| 15/15 [00:00<00:00, 83.65it/s]\n"
     ]
    },
    {
     "name": "stdout",
     "output_type": "stream",
     "text": [
      "\n",
      "=== Processing Test 24: Train (2015-07-01 to 2015-12-31), Test (2016-01-01 to 2016-06-30) ===\n"
     ]
    },
    {
     "name": "stderr",
     "output_type": "stream",
     "text": [
      "Processing Target Nodes (Test 24): 100%|██████████| 15/15 [00:00<00:00, 81.96it/s]\n"
     ]
    },
    {
     "name": "stdout",
     "output_type": "stream",
     "text": [
      "\n",
      "=== Processing Test 25: Train (2016-01-01 to 2016-06-30), Test (2016-07-01 to 2016-12-31) ===\n"
     ]
    },
    {
     "name": "stderr",
     "output_type": "stream",
     "text": [
      "Processing Target Nodes (Test 25): 100%|██████████| 15/15 [00:00<00:00, 83.78it/s]\n"
     ]
    },
    {
     "name": "stdout",
     "output_type": "stream",
     "text": [
      "\n",
      "=== Processing Test 26: Train (2016-07-01 to 2016-12-31), Test (2017-01-01 to 2017-06-30) ===\n"
     ]
    },
    {
     "name": "stderr",
     "output_type": "stream",
     "text": [
      "Processing Target Nodes (Test 26): 100%|██████████| 15/15 [00:00<00:00, 53.69it/s]\n"
     ]
    },
    {
     "name": "stdout",
     "output_type": "stream",
     "text": [
      "\n",
      "=== Processing Test 27: Train (2017-01-01 to 2017-06-30), Test (2017-07-01 to 2017-12-31) ===\n"
     ]
    },
    {
     "name": "stderr",
     "output_type": "stream",
     "text": [
      "Processing Target Nodes (Test 27): 100%|██████████| 14/14 [00:00<00:00, 85.36it/s]\n"
     ]
    },
    {
     "name": "stdout",
     "output_type": "stream",
     "text": [
      "\n",
      "=== Processing Test 28: Train (2017-07-01 to 2017-12-31), Test (2018-01-01 to 2018-06-30) ===\n"
     ]
    },
    {
     "name": "stderr",
     "output_type": "stream",
     "text": [
      "Processing Target Nodes (Test 28): 100%|██████████| 13/13 [00:00<00:00, 86.10it/s]\n"
     ]
    },
    {
     "name": "stdout",
     "output_type": "stream",
     "text": [
      "\n",
      "=== Processing Test 29: Train (2018-01-01 to 2018-06-30), Test (2018-07-01 to 2018-12-31) ===\n"
     ]
    },
    {
     "name": "stderr",
     "output_type": "stream",
     "text": [
      "Processing Target Nodes (Test 29): 100%|██████████| 14/14 [00:00<00:00, 85.53it/s]\n"
     ]
    },
    {
     "name": "stdout",
     "output_type": "stream",
     "text": [
      "\n",
      "=== Processing Test 30: Train (2018-07-01 to 2018-12-31), Test (2019-01-01 to 2019-06-30) ===\n"
     ]
    },
    {
     "name": "stderr",
     "output_type": "stream",
     "text": [
      "Processing Target Nodes (Test 30): 100%|██████████| 15/15 [00:00<00:00, 79.12it/s]\n"
     ]
    },
    {
     "name": "stdout",
     "output_type": "stream",
     "text": [
      "\n",
      "=== Processing Test 31: Train (2019-01-01 to 2019-06-30), Test (2019-07-01 to 2019-12-31) ===\n"
     ]
    },
    {
     "name": "stderr",
     "output_type": "stream",
     "text": [
      "Processing Target Nodes (Test 31): 100%|██████████| 15/15 [00:00<00:00, 83.80it/s]\n"
     ]
    },
    {
     "name": "stdout",
     "output_type": "stream",
     "text": [
      "\n",
      "=== Processing Test 32: Train (2019-07-01 to 2019-12-31), Test (2020-01-01 to 2020-06-30) ===\n"
     ]
    },
    {
     "name": "stderr",
     "output_type": "stream",
     "text": [
      "Processing Target Nodes (Test 32): 100%|██████████| 14/14 [00:00<00:00, 85.00it/s]\n"
     ]
    },
    {
     "name": "stdout",
     "output_type": "stream",
     "text": [
      "\n",
      "=== Processing Test 33: Train (2020-01-01 to 2020-06-30), Test (2020-07-01 to 2020-12-31) ===\n"
     ]
    },
    {
     "name": "stderr",
     "output_type": "stream",
     "text": [
      "Processing Target Nodes (Test 33): 100%|██████████| 15/15 [00:00<00:00, 84.94it/s]\n"
     ]
    },
    {
     "name": "stdout",
     "output_type": "stream",
     "text": [
      "\n",
      "=== Processing Test 34: Train (2020-07-01 to 2020-12-31), Test (2021-01-01 to 2021-06-30) ===\n"
     ]
    },
    {
     "name": "stderr",
     "output_type": "stream",
     "text": [
      "Processing Target Nodes (Test 34): 100%|██████████| 14/14 [00:00<00:00, 87.71it/s]\n"
     ]
    },
    {
     "name": "stdout",
     "output_type": "stream",
     "text": [
      "\n",
      "=== Processing Test 35: Train (2021-01-01 to 2021-06-30), Test (2021-07-01 to 2021-12-31) ===\n"
     ]
    },
    {
     "name": "stderr",
     "output_type": "stream",
     "text": [
      "Processing Target Nodes (Test 35): 100%|██████████| 15/15 [00:00<00:00, 85.10it/s]\n"
     ]
    },
    {
     "name": "stdout",
     "output_type": "stream",
     "text": [
      "\n",
      "=== Processing Test 36: Train (2021-07-01 to 2021-12-31), Test (2022-01-01 to 2022-06-30) ===\n"
     ]
    },
    {
     "name": "stderr",
     "output_type": "stream",
     "text": [
      "Processing Target Nodes (Test 36): 100%|██████████| 14/14 [00:00<00:00, 86.91it/s]\n"
     ]
    },
    {
     "name": "stdout",
     "output_type": "stream",
     "text": [
      "\n",
      "=== Processing Test 37: Train (2022-01-01 to 2022-06-30), Test (2022-07-01 to 2022-12-31) ===\n"
     ]
    },
    {
     "name": "stderr",
     "output_type": "stream",
     "text": [
      "Processing Target Nodes (Test 37): 100%|██████████| 15/15 [00:00<00:00, 56.05it/s]\n"
     ]
    },
    {
     "name": "stdout",
     "output_type": "stream",
     "text": [
      "\n",
      "=== Processing Test 38: Train (2022-07-01 to 2022-12-31), Test (2023-01-01 to 2023-06-30) ===\n"
     ]
    },
    {
     "name": "stderr",
     "output_type": "stream",
     "text": [
      "Processing Target Nodes (Test 38): 100%|██████████| 15/15 [00:00<00:00, 87.09it/s]\n"
     ]
    },
    {
     "name": "stdout",
     "output_type": "stream",
     "text": [
      "\n",
      "=== Processing Test 39: Train (2023-01-01 to 2023-06-30), Test (2023-07-01 to 2023-12-31) ===\n"
     ]
    },
    {
     "name": "stderr",
     "output_type": "stream",
     "text": [
      "Processing Target Nodes (Test 39): 100%|██████████| 14/14 [00:00<00:00, 87.88it/s]\n"
     ]
    },
    {
     "name": "stdout",
     "output_type": "stream",
     "text": [
      "\n",
      "=== Processing Test 40: Train (2023-07-01 to 2023-12-31), Test (2024-01-01 to 2024-06-30) ===\n"
     ]
    },
    {
     "name": "stderr",
     "output_type": "stream",
     "text": [
      "Processing Target Nodes (Test 40): 100%|██████████| 14/14 [00:00<00:00, 89.46it/s]\n"
     ]
    },
    {
     "name": "stdout",
     "output_type": "stream",
     "text": [
      "\n",
      "=== Processing Test 41: Train (2024-01-01 to 2024-06-30), Test (2024-07-01 to 2024-12-31) ===\n"
     ]
    },
    {
     "name": "stderr",
     "output_type": "stream",
     "text": [
      "Processing Target Nodes (Test 41): 100%|██████████| 14/14 [00:00<00:00, 87.55it/s]"
     ]
    },
    {
     "name": "stdout",
     "output_type": "stream",
     "text": [
      "\n",
      "Final Results with KNeighbors Regressor:\n"
     ]
    },
    {
     "name": "stderr",
     "output_type": "stream",
     "text": [
      "\n"
     ]
    },
    {
     "data": {
      "text/html": [
       "<div>\n",
       "<style scoped>\n",
       "    .dataframe tbody tr th:only-of-type {\n",
       "        vertical-align: middle;\n",
       "    }\n",
       "\n",
       "    .dataframe tbody tr th {\n",
       "        vertical-align: top;\n",
       "    }\n",
       "\n",
       "    .dataframe thead th {\n",
       "        text-align: right;\n",
       "    }\n",
       "</style>\n",
       "<table border=\"1\" class=\"dataframe\">\n",
       "  <thead>\n",
       "    <tr style=\"text-align: right;\">\n",
       "      <th></th>\n",
       "      <th>Test ID</th>\n",
       "      <th>Target Index</th>\n",
       "      <th>RMSE</th>\n",
       "      <th>RMAE</th>\n",
       "    </tr>\n",
       "  </thead>\n",
       "  <tbody>\n",
       "    <tr>\n",
       "      <th>0</th>\n",
       "      <td>1</td>\n",
       "      <td>Turkey BIST 100</td>\n",
       "      <td>0.017258</td>\n",
       "      <td>0.013331</td>\n",
       "    </tr>\n",
       "    <tr>\n",
       "      <th>1</th>\n",
       "      <td>1</td>\n",
       "      <td>Hang Seng</td>\n",
       "      <td>0.009962</td>\n",
       "      <td>0.008056</td>\n",
       "    </tr>\n",
       "    <tr>\n",
       "      <th>2</th>\n",
       "      <td>1</td>\n",
       "      <td>Straits Times</td>\n",
       "      <td>0.007277</td>\n",
       "      <td>0.005904</td>\n",
       "    </tr>\n",
       "    <tr>\n",
       "      <th>3</th>\n",
       "      <td>1</td>\n",
       "      <td>Mexican IPC</td>\n",
       "      <td>0.008695</td>\n",
       "      <td>0.006975</td>\n",
       "    </tr>\n",
       "    <tr>\n",
       "      <th>4</th>\n",
       "      <td>1</td>\n",
       "      <td>FTSE 100</td>\n",
       "      <td>0.006657</td>\n",
       "      <td>0.005219</td>\n",
       "    </tr>\n",
       "    <tr>\n",
       "      <th>...</th>\n",
       "      <td>...</td>\n",
       "      <td>...</td>\n",
       "      <td>...</td>\n",
       "      <td>...</td>\n",
       "    </tr>\n",
       "    <tr>\n",
       "      <th>598</th>\n",
       "      <td>41</td>\n",
       "      <td>DAX</td>\n",
       "      <td>0.008816</td>\n",
       "      <td>0.006969</td>\n",
       "    </tr>\n",
       "    <tr>\n",
       "      <th>599</th>\n",
       "      <td>41</td>\n",
       "      <td>Mexican IPC</td>\n",
       "      <td>0.010269</td>\n",
       "      <td>0.008125</td>\n",
       "    </tr>\n",
       "    <tr>\n",
       "      <th>600</th>\n",
       "      <td>41</td>\n",
       "      <td>IBEX 35</td>\n",
       "      <td>0.009139</td>\n",
       "      <td>0.006972</td>\n",
       "    </tr>\n",
       "    <tr>\n",
       "      <th>601</th>\n",
       "      <td>41</td>\n",
       "      <td>CAC 40</td>\n",
       "      <td>0.009267</td>\n",
       "      <td>0.007326</td>\n",
       "    </tr>\n",
       "    <tr>\n",
       "      <th>602</th>\n",
       "      <td>41</td>\n",
       "      <td>Bovespa</td>\n",
       "      <td>0.008865</td>\n",
       "      <td>0.006910</td>\n",
       "    </tr>\n",
       "  </tbody>\n",
       "</table>\n",
       "<p>603 rows × 4 columns</p>\n",
       "</div>"
      ],
      "text/plain": [
       "     Test ID     Target Index      RMSE      RMAE\n",
       "0          1  Turkey BIST 100  0.017258  0.013331\n",
       "1          1        Hang Seng  0.009962  0.008056\n",
       "2          1    Straits Times  0.007277  0.005904\n",
       "3          1      Mexican IPC  0.008695  0.006975\n",
       "4          1         FTSE 100  0.006657  0.005219\n",
       "..       ...              ...       ...       ...\n",
       "598       41              DAX  0.008816  0.006969\n",
       "599       41      Mexican IPC  0.010269  0.008125\n",
       "600       41          IBEX 35  0.009139  0.006972\n",
       "601       41           CAC 40  0.009267  0.007326\n",
       "602       41          Bovespa  0.008865  0.006910\n",
       "\n",
       "[603 rows x 4 columns]"
      ]
     },
     "execution_count": 14,
     "metadata": {},
     "output_type": "execute_result"
    }
   ],
   "source": [
    "final_results = []\n",
    "\n",
    "# KNeighbors Regressor Evaluation\n",
    "for test_id, (train_start, train_end, test_start, test_end) in enumerate(test_periods):\n",
    "    print(f\"\\n=== Processing Test {test_id + 1}: Train ({train_start} to {train_end}), Test ({test_start} to {test_end}) ===\")\n",
    "    \n",
    "    # Train/Test 데이터 분리\n",
    "    train_data = returns.loc[train_start:train_end]\n",
    "    test_data = returns.loc[test_start:test_end]\n",
    "    \n",
    "    # 그래프 생성 (Train 데이터 기준)\n",
    "    G = create_correlation_graph(train_data)\n",
    "    nodes_in_graph = list(G.nodes)\n",
    "    \n",
    "    # Train/Test 데이터 준비\n",
    "    X_train = train_data[nodes_in_graph].iloc[:-1].values\n",
    "    y_train_set = train_data[nodes_in_graph].iloc[1:].values\n",
    "    X_test = test_data[nodes_in_graph].iloc[:-1].values\n",
    "    y_test_set = test_data[nodes_in_graph].iloc[1:].values\n",
    "    \n",
    "    # Target Index Loop\n",
    "    for target_idx in tqdm(range(len(nodes_in_graph)), desc=f\"Processing Target Nodes (Test {test_id + 1})\"):\n",
    "        rmse_scores = []\n",
    "        rmae_scores = []\n",
    "        \n",
    "        for _ in range(n_experiments):  # 반복 실험\n",
    "            y_train = y_train_set[:, target_idx]\n",
    "            y_test = y_test_set[:, target_idx]\n",
    "            \n",
    "            # Randomize n_neighbors\n",
    "            random_n_neighbors = np.random.randint(3, 8)\n",
    "            \n",
    "            # KNeighbors Regressor 초기화 및 학습\n",
    "            model = KNeighborsRegressor(n_neighbors=random_n_neighbors, leaf_size=30, n_jobs=None)\n",
    "            model.fit(X_train, y_train)\n",
    "            \n",
    "            # 예측 및 평가\n",
    "            y_pred = model.predict(X_test)\n",
    "            rmse = np.sqrt(mean_squared_error(y_test, y_pred))\n",
    "            rmae = mean_absolute_error(y_test, y_pred)\n",
    "            \n",
    "            # 결과 수집\n",
    "            rmse_scores.append(rmse)\n",
    "            rmae_scores.append(rmae)\n",
    "        \n",
    "        # 결과 집계\n",
    "        final_results.append({\n",
    "            'Test ID': test_id + 1,\n",
    "            'Target Index': nodes_in_graph[target_idx],\n",
    "            'RMSE': np.mean(rmse_scores),\n",
    "            'RMAE': np.mean(rmae_scores)\n",
    "        })\n",
    "\n",
    "# 결과를 DataFrame으로 정리\n",
    "knn_results = pd.DataFrame(final_results)\n",
    "\n",
    "# Display results\n",
    "print(\"\\nFinal Results with KNeighbors Regressor:\")\n",
    "knn_results"
   ]
  },
  {
   "cell_type": "markdown",
   "metadata": {},
   "source": [
    "#### 4.5. Support Vector Machine"
   ]
  },
  {
   "cell_type": "code",
   "execution_count": 16,
   "metadata": {},
   "outputs": [
    {
     "name": "stdout",
     "output_type": "stream",
     "text": [
      "\n",
      "=== Processing Test 1: Train (2004-01-01 to 2004-06-30), Test (2004-07-01 to 2004-12-31) ===\n"
     ]
    },
    {
     "name": "stderr",
     "output_type": "stream",
     "text": [
      "Processing Target Nodes (Test 1): 100%|██████████| 15/15 [00:00<00:00, 152.31it/s]\n"
     ]
    },
    {
     "name": "stdout",
     "output_type": "stream",
     "text": [
      "\n",
      "=== Processing Test 2: Train (2004-07-01 to 2004-12-31), Test (2005-01-01 to 2005-06-30) ===\n"
     ]
    },
    {
     "name": "stderr",
     "output_type": "stream",
     "text": [
      "Processing Target Nodes (Test 2): 100%|██████████| 14/14 [00:00<00:00, 172.12it/s]\n"
     ]
    },
    {
     "name": "stdout",
     "output_type": "stream",
     "text": [
      "\n",
      "=== Processing Test 3: Train (2005-01-01 to 2005-06-30), Test (2005-07-01 to 2005-12-31) ===\n"
     ]
    },
    {
     "name": "stderr",
     "output_type": "stream",
     "text": [
      "Processing Target Nodes (Test 3): 100%|██████████| 15/15 [00:00<00:00, 76.09it/s]\n"
     ]
    },
    {
     "name": "stdout",
     "output_type": "stream",
     "text": [
      "\n",
      "=== Processing Test 4: Train (2005-07-01 to 2005-12-31), Test (2006-01-01 to 2006-06-30) ===\n"
     ]
    },
    {
     "name": "stderr",
     "output_type": "stream",
     "text": [
      "Processing Target Nodes (Test 4): 100%|██████████| 15/15 [00:00<00:00, 163.55it/s]\n"
     ]
    },
    {
     "name": "stdout",
     "output_type": "stream",
     "text": [
      "\n",
      "=== Processing Test 5: Train (2006-01-01 to 2006-06-30), Test (2006-07-01 to 2006-12-31) ===\n"
     ]
    },
    {
     "name": "stderr",
     "output_type": "stream",
     "text": [
      "Processing Target Nodes (Test 5): 100%|██████████| 15/15 [00:00<00:00, 167.34it/s]\n"
     ]
    },
    {
     "name": "stdout",
     "output_type": "stream",
     "text": [
      "\n",
      "=== Processing Test 6: Train (2006-07-01 to 2006-12-31), Test (2007-01-01 to 2007-06-30) ===\n"
     ]
    },
    {
     "name": "stderr",
     "output_type": "stream",
     "text": [
      "Processing Target Nodes (Test 6): 100%|██████████| 15/15 [00:00<00:00, 169.35it/s]\n"
     ]
    },
    {
     "name": "stdout",
     "output_type": "stream",
     "text": [
      "\n",
      "=== Processing Test 7: Train (2007-01-01 to 2007-06-30), Test (2007-07-01 to 2007-12-31) ===\n"
     ]
    },
    {
     "name": "stderr",
     "output_type": "stream",
     "text": [
      "Processing Target Nodes (Test 7): 100%|██████████| 15/15 [00:00<00:00, 160.45it/s]\n"
     ]
    },
    {
     "name": "stdout",
     "output_type": "stream",
     "text": [
      "\n",
      "=== Processing Test 8: Train (2007-07-01 to 2007-12-31), Test (2008-01-01 to 2008-06-30) ===\n"
     ]
    },
    {
     "name": "stderr",
     "output_type": "stream",
     "text": [
      "Processing Target Nodes (Test 8): 100%|██████████| 15/15 [00:00<00:00, 160.72it/s]\n"
     ]
    },
    {
     "name": "stdout",
     "output_type": "stream",
     "text": [
      "\n",
      "=== Processing Test 9: Train (2008-01-01 to 2008-06-30), Test (2008-07-01 to 2008-12-31) ===\n"
     ]
    },
    {
     "name": "stderr",
     "output_type": "stream",
     "text": [
      "Processing Target Nodes (Test 9): 100%|██████████| 15/15 [00:00<00:00, 158.66it/s]\n"
     ]
    },
    {
     "name": "stdout",
     "output_type": "stream",
     "text": [
      "\n",
      "=== Processing Test 10: Train (2008-07-01 to 2008-12-31), Test (2009-01-01 to 2009-06-30) ===\n"
     ]
    },
    {
     "name": "stderr",
     "output_type": "stream",
     "text": [
      "Processing Target Nodes (Test 10): 100%|██████████| 15/15 [00:00<00:00, 153.30it/s]\n"
     ]
    },
    {
     "name": "stdout",
     "output_type": "stream",
     "text": [
      "\n",
      "=== Processing Test 11: Train (2009-01-01 to 2009-06-30), Test (2009-07-01 to 2009-12-31) ===\n"
     ]
    },
    {
     "name": "stderr",
     "output_type": "stream",
     "text": [
      "Processing Target Nodes (Test 11): 100%|██████████| 15/15 [00:00<00:00, 161.56it/s]\n"
     ]
    },
    {
     "name": "stdout",
     "output_type": "stream",
     "text": [
      "\n",
      "=== Processing Test 12: Train (2009-07-01 to 2009-12-31), Test (2010-01-01 to 2010-06-30) ===\n"
     ]
    },
    {
     "name": "stderr",
     "output_type": "stream",
     "text": [
      "Processing Target Nodes (Test 12): 100%|██████████| 15/15 [00:00<00:00, 163.02it/s]\n"
     ]
    },
    {
     "name": "stdout",
     "output_type": "stream",
     "text": [
      "\n",
      "=== Processing Test 13: Train (2010-01-01 to 2010-06-30), Test (2010-07-01 to 2010-12-31) ===\n"
     ]
    },
    {
     "name": "stderr",
     "output_type": "stream",
     "text": [
      "Processing Target Nodes (Test 13): 100%|██████████| 15/15 [00:00<00:00, 162.67it/s]\n"
     ]
    },
    {
     "name": "stdout",
     "output_type": "stream",
     "text": [
      "\n",
      "=== Processing Test 14: Train (2010-07-01 to 2010-12-31), Test (2011-01-01 to 2011-06-30) ===\n"
     ]
    },
    {
     "name": "stderr",
     "output_type": "stream",
     "text": [
      "Processing Target Nodes (Test 14): 100%|██████████| 15/15 [00:00<00:00, 160.05it/s]\n"
     ]
    },
    {
     "name": "stdout",
     "output_type": "stream",
     "text": [
      "\n",
      "=== Processing Test 15: Train (2011-01-01 to 2011-06-30), Test (2011-07-01 to 2011-12-31) ===\n"
     ]
    },
    {
     "name": "stderr",
     "output_type": "stream",
     "text": [
      "Processing Target Nodes (Test 15): 100%|██████████| 15/15 [00:00<00:00, 76.04it/s]\n"
     ]
    },
    {
     "name": "stdout",
     "output_type": "stream",
     "text": [
      "\n",
      "=== Processing Test 16: Train (2011-07-01 to 2011-12-31), Test (2012-01-01 to 2012-06-30) ===\n"
     ]
    },
    {
     "name": "stderr",
     "output_type": "stream",
     "text": [
      "Processing Target Nodes (Test 16): 100%|██████████| 15/15 [00:00<00:00, 159.73it/s]\n"
     ]
    },
    {
     "name": "stdout",
     "output_type": "stream",
     "text": [
      "\n",
      "=== Processing Test 17: Train (2012-01-01 to 2012-06-30), Test (2012-07-01 to 2012-12-31) ===\n"
     ]
    },
    {
     "name": "stderr",
     "output_type": "stream",
     "text": [
      "Processing Target Nodes (Test 17): 100%|██████████| 15/15 [00:00<00:00, 162.74it/s]\n"
     ]
    },
    {
     "name": "stdout",
     "output_type": "stream",
     "text": [
      "\n",
      "=== Processing Test 18: Train (2012-07-01 to 2012-12-31), Test (2013-01-01 to 2013-06-30) ===\n"
     ]
    },
    {
     "name": "stderr",
     "output_type": "stream",
     "text": [
      "Processing Target Nodes (Test 18): 100%|██████████| 15/15 [00:00<00:00, 161.50it/s]\n"
     ]
    },
    {
     "name": "stdout",
     "output_type": "stream",
     "text": [
      "\n",
      "=== Processing Test 19: Train (2013-01-01 to 2013-06-30), Test (2013-07-01 to 2013-12-31) ===\n"
     ]
    },
    {
     "name": "stderr",
     "output_type": "stream",
     "text": [
      "Processing Target Nodes (Test 19): 100%|██████████| 15/15 [00:00<00:00, 163.25it/s]\n"
     ]
    },
    {
     "name": "stdout",
     "output_type": "stream",
     "text": [
      "\n",
      "=== Processing Test 20: Train (2013-07-01 to 2013-12-31), Test (2014-01-01 to 2014-06-30) ===\n"
     ]
    },
    {
     "name": "stderr",
     "output_type": "stream",
     "text": [
      "Processing Target Nodes (Test 20): 100%|██████████| 15/15 [00:00<00:00, 162.05it/s]\n"
     ]
    },
    {
     "name": "stdout",
     "output_type": "stream",
     "text": [
      "\n",
      "=== Processing Test 21: Train (2014-01-01 to 2014-06-30), Test (2014-07-01 to 2014-12-31) ===\n"
     ]
    },
    {
     "name": "stderr",
     "output_type": "stream",
     "text": [
      "Processing Target Nodes (Test 21): 100%|██████████| 15/15 [00:00<00:00, 161.49it/s]\n"
     ]
    },
    {
     "name": "stdout",
     "output_type": "stream",
     "text": [
      "\n",
      "=== Processing Test 22: Train (2014-07-01 to 2014-12-31), Test (2015-01-01 to 2015-06-30) ===\n"
     ]
    },
    {
     "name": "stderr",
     "output_type": "stream",
     "text": [
      "Processing Target Nodes (Test 22): 100%|██████████| 14/14 [00:00<00:00, 159.80it/s]\n"
     ]
    },
    {
     "name": "stdout",
     "output_type": "stream",
     "text": [
      "\n",
      "=== Processing Test 23: Train (2015-01-01 to 2015-06-30), Test (2015-07-01 to 2015-12-31) ===\n"
     ]
    },
    {
     "name": "stderr",
     "output_type": "stream",
     "text": [
      "Processing Target Nodes (Test 23): 100%|██████████| 15/15 [00:00<00:00, 167.11it/s]\n"
     ]
    },
    {
     "name": "stdout",
     "output_type": "stream",
     "text": [
      "\n",
      "=== Processing Test 24: Train (2015-07-01 to 2015-12-31), Test (2016-01-01 to 2016-06-30) ===\n"
     ]
    },
    {
     "name": "stderr",
     "output_type": "stream",
     "text": [
      "Processing Target Nodes (Test 24): 100%|██████████| 15/15 [00:00<00:00, 165.98it/s]\n"
     ]
    },
    {
     "name": "stdout",
     "output_type": "stream",
     "text": [
      "\n",
      "=== Processing Test 25: Train (2016-01-01 to 2016-06-30), Test (2016-07-01 to 2016-12-31) ===\n"
     ]
    },
    {
     "name": "stderr",
     "output_type": "stream",
     "text": [
      "Processing Target Nodes (Test 25): 100%|██████████| 15/15 [00:00<00:00, 164.91it/s]\n"
     ]
    },
    {
     "name": "stdout",
     "output_type": "stream",
     "text": [
      "\n",
      "=== Processing Test 26: Train (2016-07-01 to 2016-12-31), Test (2017-01-01 to 2017-06-30) ===\n"
     ]
    },
    {
     "name": "stderr",
     "output_type": "stream",
     "text": [
      "Processing Target Nodes (Test 26): 100%|██████████| 15/15 [00:00<00:00, 164.00it/s]\n"
     ]
    },
    {
     "name": "stdout",
     "output_type": "stream",
     "text": [
      "\n",
      "=== Processing Test 27: Train (2017-01-01 to 2017-06-30), Test (2017-07-01 to 2017-12-31) ===\n"
     ]
    },
    {
     "name": "stderr",
     "output_type": "stream",
     "text": [
      "Processing Target Nodes (Test 27): 100%|██████████| 14/14 [00:00<00:00, 164.79it/s]\n"
     ]
    },
    {
     "name": "stdout",
     "output_type": "stream",
     "text": [
      "\n",
      "=== Processing Test 28: Train (2017-07-01 to 2017-12-31), Test (2018-01-01 to 2018-06-30) ===\n"
     ]
    },
    {
     "name": "stderr",
     "output_type": "stream",
     "text": [
      "Processing Target Nodes (Test 28): 100%|██████████| 13/13 [00:00<00:00, 77.29it/s]\n"
     ]
    },
    {
     "name": "stdout",
     "output_type": "stream",
     "text": [
      "\n",
      "=== Processing Test 29: Train (2018-01-01 to 2018-06-30), Test (2018-07-01 to 2018-12-31) ===\n"
     ]
    },
    {
     "name": "stderr",
     "output_type": "stream",
     "text": [
      "Processing Target Nodes (Test 29): 100%|██████████| 14/14 [00:00<00:00, 156.60it/s]\n"
     ]
    },
    {
     "name": "stdout",
     "output_type": "stream",
     "text": [
      "\n",
      "=== Processing Test 30: Train (2018-07-01 to 2018-12-31), Test (2019-01-01 to 2019-06-30) ===\n"
     ]
    },
    {
     "name": "stderr",
     "output_type": "stream",
     "text": [
      "Processing Target Nodes (Test 30): 100%|██████████| 15/15 [00:00<00:00, 165.59it/s]\n"
     ]
    },
    {
     "name": "stdout",
     "output_type": "stream",
     "text": [
      "\n",
      "=== Processing Test 31: Train (2019-01-01 to 2019-06-30), Test (2019-07-01 to 2019-12-31) ===\n"
     ]
    },
    {
     "name": "stderr",
     "output_type": "stream",
     "text": [
      "Processing Target Nodes (Test 31): 100%|██████████| 15/15 [00:00<00:00, 162.53it/s]\n"
     ]
    },
    {
     "name": "stdout",
     "output_type": "stream",
     "text": [
      "\n",
      "=== Processing Test 32: Train (2019-07-01 to 2019-12-31), Test (2020-01-01 to 2020-06-30) ===\n"
     ]
    },
    {
     "name": "stderr",
     "output_type": "stream",
     "text": [
      "Processing Target Nodes (Test 32): 100%|██████████| 14/14 [00:00<00:00, 160.12it/s]\n"
     ]
    },
    {
     "name": "stdout",
     "output_type": "stream",
     "text": [
      "\n",
      "=== Processing Test 33: Train (2020-01-01 to 2020-06-30), Test (2020-07-01 to 2020-12-31) ===\n"
     ]
    },
    {
     "name": "stderr",
     "output_type": "stream",
     "text": [
      "Processing Target Nodes (Test 33): 100%|██████████| 15/15 [00:00<00:00, 148.94it/s]\n"
     ]
    },
    {
     "name": "stdout",
     "output_type": "stream",
     "text": [
      "\n",
      "=== Processing Test 34: Train (2020-07-01 to 2020-12-31), Test (2021-01-01 to 2021-06-30) ===\n"
     ]
    },
    {
     "name": "stderr",
     "output_type": "stream",
     "text": [
      "Processing Target Nodes (Test 34): 100%|██████████| 14/14 [00:00<00:00, 160.30it/s]\n"
     ]
    },
    {
     "name": "stdout",
     "output_type": "stream",
     "text": [
      "\n",
      "=== Processing Test 35: Train (2021-01-01 to 2021-06-30), Test (2021-07-01 to 2021-12-31) ===\n"
     ]
    },
    {
     "name": "stderr",
     "output_type": "stream",
     "text": [
      "Processing Target Nodes (Test 35): 100%|██████████| 15/15 [00:00<00:00, 159.05it/s]\n"
     ]
    },
    {
     "name": "stdout",
     "output_type": "stream",
     "text": [
      "\n",
      "=== Processing Test 36: Train (2021-07-01 to 2021-12-31), Test (2022-01-01 to 2022-06-30) ===\n"
     ]
    },
    {
     "name": "stderr",
     "output_type": "stream",
     "text": [
      "Processing Target Nodes (Test 36): 100%|██████████| 14/14 [00:00<00:00, 160.19it/s]\n"
     ]
    },
    {
     "name": "stdout",
     "output_type": "stream",
     "text": [
      "\n",
      "=== Processing Test 37: Train (2022-01-01 to 2022-06-30), Test (2022-07-01 to 2022-12-31) ===\n"
     ]
    },
    {
     "name": "stderr",
     "output_type": "stream",
     "text": [
      "Processing Target Nodes (Test 37): 100%|██████████| 15/15 [00:00<00:00, 157.98it/s]\n"
     ]
    },
    {
     "name": "stdout",
     "output_type": "stream",
     "text": [
      "\n",
      "=== Processing Test 38: Train (2022-07-01 to 2022-12-31), Test (2023-01-01 to 2023-06-30) ===\n"
     ]
    },
    {
     "name": "stderr",
     "output_type": "stream",
     "text": [
      "Processing Target Nodes (Test 38): 100%|██████████| 15/15 [00:00<00:00, 160.34it/s]\n"
     ]
    },
    {
     "name": "stdout",
     "output_type": "stream",
     "text": [
      "\n",
      "=== Processing Test 39: Train (2023-01-01 to 2023-06-30), Test (2023-07-01 to 2023-12-31) ===\n"
     ]
    },
    {
     "name": "stderr",
     "output_type": "stream",
     "text": [
      "Processing Target Nodes (Test 39): 100%|██████████| 14/14 [00:00<00:00, 159.41it/s]\n"
     ]
    },
    {
     "name": "stdout",
     "output_type": "stream",
     "text": [
      "\n",
      "=== Processing Test 40: Train (2023-07-01 to 2023-12-31), Test (2024-01-01 to 2024-06-30) ===\n"
     ]
    },
    {
     "name": "stderr",
     "output_type": "stream",
     "text": [
      "Processing Target Nodes (Test 40): 100%|██████████| 14/14 [00:00<00:00, 144.55it/s]\n"
     ]
    },
    {
     "name": "stdout",
     "output_type": "stream",
     "text": [
      "\n",
      "=== Processing Test 41: Train (2024-01-01 to 2024-06-30), Test (2024-07-01 to 2024-12-31) ===\n"
     ]
    },
    {
     "name": "stderr",
     "output_type": "stream",
     "text": [
      "Processing Target Nodes (Test 41): 100%|██████████| 14/14 [00:00<00:00, 161.64it/s]"
     ]
    },
    {
     "name": "stdout",
     "output_type": "stream",
     "text": [
      "\n",
      "Final Results with SVR:\n"
     ]
    },
    {
     "name": "stderr",
     "output_type": "stream",
     "text": [
      "\n"
     ]
    },
    {
     "data": {
      "text/html": [
       "<div>\n",
       "<style scoped>\n",
       "    .dataframe tbody tr th:only-of-type {\n",
       "        vertical-align: middle;\n",
       "    }\n",
       "\n",
       "    .dataframe tbody tr th {\n",
       "        vertical-align: top;\n",
       "    }\n",
       "\n",
       "    .dataframe thead th {\n",
       "        text-align: right;\n",
       "    }\n",
       "</style>\n",
       "<table border=\"1\" class=\"dataframe\">\n",
       "  <thead>\n",
       "    <tr style=\"text-align: right;\">\n",
       "      <th></th>\n",
       "      <th>Test ID</th>\n",
       "      <th>Target Index</th>\n",
       "      <th>RMSE</th>\n",
       "      <th>RMAE</th>\n",
       "    </tr>\n",
       "  </thead>\n",
       "  <tbody>\n",
       "    <tr>\n",
       "      <th>0</th>\n",
       "      <td>1</td>\n",
       "      <td>Turkey BIST 100</td>\n",
       "      <td>0.014364</td>\n",
       "      <td>0.011347</td>\n",
       "    </tr>\n",
       "    <tr>\n",
       "      <th>1</th>\n",
       "      <td>1</td>\n",
       "      <td>Hang Seng</td>\n",
       "      <td>0.008040</td>\n",
       "      <td>0.006154</td>\n",
       "    </tr>\n",
       "    <tr>\n",
       "      <th>2</th>\n",
       "      <td>1</td>\n",
       "      <td>Straits Times</td>\n",
       "      <td>0.007603</td>\n",
       "      <td>0.006071</td>\n",
       "    </tr>\n",
       "    <tr>\n",
       "      <th>3</th>\n",
       "      <td>1</td>\n",
       "      <td>Mexican IPC</td>\n",
       "      <td>0.008731</td>\n",
       "      <td>0.007105</td>\n",
       "    </tr>\n",
       "    <tr>\n",
       "      <th>4</th>\n",
       "      <td>1</td>\n",
       "      <td>FTSE 100</td>\n",
       "      <td>0.007154</td>\n",
       "      <td>0.005867</td>\n",
       "    </tr>\n",
       "    <tr>\n",
       "      <th>...</th>\n",
       "      <td>...</td>\n",
       "      <td>...</td>\n",
       "      <td>...</td>\n",
       "      <td>...</td>\n",
       "    </tr>\n",
       "    <tr>\n",
       "      <th>598</th>\n",
       "      <td>41</td>\n",
       "      <td>DAX</td>\n",
       "      <td>0.008809</td>\n",
       "      <td>0.006957</td>\n",
       "    </tr>\n",
       "    <tr>\n",
       "      <th>599</th>\n",
       "      <td>41</td>\n",
       "      <td>Mexican IPC</td>\n",
       "      <td>0.016347</td>\n",
       "      <td>0.014028</td>\n",
       "    </tr>\n",
       "    <tr>\n",
       "      <th>600</th>\n",
       "      <td>41</td>\n",
       "      <td>IBEX 35</td>\n",
       "      <td>0.008925</td>\n",
       "      <td>0.007154</td>\n",
       "    </tr>\n",
       "    <tr>\n",
       "      <th>601</th>\n",
       "      <td>41</td>\n",
       "      <td>CAC 40</td>\n",
       "      <td>0.008949</td>\n",
       "      <td>0.007166</td>\n",
       "    </tr>\n",
       "    <tr>\n",
       "      <th>602</th>\n",
       "      <td>41</td>\n",
       "      <td>Bovespa</td>\n",
       "      <td>0.008914</td>\n",
       "      <td>0.006759</td>\n",
       "    </tr>\n",
       "  </tbody>\n",
       "</table>\n",
       "<p>603 rows × 4 columns</p>\n",
       "</div>"
      ],
      "text/plain": [
       "     Test ID     Target Index      RMSE      RMAE\n",
       "0          1  Turkey BIST 100  0.014364  0.011347\n",
       "1          1        Hang Seng  0.008040  0.006154\n",
       "2          1    Straits Times  0.007603  0.006071\n",
       "3          1      Mexican IPC  0.008731  0.007105\n",
       "4          1         FTSE 100  0.007154  0.005867\n",
       "..       ...              ...       ...       ...\n",
       "598       41              DAX  0.008809  0.006957\n",
       "599       41      Mexican IPC  0.016347  0.014028\n",
       "600       41          IBEX 35  0.008925  0.007154\n",
       "601       41           CAC 40  0.008949  0.007166\n",
       "602       41          Bovespa  0.008914  0.006759\n",
       "\n",
       "[603 rows x 4 columns]"
      ]
     },
     "execution_count": 16,
     "metadata": {},
     "output_type": "execute_result"
    }
   ],
   "source": [
    "# Initialize Results\n",
    "final_results = []\n",
    "\n",
    "# SVR Evaluation\n",
    "for test_id, (train_start, train_end, test_start, test_end) in enumerate(test_periods):\n",
    "    print(f\"\\n=== Processing Test {test_id + 1}: Train ({train_start} to {train_end}), Test ({test_start} to {test_end}) ===\")\n",
    "    \n",
    "    # Train/Test 데이터 분리\n",
    "    train_data = returns.loc[train_start:train_end]\n",
    "    test_data = returns.loc[test_start:test_end]\n",
    "    \n",
    "    # 그래프 생성 (Train 데이터 기준)\n",
    "    G = create_correlation_graph(train_data)\n",
    "    nodes_in_graph = list(G.nodes)\n",
    "    \n",
    "    # Train/Test 데이터 준비\n",
    "    X_train = train_data[nodes_in_graph].iloc[:-1].values\n",
    "    y_train_set = train_data[nodes_in_graph].iloc[1:].values\n",
    "    X_test = test_data[nodes_in_graph].iloc[:-1].values\n",
    "    y_test_set = test_data[nodes_in_graph].iloc[1:].values\n",
    "    \n",
    "    # Target Index Loop\n",
    "    for target_idx in tqdm(range(len(nodes_in_graph)), desc=f\"Processing Target Nodes (Test {test_id + 1})\"):\n",
    "        rmse_scores = []\n",
    "        rmae_scores = []\n",
    "        \n",
    "        for _ in range(n_experiments):  # 반복 실험\n",
    "            y_train = y_train_set[:, target_idx]\n",
    "            y_test = y_test_set[:, target_idx]\n",
    "            \n",
    "            # Randomize SVR hyperparameter C\n",
    "            random_c = np.random.uniform(0.1, 10)\n",
    "            \n",
    "            # SVR 초기화 및 학습\n",
    "            model = SVR(kernel='rbf', C=random_c, epsilon=0.1)\n",
    "            model.fit(X_train, y_train)\n",
    "            \n",
    "            # 예측 및 평가\n",
    "            y_pred = model.predict(X_test)\n",
    "            rmse = np.sqrt(mean_squared_error(y_test, y_pred))\n",
    "            rmae = mean_absolute_error(y_test, y_pred)\n",
    "            \n",
    "            # 결과 수집\n",
    "            rmse_scores.append(rmse)\n",
    "            rmae_scores.append(rmae)\n",
    "        \n",
    "        # 결과 집계\n",
    "        final_results.append({\n",
    "            'Test ID': test_id + 1,\n",
    "            'Target Index': nodes_in_graph[target_idx],\n",
    "            'RMSE': np.mean(rmse_scores),\n",
    "            'RMAE': np.mean(rmae_scores)\n",
    "        })\n",
    "\n",
    "# 결과를 DataFrame으로 정리\n",
    "svr_results = pd.DataFrame(final_results)\n",
    "\n",
    "# Display results\n",
    "print(\"\\nFinal Results with SVR:\")\n",
    "svr_results"
   ]
  },
  {
   "cell_type": "markdown",
   "metadata": {},
   "source": [
    "### **5. 그래프 임베딩 후 성능 변화 관찰**"
   ]
  },
  {
   "cell_type": "markdown",
   "metadata": {},
   "source": [
    "#### 5.1. GCN Model 임베딩"
   ]
  },
  {
   "cell_type": "code",
   "execution_count": 20,
   "metadata": {},
   "outputs": [
    {
     "name": "stdout",
     "output_type": "stream",
     "text": [
      "\n",
      "=== Processing Test 1: Train (2004-01-01 to 2004-06-30), Test (2004-07-01 to 2004-12-31) ===\n"
     ]
    },
    {
     "name": "stderr",
     "output_type": "stream",
     "text": [
      "Processing Target Nodes (Test 1): 100%|██████████| 15/15 [00:30<00:00,  2.01s/it]\n"
     ]
    },
    {
     "name": "stdout",
     "output_type": "stream",
     "text": [
      "\n",
      "=== Processing Test 2: Train (2004-07-01 to 2004-12-31), Test (2005-01-01 to 2005-06-30) ===\n"
     ]
    },
    {
     "name": "stderr",
     "output_type": "stream",
     "text": [
      "Processing Target Nodes (Test 2): 100%|██████████| 14/14 [00:38<00:00,  2.73s/it]\n"
     ]
    },
    {
     "name": "stdout",
     "output_type": "stream",
     "text": [
      "\n",
      "=== Processing Test 3: Train (2005-01-01 to 2005-06-30), Test (2005-07-01 to 2005-12-31) ===\n"
     ]
    },
    {
     "name": "stderr",
     "output_type": "stream",
     "text": [
      "Processing Target Nodes (Test 3): 100%|██████████| 15/15 [00:28<00:00,  1.92s/it]\n"
     ]
    },
    {
     "name": "stdout",
     "output_type": "stream",
     "text": [
      "\n",
      "=== Processing Test 4: Train (2005-07-01 to 2005-12-31), Test (2006-01-01 to 2006-06-30) ===\n"
     ]
    },
    {
     "name": "stderr",
     "output_type": "stream",
     "text": [
      "Processing Target Nodes (Test 4): 100%|██████████| 15/15 [00:29<00:00,  1.94s/it]\n"
     ]
    },
    {
     "name": "stdout",
     "output_type": "stream",
     "text": [
      "\n",
      "=== Processing Test 5: Train (2006-01-01 to 2006-06-30), Test (2006-07-01 to 2006-12-31) ===\n"
     ]
    },
    {
     "name": "stderr",
     "output_type": "stream",
     "text": [
      "Processing Target Nodes (Test 5): 100%|██████████| 15/15 [00:29<00:00,  1.96s/it]\n"
     ]
    },
    {
     "name": "stdout",
     "output_type": "stream",
     "text": [
      "\n",
      "=== Processing Test 6: Train (2006-07-01 to 2006-12-31), Test (2007-01-01 to 2007-06-30) ===\n"
     ]
    },
    {
     "name": "stderr",
     "output_type": "stream",
     "text": [
      "Processing Target Nodes (Test 6): 100%|██████████| 15/15 [00:29<00:00,  1.96s/it]\n"
     ]
    },
    {
     "name": "stdout",
     "output_type": "stream",
     "text": [
      "\n",
      "=== Processing Test 7: Train (2007-01-01 to 2007-06-30), Test (2007-07-01 to 2007-12-31) ===\n"
     ]
    },
    {
     "name": "stderr",
     "output_type": "stream",
     "text": [
      "Processing Target Nodes (Test 7): 100%|██████████| 15/15 [00:31<00:00,  2.07s/it]\n"
     ]
    },
    {
     "name": "stdout",
     "output_type": "stream",
     "text": [
      "\n",
      "=== Processing Test 8: Train (2007-07-01 to 2007-12-31), Test (2008-01-01 to 2008-06-30) ===\n"
     ]
    },
    {
     "name": "stderr",
     "output_type": "stream",
     "text": [
      "Processing Target Nodes (Test 8): 100%|██████████| 15/15 [00:30<00:00,  2.06s/it]\n"
     ]
    },
    {
     "name": "stdout",
     "output_type": "stream",
     "text": [
      "\n",
      "=== Processing Test 9: Train (2008-01-01 to 2008-06-30), Test (2008-07-01 to 2008-12-31) ===\n"
     ]
    },
    {
     "name": "stderr",
     "output_type": "stream",
     "text": [
      "Processing Target Nodes (Test 9): 100%|██████████| 15/15 [00:31<00:00,  2.09s/it]\n"
     ]
    },
    {
     "name": "stdout",
     "output_type": "stream",
     "text": [
      "\n",
      "=== Processing Test 10: Train (2008-07-01 to 2008-12-31), Test (2009-01-01 to 2009-06-30) ===\n"
     ]
    },
    {
     "name": "stderr",
     "output_type": "stream",
     "text": [
      "Processing Target Nodes (Test 10): 100%|██████████| 15/15 [00:35<00:00,  2.37s/it]\n"
     ]
    },
    {
     "name": "stdout",
     "output_type": "stream",
     "text": [
      "\n",
      "=== Processing Test 11: Train (2009-01-01 to 2009-06-30), Test (2009-07-01 to 2009-12-31) ===\n"
     ]
    },
    {
     "name": "stderr",
     "output_type": "stream",
     "text": [
      "Processing Target Nodes (Test 11): 100%|██████████| 15/15 [00:36<00:00,  2.43s/it]\n"
     ]
    },
    {
     "name": "stdout",
     "output_type": "stream",
     "text": [
      "\n",
      "=== Processing Test 12: Train (2009-07-01 to 2009-12-31), Test (2010-01-01 to 2010-06-30) ===\n"
     ]
    },
    {
     "name": "stderr",
     "output_type": "stream",
     "text": [
      "Processing Target Nodes (Test 12): 100%|██████████| 15/15 [00:34<00:00,  2.30s/it]\n"
     ]
    },
    {
     "name": "stdout",
     "output_type": "stream",
     "text": [
      "\n",
      "=== Processing Test 13: Train (2010-01-01 to 2010-06-30), Test (2010-07-01 to 2010-12-31) ===\n"
     ]
    },
    {
     "name": "stderr",
     "output_type": "stream",
     "text": [
      "Processing Target Nodes (Test 13): 100%|██████████| 15/15 [00:34<00:00,  2.31s/it]\n"
     ]
    },
    {
     "name": "stdout",
     "output_type": "stream",
     "text": [
      "\n",
      "=== Processing Test 14: Train (2010-07-01 to 2010-12-31), Test (2011-01-01 to 2011-06-30) ===\n"
     ]
    },
    {
     "name": "stderr",
     "output_type": "stream",
     "text": [
      "Processing Target Nodes (Test 14): 100%|██████████| 15/15 [00:34<00:00,  2.33s/it]\n"
     ]
    },
    {
     "name": "stdout",
     "output_type": "stream",
     "text": [
      "\n",
      "=== Processing Test 15: Train (2011-01-01 to 2011-06-30), Test (2011-07-01 to 2011-12-31) ===\n"
     ]
    },
    {
     "name": "stderr",
     "output_type": "stream",
     "text": [
      "Processing Target Nodes (Test 15): 100%|██████████| 15/15 [00:35<00:00,  2.37s/it]\n"
     ]
    },
    {
     "name": "stdout",
     "output_type": "stream",
     "text": [
      "\n",
      "=== Processing Test 16: Train (2011-07-01 to 2011-12-31), Test (2012-01-01 to 2012-06-30) ===\n"
     ]
    },
    {
     "name": "stderr",
     "output_type": "stream",
     "text": [
      "Processing Target Nodes (Test 16): 100%|██████████| 15/15 [00:36<00:00,  2.42s/it]\n"
     ]
    },
    {
     "name": "stdout",
     "output_type": "stream",
     "text": [
      "\n",
      "=== Processing Test 17: Train (2012-01-01 to 2012-06-30), Test (2012-07-01 to 2012-12-31) ===\n"
     ]
    },
    {
     "name": "stderr",
     "output_type": "stream",
     "text": [
      "Processing Target Nodes (Test 17): 100%|██████████| 15/15 [00:35<00:00,  2.34s/it]\n"
     ]
    },
    {
     "name": "stdout",
     "output_type": "stream",
     "text": [
      "\n",
      "=== Processing Test 18: Train (2012-07-01 to 2012-12-31), Test (2013-01-01 to 2013-06-30) ===\n"
     ]
    },
    {
     "name": "stderr",
     "output_type": "stream",
     "text": [
      "Processing Target Nodes (Test 18): 100%|██████████| 15/15 [00:35<00:00,  2.34s/it]\n"
     ]
    },
    {
     "name": "stdout",
     "output_type": "stream",
     "text": [
      "\n",
      "=== Processing Test 19: Train (2013-01-01 to 2013-06-30), Test (2013-07-01 to 2013-12-31) ===\n"
     ]
    },
    {
     "name": "stderr",
     "output_type": "stream",
     "text": [
      "Processing Target Nodes (Test 19): 100%|██████████| 15/15 [00:34<00:00,  2.33s/it]\n"
     ]
    },
    {
     "name": "stdout",
     "output_type": "stream",
     "text": [
      "\n",
      "=== Processing Test 20: Train (2013-07-01 to 2013-12-31), Test (2014-01-01 to 2014-06-30) ===\n"
     ]
    },
    {
     "name": "stderr",
     "output_type": "stream",
     "text": [
      "Processing Target Nodes (Test 20): 100%|██████████| 15/15 [00:35<00:00,  2.34s/it]\n"
     ]
    },
    {
     "name": "stdout",
     "output_type": "stream",
     "text": [
      "\n",
      "=== Processing Test 21: Train (2014-01-01 to 2014-06-30), Test (2014-07-01 to 2014-12-31) ===\n"
     ]
    },
    {
     "name": "stderr",
     "output_type": "stream",
     "text": [
      "Processing Target Nodes (Test 21): 100%|██████████| 15/15 [00:34<00:00,  2.32s/it]\n"
     ]
    },
    {
     "name": "stdout",
     "output_type": "stream",
     "text": [
      "\n",
      "=== Processing Test 22: Train (2014-07-01 to 2014-12-31), Test (2015-01-01 to 2015-06-30) ===\n"
     ]
    },
    {
     "name": "stderr",
     "output_type": "stream",
     "text": [
      "Processing Target Nodes (Test 22): 100%|██████████| 14/14 [00:32<00:00,  2.30s/it]\n"
     ]
    },
    {
     "name": "stdout",
     "output_type": "stream",
     "text": [
      "\n",
      "=== Processing Test 23: Train (2015-01-01 to 2015-06-30), Test (2015-07-01 to 2015-12-31) ===\n"
     ]
    },
    {
     "name": "stderr",
     "output_type": "stream",
     "text": [
      "Processing Target Nodes (Test 23): 100%|██████████| 15/15 [00:35<00:00,  2.34s/it]\n"
     ]
    },
    {
     "name": "stdout",
     "output_type": "stream",
     "text": [
      "\n",
      "=== Processing Test 24: Train (2015-07-01 to 2015-12-31), Test (2016-01-01 to 2016-06-30) ===\n"
     ]
    },
    {
     "name": "stderr",
     "output_type": "stream",
     "text": [
      "Processing Target Nodes (Test 24): 100%|██████████| 15/15 [00:36<00:00,  2.40s/it]\n"
     ]
    },
    {
     "name": "stdout",
     "output_type": "stream",
     "text": [
      "\n",
      "=== Processing Test 25: Train (2016-01-01 to 2016-06-30), Test (2016-07-01 to 2016-12-31) ===\n"
     ]
    },
    {
     "name": "stderr",
     "output_type": "stream",
     "text": [
      "Processing Target Nodes (Test 25): 100%|██████████| 15/15 [00:36<00:00,  2.42s/it]\n"
     ]
    },
    {
     "name": "stdout",
     "output_type": "stream",
     "text": [
      "\n",
      "=== Processing Test 26: Train (2016-07-01 to 2016-12-31), Test (2017-01-01 to 2017-06-30) ===\n"
     ]
    },
    {
     "name": "stderr",
     "output_type": "stream",
     "text": [
      "Processing Target Nodes (Test 26): 100%|██████████| 15/15 [00:35<00:00,  2.36s/it]\n"
     ]
    },
    {
     "name": "stdout",
     "output_type": "stream",
     "text": [
      "\n",
      "=== Processing Test 27: Train (2017-01-01 to 2017-06-30), Test (2017-07-01 to 2017-12-31) ===\n"
     ]
    },
    {
     "name": "stderr",
     "output_type": "stream",
     "text": [
      "Processing Target Nodes (Test 27): 100%|██████████| 14/14 [00:32<00:00,  2.33s/it]\n"
     ]
    },
    {
     "name": "stdout",
     "output_type": "stream",
     "text": [
      "\n",
      "=== Processing Test 28: Train (2017-07-01 to 2017-12-31), Test (2018-01-01 to 2018-06-30) ===\n"
     ]
    },
    {
     "name": "stderr",
     "output_type": "stream",
     "text": [
      "Processing Target Nodes (Test 28): 100%|██████████| 13/13 [00:29<00:00,  2.30s/it]\n"
     ]
    },
    {
     "name": "stdout",
     "output_type": "stream",
     "text": [
      "\n",
      "=== Processing Test 29: Train (2018-01-01 to 2018-06-30), Test (2018-07-01 to 2018-12-31) ===\n"
     ]
    },
    {
     "name": "stderr",
     "output_type": "stream",
     "text": [
      "Processing Target Nodes (Test 29): 100%|██████████| 14/14 [00:33<00:00,  2.36s/it]\n"
     ]
    },
    {
     "name": "stdout",
     "output_type": "stream",
     "text": [
      "\n",
      "=== Processing Test 30: Train (2018-07-01 to 2018-12-31), Test (2019-01-01 to 2019-06-30) ===\n"
     ]
    },
    {
     "name": "stderr",
     "output_type": "stream",
     "text": [
      "Processing Target Nodes (Test 30): 100%|██████████| 15/15 [00:35<00:00,  2.36s/it]\n"
     ]
    },
    {
     "name": "stdout",
     "output_type": "stream",
     "text": [
      "\n",
      "=== Processing Test 31: Train (2019-01-01 to 2019-06-30), Test (2019-07-01 to 2019-12-31) ===\n"
     ]
    },
    {
     "name": "stderr",
     "output_type": "stream",
     "text": [
      "Processing Target Nodes (Test 31): 100%|██████████| 15/15 [00:35<00:00,  2.37s/it]\n"
     ]
    },
    {
     "name": "stdout",
     "output_type": "stream",
     "text": [
      "\n",
      "=== Processing Test 32: Train (2019-07-01 to 2019-12-31), Test (2020-01-01 to 2020-06-30) ===\n"
     ]
    },
    {
     "name": "stderr",
     "output_type": "stream",
     "text": [
      "Processing Target Nodes (Test 32): 100%|██████████| 14/14 [00:33<00:00,  2.41s/it]\n"
     ]
    },
    {
     "name": "stdout",
     "output_type": "stream",
     "text": [
      "\n",
      "=== Processing Test 33: Train (2020-01-01 to 2020-06-30), Test (2020-07-01 to 2020-12-31) ===\n"
     ]
    },
    {
     "name": "stderr",
     "output_type": "stream",
     "text": [
      "Processing Target Nodes (Test 33): 100%|██████████| 15/15 [00:37<00:00,  2.49s/it]\n"
     ]
    },
    {
     "name": "stdout",
     "output_type": "stream",
     "text": [
      "\n",
      "=== Processing Test 34: Train (2020-07-01 to 2020-12-31), Test (2021-01-01 to 2021-06-30) ===\n"
     ]
    },
    {
     "name": "stderr",
     "output_type": "stream",
     "text": [
      "Processing Target Nodes (Test 34): 100%|██████████| 14/14 [00:33<00:00,  2.42s/it]\n"
     ]
    },
    {
     "name": "stdout",
     "output_type": "stream",
     "text": [
      "\n",
      "=== Processing Test 35: Train (2021-01-01 to 2021-06-30), Test (2021-07-01 to 2021-12-31) ===\n"
     ]
    },
    {
     "name": "stderr",
     "output_type": "stream",
     "text": [
      "Processing Target Nodes (Test 35): 100%|██████████| 15/15 [00:36<00:00,  2.41s/it]\n"
     ]
    },
    {
     "name": "stdout",
     "output_type": "stream",
     "text": [
      "\n",
      "=== Processing Test 36: Train (2021-07-01 to 2021-12-31), Test (2022-01-01 to 2022-06-30) ===\n"
     ]
    },
    {
     "name": "stderr",
     "output_type": "stream",
     "text": [
      "Processing Target Nodes (Test 36): 100%|██████████| 14/14 [00:34<00:00,  2.46s/it]\n"
     ]
    },
    {
     "name": "stdout",
     "output_type": "stream",
     "text": [
      "\n",
      "=== Processing Test 37: Train (2022-01-01 to 2022-06-30), Test (2022-07-01 to 2022-12-31) ===\n"
     ]
    },
    {
     "name": "stderr",
     "output_type": "stream",
     "text": [
      "Processing Target Nodes (Test 37): 100%|██████████| 15/15 [00:37<00:00,  2.48s/it]\n"
     ]
    },
    {
     "name": "stdout",
     "output_type": "stream",
     "text": [
      "\n",
      "=== Processing Test 38: Train (2022-07-01 to 2022-12-31), Test (2023-01-01 to 2023-06-30) ===\n"
     ]
    },
    {
     "name": "stderr",
     "output_type": "stream",
     "text": [
      "Processing Target Nodes (Test 38): 100%|██████████| 15/15 [00:36<00:00,  2.45s/it]\n"
     ]
    },
    {
     "name": "stdout",
     "output_type": "stream",
     "text": [
      "\n",
      "=== Processing Test 39: Train (2023-01-01 to 2023-06-30), Test (2023-07-01 to 2023-12-31) ===\n"
     ]
    },
    {
     "name": "stderr",
     "output_type": "stream",
     "text": [
      "Processing Target Nodes (Test 39): 100%|██████████| 14/14 [00:34<00:00,  2.43s/it]\n"
     ]
    },
    {
     "name": "stdout",
     "output_type": "stream",
     "text": [
      "\n",
      "=== Processing Test 40: Train (2023-07-01 to 2023-12-31), Test (2024-01-01 to 2024-06-30) ===\n"
     ]
    },
    {
     "name": "stderr",
     "output_type": "stream",
     "text": [
      "Processing Target Nodes (Test 40): 100%|██████████| 14/14 [00:34<00:00,  2.48s/it]\n"
     ]
    },
    {
     "name": "stdout",
     "output_type": "stream",
     "text": [
      "\n",
      "=== Processing Test 41: Train (2024-01-01 to 2024-06-30), Test (2024-07-01 to 2024-12-31) ===\n"
     ]
    },
    {
     "name": "stderr",
     "output_type": "stream",
     "text": [
      "Processing Target Nodes (Test 41): 100%|██████████| 14/14 [00:33<00:00,  2.41s/it]"
     ]
    },
    {
     "name": "stdout",
     "output_type": "stream",
     "text": [
      "\n",
      "Final Results with GCN Regression:\n"
     ]
    },
    {
     "name": "stderr",
     "output_type": "stream",
     "text": [
      "\n"
     ]
    },
    {
     "data": {
      "text/html": [
       "<div>\n",
       "<style scoped>\n",
       "    .dataframe tbody tr th:only-of-type {\n",
       "        vertical-align: middle;\n",
       "    }\n",
       "\n",
       "    .dataframe tbody tr th {\n",
       "        vertical-align: top;\n",
       "    }\n",
       "\n",
       "    .dataframe thead th {\n",
       "        text-align: right;\n",
       "    }\n",
       "</style>\n",
       "<table border=\"1\" class=\"dataframe\">\n",
       "  <thead>\n",
       "    <tr style=\"text-align: right;\">\n",
       "      <th></th>\n",
       "      <th>Test ID</th>\n",
       "      <th>Target Index</th>\n",
       "      <th>RMSE</th>\n",
       "      <th>RMAE</th>\n",
       "    </tr>\n",
       "  </thead>\n",
       "  <tbody>\n",
       "    <tr>\n",
       "      <th>0</th>\n",
       "      <td>1</td>\n",
       "      <td>Turkey BIST 100</td>\n",
       "      <td>0.014673</td>\n",
       "      <td>0.011610</td>\n",
       "    </tr>\n",
       "    <tr>\n",
       "      <th>1</th>\n",
       "      <td>1</td>\n",
       "      <td>Hang Seng</td>\n",
       "      <td>0.008098</td>\n",
       "      <td>0.006151</td>\n",
       "    </tr>\n",
       "    <tr>\n",
       "      <th>2</th>\n",
       "      <td>1</td>\n",
       "      <td>Straits Times</td>\n",
       "      <td>0.006408</td>\n",
       "      <td>0.005126</td>\n",
       "    </tr>\n",
       "    <tr>\n",
       "      <th>3</th>\n",
       "      <td>1</td>\n",
       "      <td>Mexican IPC</td>\n",
       "      <td>0.007655</td>\n",
       "      <td>0.006096</td>\n",
       "    </tr>\n",
       "    <tr>\n",
       "      <th>4</th>\n",
       "      <td>1</td>\n",
       "      <td>FTSE 100</td>\n",
       "      <td>0.006028</td>\n",
       "      <td>0.004721</td>\n",
       "    </tr>\n",
       "    <tr>\n",
       "      <th>...</th>\n",
       "      <td>...</td>\n",
       "      <td>...</td>\n",
       "      <td>...</td>\n",
       "      <td>...</td>\n",
       "    </tr>\n",
       "    <tr>\n",
       "      <th>598</th>\n",
       "      <td>41</td>\n",
       "      <td>DAX</td>\n",
       "      <td>0.008427</td>\n",
       "      <td>0.006736</td>\n",
       "    </tr>\n",
       "    <tr>\n",
       "      <th>599</th>\n",
       "      <td>41</td>\n",
       "      <td>Mexican IPC</td>\n",
       "      <td>0.008836</td>\n",
       "      <td>0.007041</td>\n",
       "    </tr>\n",
       "    <tr>\n",
       "      <th>600</th>\n",
       "      <td>41</td>\n",
       "      <td>IBEX 35</td>\n",
       "      <td>0.008480</td>\n",
       "      <td>0.006518</td>\n",
       "    </tr>\n",
       "    <tr>\n",
       "      <th>601</th>\n",
       "      <td>41</td>\n",
       "      <td>CAC 40</td>\n",
       "      <td>0.008797</td>\n",
       "      <td>0.006972</td>\n",
       "    </tr>\n",
       "    <tr>\n",
       "      <th>602</th>\n",
       "      <td>41</td>\n",
       "      <td>Bovespa</td>\n",
       "      <td>0.008529</td>\n",
       "      <td>0.006498</td>\n",
       "    </tr>\n",
       "  </tbody>\n",
       "</table>\n",
       "<p>603 rows × 4 columns</p>\n",
       "</div>"
      ],
      "text/plain": [
       "     Test ID     Target Index      RMSE      RMAE\n",
       "0          1  Turkey BIST 100  0.014673  0.011610\n",
       "1          1        Hang Seng  0.008098  0.006151\n",
       "2          1    Straits Times  0.006408  0.005126\n",
       "3          1      Mexican IPC  0.007655  0.006096\n",
       "4          1         FTSE 100  0.006028  0.004721\n",
       "..       ...              ...       ...       ...\n",
       "598       41              DAX  0.008427  0.006736\n",
       "599       41      Mexican IPC  0.008836  0.007041\n",
       "600       41          IBEX 35  0.008480  0.006518\n",
       "601       41           CAC 40  0.008797  0.006972\n",
       "602       41          Bovespa  0.008529  0.006498\n",
       "\n",
       "[603 rows x 4 columns]"
      ]
     },
     "execution_count": 20,
     "metadata": {},
     "output_type": "execute_result"
    }
   ],
   "source": [
    "class GCN(torch.nn.Module):\n",
    "    def __init__(self, num_features, hidden_dim1, hidden_dim2, embedding_dim):\n",
    "        super(GCN, self).__init__()\n",
    "        self.conv1 = GCNConv(int(num_features), hidden_dim1)\n",
    "        self.conv2 = GCNConv(hidden_dim1, hidden_dim2)\n",
    "        self.conv3 = GCNConv(hidden_dim2, embedding_dim)\n",
    "        self.fc = torch.nn.Linear(embedding_dim, 1)  # Output layer for regression\n",
    "\n",
    "    def forward(self, data):\n",
    "        x, edge_index = data.x, data.edge_index\n",
    "        x = self.conv1(x, edge_index)\n",
    "        x = F.relu(x)\n",
    "        x = self.conv2(x, edge_index)\n",
    "        x = F.relu(x)\n",
    "        x = self.conv3(x, edge_index)\n",
    "        x = F.relu(x)\n",
    "        x = self.fc(x)  # Project to a single output for regression\n",
    "        return x\n",
    "\n",
    "# 결과 저장용 변수\n",
    "final_results = []\n",
    "\n",
    "# 고정된 하이퍼파라미터 설정\n",
    "hidden_dim1 = 64\n",
    "hidden_dim2 = 64\n",
    "embedding_dim = 32\n",
    "lr = 0.01\n",
    "\n",
    "# GCN 평가\n",
    "for test_id, (train_start, train_end, test_start, test_end) in enumerate(test_periods):\n",
    "    print(f\"\\n=== Processing Test {test_id + 1}: Train ({train_start} to {train_end}), Test ({test_start} to {test_end}) ===\")\n",
    "\n",
    "    # Train/Test 데이터 분리\n",
    "    train_data = returns.loc[train_start:train_end]\n",
    "    test_data = returns.loc[test_start:test_end]\n",
    "\n",
    "    # 그래프 생성 (Train 데이터 기준)\n",
    "    G = create_correlation_graph(train_data)\n",
    "    nodes_in_graph = list(G.nodes)\n",
    "    node_to_idx = {node: idx for idx, node in enumerate(nodes_in_graph)}\n",
    "    edge_index = torch.tensor(\n",
    "        [[node_to_idx[edge[0]], node_to_idx[edge[1]]] for edge in G.edges],\n",
    "        dtype=torch.long\n",
    "    ).t()\n",
    "\n",
    "    # Train/Test 데이터 준비\n",
    "    X_train, y_train_set = prepare_time_series_data(train_data[nodes_in_graph])\n",
    "    X_test, y_test_set = prepare_time_series_data(test_data[nodes_in_graph])\n",
    "\n",
    "    # GCN 모델 평가\n",
    "    for target_idx in tqdm(range(len(nodes_in_graph)), desc=f\"Processing Target Nodes (Test {test_id + 1})\"):\n",
    "        rmse_for_target = []\n",
    "        rmae_for_target = []\n",
    "\n",
    "        for _ in range(n_experiments):  # 30번 반복 실험\n",
    "            y_train = y_train_set[:, target_idx]\n",
    "            y_test = y_test_set[:, target_idx]\n",
    "\n",
    "            data_train = Data(\n",
    "                x=torch.tensor(X_train, dtype=torch.float32),\n",
    "                y=torch.tensor(y_train, dtype=torch.float32).unsqueeze(1),  # Add dimension for matching\n",
    "                edge_index=edge_index\n",
    "            )\n",
    "            data_test = Data(\n",
    "                x=torch.tensor(X_test, dtype=torch.float32),\n",
    "                y=torch.tensor(y_test, dtype=torch.float32).unsqueeze(1),  # Add dimension for matching\n",
    "                edge_index=edge_index\n",
    "            )\n",
    "\n",
    "            # Initialize GCN\n",
    "            model = GCN(\n",
    "                num_features=X_train.shape[1],\n",
    "                hidden_dim1=hidden_dim1,\n",
    "                hidden_dim2=hidden_dim2,\n",
    "                embedding_dim=embedding_dim\n",
    "            )\n",
    "            optimizer = torch.optim.Adam(model.parameters(), lr=lr, weight_decay=5e-4)\n",
    "            criterion = torch.nn.MSELoss()\n",
    "\n",
    "            # Train the model\n",
    "            model.train()\n",
    "            for epoch in range(100):  # 100 epoch로 학습\n",
    "                optimizer.zero_grad()\n",
    "                out = model(data_train).squeeze()  # Ensure output shape matches target\n",
    "                loss = criterion(out, data_train.y.squeeze())\n",
    "                loss.backward()\n",
    "                optimizer.step()\n",
    "\n",
    "            # Evaluate on Test Data\n",
    "            model.eval()\n",
    "            with torch.no_grad():\n",
    "                y_pred = model(data_test).squeeze().cpu().numpy()\n",
    "                y_true = data_test.y.squeeze().cpu().numpy()\n",
    "\n",
    "                rmse = np.sqrt(mean_squared_error(y_true, y_pred))\n",
    "                rmae = mean_absolute_error(y_true, y_pred)\n",
    "\n",
    "                rmse_for_target.append(rmse)\n",
    "                rmae_for_target.append(rmae)\n",
    "\n",
    "        # Aggregate results for this target\n",
    "        final_results.append({\n",
    "            'Test ID': test_id + 1,\n",
    "            'Target Index': nodes_in_graph[target_idx],\n",
    "            'RMSE': np.mean(rmse_for_target),\n",
    "            'RMAE': np.mean(rmae_for_target)\n",
    "        })\n",
    "\n",
    "# 결과를 DataFrame으로 정리\n",
    "gcn_results = pd.DataFrame(final_results)\n",
    "\n",
    "# Display results\n",
    "print(\"\\nFinal Results with GCN Regression:\")\n",
    "gcn_results\n"
   ]
  },
  {
   "cell_type": "markdown",
   "metadata": {},
   "source": [
    "#### 5.2. GAT Model 임베딩"
   ]
  },
  {
   "cell_type": "code",
   "execution_count": 21,
   "metadata": {},
   "outputs": [
    {
     "name": "stdout",
     "output_type": "stream",
     "text": [
      "\n",
      "=== Processing Test 1: Train (2004-01-01 to 2004-06-30), Test (2004-07-01 to 2004-12-31) ===\n"
     ]
    },
    {
     "name": "stderr",
     "output_type": "stream",
     "text": [
      "Processing Target Nodes (Test 1): 100%|██████████| 15/15 [01:39<00:00,  6.65s/it]\n"
     ]
    },
    {
     "name": "stdout",
     "output_type": "stream",
     "text": [
      "\n",
      "=== Processing Test 2: Train (2004-07-01 to 2004-12-31), Test (2005-01-01 to 2005-06-30) ===\n"
     ]
    },
    {
     "name": "stderr",
     "output_type": "stream",
     "text": [
      "Processing Target Nodes (Test 2): 100%|██████████| 14/14 [01:32<00:00,  6.58s/it]\n"
     ]
    },
    {
     "name": "stdout",
     "output_type": "stream",
     "text": [
      "\n",
      "=== Processing Test 3: Train (2005-01-01 to 2005-06-30), Test (2005-07-01 to 2005-12-31) ===\n"
     ]
    },
    {
     "name": "stderr",
     "output_type": "stream",
     "text": [
      "Processing Target Nodes (Test 3): 100%|██████████| 15/15 [01:52<00:00,  7.52s/it]\n"
     ]
    },
    {
     "name": "stdout",
     "output_type": "stream",
     "text": [
      "\n",
      "=== Processing Test 4: Train (2005-07-01 to 2005-12-31), Test (2006-01-01 to 2006-06-30) ===\n"
     ]
    },
    {
     "name": "stderr",
     "output_type": "stream",
     "text": [
      "Processing Target Nodes (Test 4): 100%|██████████| 15/15 [01:56<00:00,  7.77s/it]\n"
     ]
    },
    {
     "name": "stdout",
     "output_type": "stream",
     "text": [
      "\n",
      "=== Processing Test 5: Train (2006-01-01 to 2006-06-30), Test (2006-07-01 to 2006-12-31) ===\n"
     ]
    },
    {
     "name": "stderr",
     "output_type": "stream",
     "text": [
      "Processing Target Nodes (Test 5): 100%|██████████| 15/15 [02:00<00:00,  8.01s/it]\n"
     ]
    },
    {
     "name": "stdout",
     "output_type": "stream",
     "text": [
      "\n",
      "=== Processing Test 6: Train (2006-07-01 to 2006-12-31), Test (2007-01-01 to 2007-06-30) ===\n"
     ]
    },
    {
     "name": "stderr",
     "output_type": "stream",
     "text": [
      "Processing Target Nodes (Test 6): 100%|██████████| 15/15 [02:01<00:00,  8.08s/it]\n"
     ]
    },
    {
     "name": "stdout",
     "output_type": "stream",
     "text": [
      "\n",
      "=== Processing Test 7: Train (2007-01-01 to 2007-06-30), Test (2007-07-01 to 2007-12-31) ===\n"
     ]
    },
    {
     "name": "stderr",
     "output_type": "stream",
     "text": [
      "Processing Target Nodes (Test 7): 100%|██████████| 15/15 [02:03<00:00,  8.23s/it]\n"
     ]
    },
    {
     "name": "stdout",
     "output_type": "stream",
     "text": [
      "\n",
      "=== Processing Test 8: Train (2007-07-01 to 2007-12-31), Test (2008-01-01 to 2008-06-30) ===\n"
     ]
    },
    {
     "name": "stderr",
     "output_type": "stream",
     "text": [
      "Processing Target Nodes (Test 8): 100%|██████████| 15/15 [02:05<00:00,  8.37s/it]\n"
     ]
    },
    {
     "name": "stdout",
     "output_type": "stream",
     "text": [
      "\n",
      "=== Processing Test 9: Train (2008-01-01 to 2008-06-30), Test (2008-07-01 to 2008-12-31) ===\n"
     ]
    },
    {
     "name": "stderr",
     "output_type": "stream",
     "text": [
      "Processing Target Nodes (Test 9): 100%|██████████| 15/15 [02:04<00:00,  8.31s/it]\n"
     ]
    },
    {
     "name": "stdout",
     "output_type": "stream",
     "text": [
      "\n",
      "=== Processing Test 10: Train (2008-07-01 to 2008-12-31), Test (2009-01-01 to 2009-06-30) ===\n"
     ]
    },
    {
     "name": "stderr",
     "output_type": "stream",
     "text": [
      "Processing Target Nodes (Test 10): 100%|██████████| 15/15 [02:08<00:00,  8.56s/it]\n"
     ]
    },
    {
     "name": "stdout",
     "output_type": "stream",
     "text": [
      "\n",
      "=== Processing Test 11: Train (2009-01-01 to 2009-06-30), Test (2009-07-01 to 2009-12-31) ===\n"
     ]
    },
    {
     "name": "stderr",
     "output_type": "stream",
     "text": [
      "Processing Target Nodes (Test 11): 100%|██████████| 15/15 [02:06<00:00,  8.42s/it]\n"
     ]
    },
    {
     "name": "stdout",
     "output_type": "stream",
     "text": [
      "\n",
      "=== Processing Test 12: Train (2009-07-01 to 2009-12-31), Test (2010-01-01 to 2010-06-30) ===\n"
     ]
    },
    {
     "name": "stderr",
     "output_type": "stream",
     "text": [
      "Processing Target Nodes (Test 12): 100%|██████████| 15/15 [02:06<00:00,  8.44s/it]\n"
     ]
    },
    {
     "name": "stdout",
     "output_type": "stream",
     "text": [
      "\n",
      "=== Processing Test 13: Train (2010-01-01 to 2010-06-30), Test (2010-07-01 to 2010-12-31) ===\n"
     ]
    },
    {
     "name": "stderr",
     "output_type": "stream",
     "text": [
      "Processing Target Nodes (Test 13): 100%|██████████| 15/15 [02:08<00:00,  8.57s/it]\n"
     ]
    },
    {
     "name": "stdout",
     "output_type": "stream",
     "text": [
      "\n",
      "=== Processing Test 14: Train (2010-07-01 to 2010-12-31), Test (2011-01-01 to 2011-06-30) ===\n"
     ]
    },
    {
     "name": "stderr",
     "output_type": "stream",
     "text": [
      "Processing Target Nodes (Test 14): 100%|██████████| 15/15 [02:07<00:00,  8.52s/it]\n"
     ]
    },
    {
     "name": "stdout",
     "output_type": "stream",
     "text": [
      "\n",
      "=== Processing Test 15: Train (2011-01-01 to 2011-06-30), Test (2011-07-01 to 2011-12-31) ===\n"
     ]
    },
    {
     "name": "stderr",
     "output_type": "stream",
     "text": [
      "Processing Target Nodes (Test 15): 100%|██████████| 15/15 [02:06<00:00,  8.40s/it]\n"
     ]
    },
    {
     "name": "stdout",
     "output_type": "stream",
     "text": [
      "\n",
      "=== Processing Test 16: Train (2011-07-01 to 2011-12-31), Test (2012-01-01 to 2012-06-30) ===\n"
     ]
    },
    {
     "name": "stderr",
     "output_type": "stream",
     "text": [
      "Processing Target Nodes (Test 16): 100%|██████████| 15/15 [02:09<00:00,  8.61s/it]\n"
     ]
    },
    {
     "name": "stdout",
     "output_type": "stream",
     "text": [
      "\n",
      "=== Processing Test 17: Train (2012-01-01 to 2012-06-30), Test (2012-07-01 to 2012-12-31) ===\n"
     ]
    },
    {
     "name": "stderr",
     "output_type": "stream",
     "text": [
      "Processing Target Nodes (Test 17): 100%|██████████| 15/15 [02:07<00:00,  8.49s/it]\n"
     ]
    },
    {
     "name": "stdout",
     "output_type": "stream",
     "text": [
      "\n",
      "=== Processing Test 18: Train (2012-07-01 to 2012-12-31), Test (2013-01-01 to 2013-06-30) ===\n"
     ]
    },
    {
     "name": "stderr",
     "output_type": "stream",
     "text": [
      "Processing Target Nodes (Test 18): 100%|██████████| 15/15 [02:06<00:00,  8.46s/it]\n"
     ]
    },
    {
     "name": "stdout",
     "output_type": "stream",
     "text": [
      "\n",
      "=== Processing Test 19: Train (2013-01-01 to 2013-06-30), Test (2013-07-01 to 2013-12-31) ===\n"
     ]
    },
    {
     "name": "stderr",
     "output_type": "stream",
     "text": [
      "Processing Target Nodes (Test 19): 100%|██████████| 15/15 [02:06<00:00,  8.45s/it]\n"
     ]
    },
    {
     "name": "stdout",
     "output_type": "stream",
     "text": [
      "\n",
      "=== Processing Test 20: Train (2013-07-01 to 2013-12-31), Test (2014-01-01 to 2014-06-30) ===\n"
     ]
    },
    {
     "name": "stderr",
     "output_type": "stream",
     "text": [
      "Processing Target Nodes (Test 20): 100%|██████████| 15/15 [02:08<00:00,  8.54s/it]\n"
     ]
    },
    {
     "name": "stdout",
     "output_type": "stream",
     "text": [
      "\n",
      "=== Processing Test 21: Train (2014-01-01 to 2014-06-30), Test (2014-07-01 to 2014-12-31) ===\n"
     ]
    },
    {
     "name": "stderr",
     "output_type": "stream",
     "text": [
      "Processing Target Nodes (Test 21): 100%|██████████| 15/15 [02:04<00:00,  8.31s/it]\n"
     ]
    },
    {
     "name": "stdout",
     "output_type": "stream",
     "text": [
      "\n",
      "=== Processing Test 22: Train (2014-07-01 to 2014-12-31), Test (2015-01-01 to 2015-06-30) ===\n"
     ]
    },
    {
     "name": "stderr",
     "output_type": "stream",
     "text": [
      "Processing Target Nodes (Test 22): 100%|██████████| 14/14 [01:57<00:00,  8.38s/it]\n"
     ]
    },
    {
     "name": "stdout",
     "output_type": "stream",
     "text": [
      "\n",
      "=== Processing Test 23: Train (2015-01-01 to 2015-06-30), Test (2015-07-01 to 2015-12-31) ===\n"
     ]
    },
    {
     "name": "stderr",
     "output_type": "stream",
     "text": [
      "Processing Target Nodes (Test 23): 100%|██████████| 15/15 [02:06<00:00,  8.42s/it]\n"
     ]
    },
    {
     "name": "stdout",
     "output_type": "stream",
     "text": [
      "\n",
      "=== Processing Test 24: Train (2015-07-01 to 2015-12-31), Test (2016-01-01 to 2016-06-30) ===\n"
     ]
    },
    {
     "name": "stderr",
     "output_type": "stream",
     "text": [
      "Processing Target Nodes (Test 24): 100%|██████████| 15/15 [02:11<00:00,  8.76s/it]\n"
     ]
    },
    {
     "name": "stdout",
     "output_type": "stream",
     "text": [
      "\n",
      "=== Processing Test 25: Train (2016-01-01 to 2016-06-30), Test (2016-07-01 to 2016-12-31) ===\n"
     ]
    },
    {
     "name": "stderr",
     "output_type": "stream",
     "text": [
      "Processing Target Nodes (Test 25): 100%|██████████| 15/15 [02:16<00:00,  9.08s/it]\n"
     ]
    },
    {
     "name": "stdout",
     "output_type": "stream",
     "text": [
      "\n",
      "=== Processing Test 26: Train (2016-07-01 to 2016-12-31), Test (2017-01-01 to 2017-06-30) ===\n"
     ]
    },
    {
     "name": "stderr",
     "output_type": "stream",
     "text": [
      "Processing Target Nodes (Test 26): 100%|██████████| 15/15 [02:08<00:00,  8.55s/it]\n"
     ]
    },
    {
     "name": "stdout",
     "output_type": "stream",
     "text": [
      "\n",
      "=== Processing Test 27: Train (2017-01-01 to 2017-06-30), Test (2017-07-01 to 2017-12-31) ===\n"
     ]
    },
    {
     "name": "stderr",
     "output_type": "stream",
     "text": [
      "Processing Target Nodes (Test 27): 100%|██████████| 14/14 [01:57<00:00,  8.40s/it]\n"
     ]
    },
    {
     "name": "stdout",
     "output_type": "stream",
     "text": [
      "\n",
      "=== Processing Test 28: Train (2017-07-01 to 2017-12-31), Test (2018-01-01 to 2018-06-30) ===\n"
     ]
    },
    {
     "name": "stderr",
     "output_type": "stream",
     "text": [
      "Processing Target Nodes (Test 28): 100%|██████████| 13/13 [01:48<00:00,  8.37s/it]\n"
     ]
    },
    {
     "name": "stdout",
     "output_type": "stream",
     "text": [
      "\n",
      "=== Processing Test 29: Train (2018-01-01 to 2018-06-30), Test (2018-07-01 to 2018-12-31) ===\n"
     ]
    },
    {
     "name": "stderr",
     "output_type": "stream",
     "text": [
      "Processing Target Nodes (Test 29): 100%|██████████| 14/14 [01:58<00:00,  8.46s/it]\n"
     ]
    },
    {
     "name": "stdout",
     "output_type": "stream",
     "text": [
      "\n",
      "=== Processing Test 30: Train (2018-07-01 to 2018-12-31), Test (2019-01-01 to 2019-06-30) ===\n"
     ]
    },
    {
     "name": "stderr",
     "output_type": "stream",
     "text": [
      "Processing Target Nodes (Test 30): 100%|██████████| 15/15 [02:07<00:00,  8.47s/it]\n"
     ]
    },
    {
     "name": "stdout",
     "output_type": "stream",
     "text": [
      "\n",
      "=== Processing Test 31: Train (2019-01-01 to 2019-06-30), Test (2019-07-01 to 2019-12-31) ===\n"
     ]
    },
    {
     "name": "stderr",
     "output_type": "stream",
     "text": [
      "Processing Target Nodes (Test 31): 100%|██████████| 15/15 [02:09<00:00,  8.63s/it]\n"
     ]
    },
    {
     "name": "stdout",
     "output_type": "stream",
     "text": [
      "\n",
      "=== Processing Test 32: Train (2019-07-01 to 2019-12-31), Test (2020-01-01 to 2020-06-30) ===\n"
     ]
    },
    {
     "name": "stderr",
     "output_type": "stream",
     "text": [
      "Processing Target Nodes (Test 32): 100%|██████████| 14/14 [02:00<00:00,  8.63s/it]\n"
     ]
    },
    {
     "name": "stdout",
     "output_type": "stream",
     "text": [
      "\n",
      "=== Processing Test 33: Train (2020-01-01 to 2020-06-30), Test (2020-07-01 to 2020-12-31) ===\n"
     ]
    },
    {
     "name": "stderr",
     "output_type": "stream",
     "text": [
      "Processing Target Nodes (Test 33): 100%|██████████| 15/15 [02:13<00:00,  8.89s/it]\n"
     ]
    },
    {
     "name": "stdout",
     "output_type": "stream",
     "text": [
      "\n",
      "=== Processing Test 34: Train (2020-07-01 to 2020-12-31), Test (2021-01-01 to 2021-06-30) ===\n"
     ]
    },
    {
     "name": "stderr",
     "output_type": "stream",
     "text": [
      "Processing Target Nodes (Test 34): 100%|██████████| 14/14 [02:02<00:00,  8.75s/it]\n"
     ]
    },
    {
     "name": "stdout",
     "output_type": "stream",
     "text": [
      "\n",
      "=== Processing Test 35: Train (2021-01-01 to 2021-06-30), Test (2021-07-01 to 2021-12-31) ===\n"
     ]
    },
    {
     "name": "stderr",
     "output_type": "stream",
     "text": [
      "Processing Target Nodes (Test 35): 100%|██████████| 15/15 [02:06<00:00,  8.43s/it]\n"
     ]
    },
    {
     "name": "stdout",
     "output_type": "stream",
     "text": [
      "\n",
      "=== Processing Test 36: Train (2021-07-01 to 2021-12-31), Test (2022-01-01 to 2022-06-30) ===\n"
     ]
    },
    {
     "name": "stderr",
     "output_type": "stream",
     "text": [
      "Processing Target Nodes (Test 36): 100%|██████████| 14/14 [02:00<00:00,  8.62s/it]\n"
     ]
    },
    {
     "name": "stdout",
     "output_type": "stream",
     "text": [
      "\n",
      "=== Processing Test 37: Train (2022-01-01 to 2022-06-30), Test (2022-07-01 to 2022-12-31) ===\n"
     ]
    },
    {
     "name": "stderr",
     "output_type": "stream",
     "text": [
      "Processing Target Nodes (Test 37): 100%|██████████| 15/15 [02:08<00:00,  8.58s/it]\n"
     ]
    },
    {
     "name": "stdout",
     "output_type": "stream",
     "text": [
      "\n",
      "=== Processing Test 38: Train (2022-07-01 to 2022-12-31), Test (2023-01-01 to 2023-06-30) ===\n"
     ]
    },
    {
     "name": "stderr",
     "output_type": "stream",
     "text": [
      "Processing Target Nodes (Test 38): 100%|██████████| 15/15 [02:07<00:00,  8.51s/it]\n"
     ]
    },
    {
     "name": "stdout",
     "output_type": "stream",
     "text": [
      "\n",
      "=== Processing Test 39: Train (2023-01-01 to 2023-06-30), Test (2023-07-01 to 2023-12-31) ===\n"
     ]
    },
    {
     "name": "stderr",
     "output_type": "stream",
     "text": [
      "Processing Target Nodes (Test 39): 100%|██████████| 14/14 [01:58<00:00,  8.47s/it]\n"
     ]
    },
    {
     "name": "stdout",
     "output_type": "stream",
     "text": [
      "\n",
      "=== Processing Test 40: Train (2023-07-01 to 2023-12-31), Test (2024-01-01 to 2024-06-30) ===\n"
     ]
    },
    {
     "name": "stderr",
     "output_type": "stream",
     "text": [
      "Processing Target Nodes (Test 40): 100%|██████████| 14/14 [01:59<00:00,  8.52s/it]\n"
     ]
    },
    {
     "name": "stdout",
     "output_type": "stream",
     "text": [
      "\n",
      "=== Processing Test 41: Train (2024-01-01 to 2024-06-30), Test (2024-07-01 to 2024-12-31) ===\n"
     ]
    },
    {
     "name": "stderr",
     "output_type": "stream",
     "text": [
      "Processing Target Nodes (Test 41): 100%|██████████| 14/14 [01:55<00:00,  8.22s/it]"
     ]
    },
    {
     "name": "stdout",
     "output_type": "stream",
     "text": [
      "\n",
      "Final Results with GAT Regression:\n"
     ]
    },
    {
     "name": "stderr",
     "output_type": "stream",
     "text": [
      "\n"
     ]
    },
    {
     "data": {
      "text/html": [
       "<div>\n",
       "<style scoped>\n",
       "    .dataframe tbody tr th:only-of-type {\n",
       "        vertical-align: middle;\n",
       "    }\n",
       "\n",
       "    .dataframe tbody tr th {\n",
       "        vertical-align: top;\n",
       "    }\n",
       "\n",
       "    .dataframe thead th {\n",
       "        text-align: right;\n",
       "    }\n",
       "</style>\n",
       "<table border=\"1\" class=\"dataframe\">\n",
       "  <thead>\n",
       "    <tr style=\"text-align: right;\">\n",
       "      <th></th>\n",
       "      <th>Test ID</th>\n",
       "      <th>Target Index</th>\n",
       "      <th>RMSE</th>\n",
       "      <th>RMAE</th>\n",
       "    </tr>\n",
       "  </thead>\n",
       "  <tbody>\n",
       "    <tr>\n",
       "      <th>0</th>\n",
       "      <td>1</td>\n",
       "      <td>Turkey BIST 100</td>\n",
       "      <td>0.014672</td>\n",
       "      <td>0.011611</td>\n",
       "    </tr>\n",
       "    <tr>\n",
       "      <th>1</th>\n",
       "      <td>1</td>\n",
       "      <td>Hang Seng</td>\n",
       "      <td>0.008098</td>\n",
       "      <td>0.006153</td>\n",
       "    </tr>\n",
       "    <tr>\n",
       "      <th>2</th>\n",
       "      <td>1</td>\n",
       "      <td>Straits Times</td>\n",
       "      <td>0.006407</td>\n",
       "      <td>0.005124</td>\n",
       "    </tr>\n",
       "    <tr>\n",
       "      <th>3</th>\n",
       "      <td>1</td>\n",
       "      <td>Mexican IPC</td>\n",
       "      <td>0.007635</td>\n",
       "      <td>0.006081</td>\n",
       "    </tr>\n",
       "    <tr>\n",
       "      <th>4</th>\n",
       "      <td>1</td>\n",
       "      <td>FTSE 100</td>\n",
       "      <td>0.006001</td>\n",
       "      <td>0.004696</td>\n",
       "    </tr>\n",
       "    <tr>\n",
       "      <th>...</th>\n",
       "      <td>...</td>\n",
       "      <td>...</td>\n",
       "      <td>...</td>\n",
       "      <td>...</td>\n",
       "    </tr>\n",
       "    <tr>\n",
       "      <th>598</th>\n",
       "      <td>41</td>\n",
       "      <td>DAX</td>\n",
       "      <td>0.008417</td>\n",
       "      <td>0.006737</td>\n",
       "    </tr>\n",
       "    <tr>\n",
       "      <th>599</th>\n",
       "      <td>41</td>\n",
       "      <td>Mexican IPC</td>\n",
       "      <td>0.008822</td>\n",
       "      <td>0.007031</td>\n",
       "    </tr>\n",
       "    <tr>\n",
       "      <th>600</th>\n",
       "      <td>41</td>\n",
       "      <td>IBEX 35</td>\n",
       "      <td>0.008479</td>\n",
       "      <td>0.006510</td>\n",
       "    </tr>\n",
       "    <tr>\n",
       "      <th>601</th>\n",
       "      <td>41</td>\n",
       "      <td>CAC 40</td>\n",
       "      <td>0.008795</td>\n",
       "      <td>0.006972</td>\n",
       "    </tr>\n",
       "    <tr>\n",
       "      <th>602</th>\n",
       "      <td>41</td>\n",
       "      <td>Bovespa</td>\n",
       "      <td>0.008522</td>\n",
       "      <td>0.006490</td>\n",
       "    </tr>\n",
       "  </tbody>\n",
       "</table>\n",
       "<p>603 rows × 4 columns</p>\n",
       "</div>"
      ],
      "text/plain": [
       "     Test ID     Target Index      RMSE      RMAE\n",
       "0          1  Turkey BIST 100  0.014672  0.011611\n",
       "1          1        Hang Seng  0.008098  0.006153\n",
       "2          1    Straits Times  0.006407  0.005124\n",
       "3          1      Mexican IPC  0.007635  0.006081\n",
       "4          1         FTSE 100  0.006001  0.004696\n",
       "..       ...              ...       ...       ...\n",
       "598       41              DAX  0.008417  0.006737\n",
       "599       41      Mexican IPC  0.008822  0.007031\n",
       "600       41          IBEX 35  0.008479  0.006510\n",
       "601       41           CAC 40  0.008795  0.006972\n",
       "602       41          Bovespa  0.008522  0.006490\n",
       "\n",
       "[603 rows x 4 columns]"
      ]
     },
     "execution_count": 21,
     "metadata": {},
     "output_type": "execute_result"
    }
   ],
   "source": [
    "class GAT(torch.nn.Module):\n",
    "    def __init__(self, num_features, hidden_dim1, hidden_dim2, embedding_dim, heads=1):\n",
    "        super(GAT, self).__init__()\n",
    "        self.conv1 = GATConv(num_features, hidden_dim1, heads=heads)\n",
    "        self.conv2 = GATConv(hidden_dim1 * heads, hidden_dim2, heads=heads)\n",
    "        self.conv3 = GATConv(hidden_dim2 * heads, embedding_dim, heads=heads, concat=False)\n",
    "        self.fc = torch.nn.Linear(embedding_dim, 1)  # Output a single value for regression\n",
    "\n",
    "    def forward(self, data):\n",
    "        x, edge_index = data.x, data.edge_index\n",
    "        x = self.conv1(x, edge_index)\n",
    "        x = F.elu(x)\n",
    "        x = self.conv2(x, edge_index)\n",
    "        x = F.elu(x)\n",
    "        x = self.conv3(x, edge_index)\n",
    "        x = self.fc(x)  # Linear layer for regression\n",
    "        return x.squeeze()  # Remove unnecessary dimensions\n",
    "\n",
    "\n",
    "# 결과 저장용 변수\n",
    "final_results = []\n",
    "\n",
    "# 고정된 하이퍼파라미터 설정\n",
    "hidden_dim1 = 64\n",
    "hidden_dim2 = 64\n",
    "embedding_dim = 32\n",
    "gat_heads = 4\n",
    "lr = 0.01\n",
    "\n",
    "# GAT 평가\n",
    "for test_id, (train_start, train_end, test_start, test_end) in enumerate(test_periods):\n",
    "    print(f\"\\n=== Processing Test {test_id + 1}: Train ({train_start} to {train_end}), Test ({test_start} to {test_end}) ===\")\n",
    "\n",
    "    # Train/Test 데이터 분리\n",
    "    train_data = returns.loc[train_start:train_end]\n",
    "    test_data = returns.loc[test_start:test_end]\n",
    "\n",
    "    # 그래프 생성 (Train 데이터 기준)\n",
    "    G = create_correlation_graph(train_data)\n",
    "    nodes_in_graph = list(G.nodes)\n",
    "    node_to_idx = {node: idx for idx, node in enumerate(nodes_in_graph)}\n",
    "    edge_index = torch.tensor(\n",
    "        [[node_to_idx[edge[0]], node_to_idx[edge[1]]] for edge in G.edges],\n",
    "        dtype=torch.long\n",
    "    ).t()\n",
    "\n",
    "    # Train/Test 데이터 준비\n",
    "    X_train, y_train_set = prepare_time_series_data(train_data[nodes_in_graph])\n",
    "    X_test, y_test_set = prepare_time_series_data(test_data[nodes_in_graph])\n",
    "\n",
    "    # GAT 모델 평가\n",
    "    for target_idx in tqdm(range(len(nodes_in_graph)), desc=f\"Processing Target Nodes (Test {test_id + 1})\"):\n",
    "        rmse_for_target = []\n",
    "        rmae_for_target = []\n",
    "\n",
    "        for _ in range(30):  # 30번 반복 실험\n",
    "            y_train = y_train_set[:, target_idx]\n",
    "            y_test = y_test_set[:, target_idx]\n",
    "\n",
    "            data_train = Data(\n",
    "                x=torch.tensor(X_train, dtype=torch.float32),\n",
    "                y=torch.tensor(y_train, dtype=torch.float32),\n",
    "                edge_index=edge_index\n",
    "            )\n",
    "            data_test = Data(\n",
    "                x=torch.tensor(X_test, dtype=torch.float32),\n",
    "                y=torch.tensor(y_test, dtype=torch.float32),\n",
    "                edge_index=edge_index\n",
    "            )\n",
    "\n",
    "            # Initialize GAT\n",
    "            model = GAT(\n",
    "                num_features=X_train.shape[1],\n",
    "                hidden_dim1=hidden_dim1,\n",
    "                hidden_dim2=hidden_dim2,\n",
    "                embedding_dim=embedding_dim,\n",
    "                heads=gat_heads\n",
    "            )\n",
    "            optimizer = torch.optim.Adam(model.parameters(), lr=lr, weight_decay=5e-4)\n",
    "            criterion = torch.nn.MSELoss()\n",
    "\n",
    "            # Train the model\n",
    "            model.train()\n",
    "            for epoch in range(100):  # 100 epoch로 학습\n",
    "                optimizer.zero_grad()\n",
    "                out = model(data_train)\n",
    "                loss = criterion(out, data_train.y)\n",
    "                loss.backward()\n",
    "                optimizer.step()\n",
    "\n",
    "            # Evaluate on Test Data\n",
    "            model.eval()\n",
    "            with torch.no_grad():\n",
    "                y_pred = model(data_test).cpu().numpy()\n",
    "                y_true = data_test.y.cpu().numpy()\n",
    "\n",
    "                rmse = np.sqrt(mean_squared_error(y_true, y_pred))\n",
    "                rmae = mean_absolute_error(y_true, y_pred)\n",
    "\n",
    "                rmse_for_target.append(rmse)\n",
    "                rmae_for_target.append(rmae)\n",
    "\n",
    "        # Aggregate results for this target\n",
    "        final_results.append({\n",
    "            'Test ID': test_id + 1,\n",
    "            'Target Index': nodes_in_graph[target_idx],\n",
    "            'RMSE': np.mean(rmse_for_target),\n",
    "            'RMAE': np.mean(rmae_for_target)\n",
    "        })\n",
    "\n",
    "# 결과를 DataFrame으로 정리\n",
    "gat_results = pd.DataFrame(final_results)\n",
    "\n",
    "# Display results\n",
    "print(\"\\nFinal Results with GAT Regression:\")\n",
    "gat_results\n"
   ]
  },
  {
   "cell_type": "markdown",
   "metadata": {},
   "source": [
    "### 6. 통계 검정"
   ]
  },
  {
   "cell_type": "markdown",
   "metadata": {},
   "source": [
    "#### 6.1. 모델별로 Accuracy와 F1 Score에 대해 기초통계량 추출"
   ]
  },
  {
   "cell_type": "code",
   "execution_count": 22,
   "metadata": {},
   "outputs": [],
   "source": [
    "# rf_results = results_df_rf_time_based\n",
    "# gbc_results = results_df_gbc_time_based\n",
    "# mlp_results = results_df_mlp_time_based\n",
    "# knn_results = results_df_knn_time_based\n",
    "# sv_results = results_df_svc_time_based\n",
    "# gcn_results = results_df_gcn_time_based\n",
    "# gat_results = results_df_gat_time_based"
   ]
  },
  {
   "cell_type": "code",
   "execution_count": 25,
   "metadata": {},
   "outputs": [
    {
     "data": {
      "text/html": [
       "<div>\n",
       "<style scoped>\n",
       "    .dataframe tbody tr th:only-of-type {\n",
       "        vertical-align: middle;\n",
       "    }\n",
       "\n",
       "    .dataframe tbody tr th {\n",
       "        vertical-align: top;\n",
       "    }\n",
       "\n",
       "    .dataframe thead th {\n",
       "        text-align: right;\n",
       "    }\n",
       "</style>\n",
       "<table border=\"1\" class=\"dataframe\">\n",
       "  <thead>\n",
       "    <tr style=\"text-align: right;\">\n",
       "      <th></th>\n",
       "      <th>Test ID</th>\n",
       "      <th>Model</th>\n",
       "      <th>Mean RMSE</th>\n",
       "      <th>RMSE Summary</th>\n",
       "      <th>Mean RMAE</th>\n",
       "      <th>RMAE Summary</th>\n",
       "    </tr>\n",
       "  </thead>\n",
       "  <tbody>\n",
       "    <tr>\n",
       "      <th>0</th>\n",
       "      <td>1</td>\n",
       "      <td>Random Forest</td>\n",
       "      <td>0.008907</td>\n",
       "      <td>0.0089±0.0032</td>\n",
       "      <td>0.007061</td>\n",
       "      <td>0.0071±0.0025</td>\n",
       "    </tr>\n",
       "    <tr>\n",
       "      <th>1</th>\n",
       "      <td>1</td>\n",
       "      <td>XGBoost</td>\n",
       "      <td>0.009779</td>\n",
       "      <td>0.0098±0.0035</td>\n",
       "      <td>0.007715</td>\n",
       "      <td>0.0077±0.0027</td>\n",
       "    </tr>\n",
       "    <tr>\n",
       "      <th>2</th>\n",
       "      <td>1</td>\n",
       "      <td>MLP</td>\n",
       "      <td>0.010148</td>\n",
       "      <td>0.0101±0.0028</td>\n",
       "      <td>0.008121</td>\n",
       "      <td>0.0081±0.0022</td>\n",
       "    </tr>\n",
       "    <tr>\n",
       "      <th>3</th>\n",
       "      <td>1</td>\n",
       "      <td>KNN</td>\n",
       "      <td>0.009753</td>\n",
       "      <td>0.0098±0.0033</td>\n",
       "      <td>0.007671</td>\n",
       "      <td>0.0077±0.0027</td>\n",
       "    </tr>\n",
       "    <tr>\n",
       "      <th>4</th>\n",
       "      <td>1</td>\n",
       "      <td>SVM</td>\n",
       "      <td>0.009988</td>\n",
       "      <td>0.0100±0.0028</td>\n",
       "      <td>0.008044</td>\n",
       "      <td>0.0080±0.0023</td>\n",
       "    </tr>\n",
       "    <tr>\n",
       "      <th>...</th>\n",
       "      <td>...</td>\n",
       "      <td>...</td>\n",
       "      <td>...</td>\n",
       "      <td>...</td>\n",
       "      <td>...</td>\n",
       "      <td>...</td>\n",
       "    </tr>\n",
       "    <tr>\n",
       "      <th>282</th>\n",
       "      <td>41</td>\n",
       "      <td>MLP</td>\n",
       "      <td>0.012188</td>\n",
       "      <td>0.0122±0.0031</td>\n",
       "      <td>0.009358</td>\n",
       "      <td>0.0094±0.0022</td>\n",
       "    </tr>\n",
       "    <tr>\n",
       "      <th>283</th>\n",
       "      <td>41</td>\n",
       "      <td>KNN</td>\n",
       "      <td>0.010823</td>\n",
       "      <td>0.0108±0.0040</td>\n",
       "      <td>0.008255</td>\n",
       "      <td>0.0083±0.0029</td>\n",
       "    </tr>\n",
       "    <tr>\n",
       "      <th>284</th>\n",
       "      <td>41</td>\n",
       "      <td>SVM</td>\n",
       "      <td>0.011298</td>\n",
       "      <td>0.0113±0.0045</td>\n",
       "      <td>0.008723</td>\n",
       "      <td>0.0087±0.0036</td>\n",
       "    </tr>\n",
       "    <tr>\n",
       "      <th>285</th>\n",
       "      <td>41</td>\n",
       "      <td>GCN</td>\n",
       "      <td>0.010022</td>\n",
       "      <td>0.0100±0.0035</td>\n",
       "      <td>0.007538</td>\n",
       "      <td>0.0075±0.0024</td>\n",
       "    </tr>\n",
       "    <tr>\n",
       "      <th>286</th>\n",
       "      <td>41</td>\n",
       "      <td>GAT</td>\n",
       "      <td>0.010019</td>\n",
       "      <td>0.0100±0.0035</td>\n",
       "      <td>0.007536</td>\n",
       "      <td>0.0075±0.0024</td>\n",
       "    </tr>\n",
       "  </tbody>\n",
       "</table>\n",
       "<p>287 rows × 6 columns</p>\n",
       "</div>"
      ],
      "text/plain": [
       "     Test ID          Model  Mean RMSE   RMSE Summary  Mean RMAE  \\\n",
       "0          1  Random Forest   0.008907  0.0089±0.0032   0.007061   \n",
       "1          1        XGBoost   0.009779  0.0098±0.0035   0.007715   \n",
       "2          1            MLP   0.010148  0.0101±0.0028   0.008121   \n",
       "3          1            KNN   0.009753  0.0098±0.0033   0.007671   \n",
       "4          1            SVM   0.009988  0.0100±0.0028   0.008044   \n",
       "..       ...            ...        ...            ...        ...   \n",
       "282       41            MLP   0.012188  0.0122±0.0031   0.009358   \n",
       "283       41            KNN   0.010823  0.0108±0.0040   0.008255   \n",
       "284       41            SVM   0.011298  0.0113±0.0045   0.008723   \n",
       "285       41            GCN   0.010022  0.0100±0.0035   0.007538   \n",
       "286       41            GAT   0.010019  0.0100±0.0035   0.007536   \n",
       "\n",
       "      RMAE Summary  \n",
       "0    0.0071±0.0025  \n",
       "1    0.0077±0.0027  \n",
       "2    0.0081±0.0022  \n",
       "3    0.0077±0.0027  \n",
       "4    0.0080±0.0023  \n",
       "..             ...  \n",
       "282  0.0094±0.0022  \n",
       "283  0.0083±0.0029  \n",
       "284  0.0087±0.0036  \n",
       "285  0.0075±0.0024  \n",
       "286  0.0075±0.0024  \n",
       "\n",
       "[287 rows x 6 columns]"
      ]
     },
     "execution_count": 25,
     "metadata": {},
     "output_type": "execute_result"
    }
   ],
   "source": [
    "# Function to calculate statistics for a single model and test_id\n",
    "def calculate_statistics(model_name, results_df):\n",
    "    rmse_values = results_df['RMSE']\n",
    "    rmae_values = results_df['RMAE']\n",
    "\n",
    "    # Calculate mean and standard deviation\n",
    "    rmse_mean = np.mean(rmse_values)\n",
    "    rmse_std = np.std(rmse_values, ddof=1)\n",
    "    rmae_mean = np.mean(rmae_values)\n",
    "    rmae_std = np.std(rmae_values, ddof=1)\n",
    "\n",
    "    # Combine mean and std into one string\n",
    "    rmse_summary = f\"{rmse_mean:.4f}±{rmse_std:.4f}\"\n",
    "    rmae_summary = f\"{rmae_mean:.4f}±{rmae_std:.4f}\"\n",
    "\n",
    "    return {\n",
    "        \"Model\": model_name,\n",
    "        \"Mean RMSE\": rmse_mean,\n",
    "        \"RMSE Summary\": rmse_summary,\n",
    "        \"Mean RMAE\": rmae_mean,\n",
    "        \"RMAE Summary\": rmae_summary\n",
    "    }\n",
    "\n",
    "# Ensure models list contains DataFrames\n",
    "models = [\n",
    "    (\"Random Forest\", rf_results),\n",
    "    (\"XGBoost\", gbc_results),\n",
    "    (\"MLP\", mlp_results),\n",
    "    (\"KNN\", knn_results),\n",
    "    (\"SVM\", svr_results),\n",
    "    (\"GCN\", gcn_results),\n",
    "    (\"GAT\", gat_results)\n",
    "]\n",
    "\n",
    "# Initialize empty list to hold all results\n",
    "all_test_results = []\n",
    "\n",
    "# Iterate over all test_ids\n",
    "for test_id in range(1, 42):  # Assuming test IDs range from 1 to 41\n",
    "    test_results = []\n",
    "    for model_name, results_df in models:\n",
    "        # Ensure results_df is a DataFrame\n",
    "        if not isinstance(results_df, pd.DataFrame):\n",
    "            raise TypeError(f\"Results for {model_name} must be a DataFrame, got {type(results_df)}\")\n",
    "\n",
    "        # Filter results for the current test_id\n",
    "        test_df = results_df[results_df['Test ID'] == test_id]\n",
    "        \n",
    "        # Calculate statistics and append\n",
    "        stats = calculate_statistics(model_name, test_df)\n",
    "        stats[\"Test ID\"] = test_id  # Add test_id to the stats dictionary\n",
    "        test_results.append(stats)\n",
    "\n",
    "    # Append all stats for the current test_id to the final results\n",
    "    all_test_results.extend(test_results)\n",
    "\n",
    "# Convert to a DataFrame\n",
    "final_stats_df = pd.DataFrame(all_test_results)\n",
    "\n",
    "# Display the combined DataFrame\n",
    "final_stats_df = final_stats_df[['Test ID', 'Model', 'Mean RMSE', 'RMSE Summary', 'Mean RMAE', 'RMAE Summary']]\n",
    "\n",
    "# Save to CSV for later analysis\n",
    "final_stats_df.to_csv(\"reg_model_statistics_summary.csv\", index=False)\n",
    "final_stats_df\n"
   ]
  },
  {
   "cell_type": "markdown",
   "metadata": {},
   "source": [
    "#### 6.2. GCN과 Benchmark Accuracy 성능 비교"
   ]
  },
  {
   "cell_type": "markdown",
   "metadata": {},
   "source": [
    "##### 6.2.1. RMSE"
   ]
  },
  {
   "cell_type": "code",
   "execution_count": 29,
   "metadata": {},
   "outputs": [
    {
     "name": "stdout",
     "output_type": "stream",
     "text": [
      "T-Test Results Across All Test Periods:\n"
     ]
    },
    {
     "data": {
      "text/html": [
       "<div>\n",
       "<style scoped>\n",
       "    .dataframe tbody tr th:only-of-type {\n",
       "        vertical-align: middle;\n",
       "    }\n",
       "\n",
       "    .dataframe tbody tr th {\n",
       "        vertical-align: top;\n",
       "    }\n",
       "\n",
       "    .dataframe thead th {\n",
       "        text-align: right;\n",
       "    }\n",
       "</style>\n",
       "<table border=\"1\" class=\"dataframe\">\n",
       "  <thead>\n",
       "    <tr style=\"text-align: right;\">\n",
       "      <th></th>\n",
       "      <th>Test ID</th>\n",
       "      <th>Comparison Model</th>\n",
       "      <th>T-Statistic</th>\n",
       "      <th>Significance (10%)</th>\n",
       "      <th>Significance (5%)</th>\n",
       "      <th>Significance (1%)</th>\n",
       "      <th>P-Value (One-Sided)</th>\n",
       "    </tr>\n",
       "  </thead>\n",
       "  <tbody>\n",
       "    <tr>\n",
       "      <th>0</th>\n",
       "      <td>1</td>\n",
       "      <td>RF</td>\n",
       "      <td>0.267122</td>\n",
       "      <td>False</td>\n",
       "      <td>False</td>\n",
       "      <td>False</td>\n",
       "      <td>0.395686</td>\n",
       "    </tr>\n",
       "    <tr>\n",
       "      <th>1</th>\n",
       "      <td>1</td>\n",
       "      <td>XGB</td>\n",
       "      <td>1.005736</td>\n",
       "      <td>False</td>\n",
       "      <td>False</td>\n",
       "      <td>False</td>\n",
       "      <td>0.161854</td>\n",
       "    </tr>\n",
       "    <tr>\n",
       "      <th>2</th>\n",
       "      <td>1</td>\n",
       "      <td>MLP</td>\n",
       "      <td>1.522545</td>\n",
       "      <td>True</td>\n",
       "      <td>False</td>\n",
       "      <td>False</td>\n",
       "      <td>0.069546</td>\n",
       "    </tr>\n",
       "    <tr>\n",
       "      <th>3</th>\n",
       "      <td>1</td>\n",
       "      <td>KNN</td>\n",
       "      <td>1.017248</td>\n",
       "      <td>False</td>\n",
       "      <td>False</td>\n",
       "      <td>False</td>\n",
       "      <td>0.159049</td>\n",
       "    </tr>\n",
       "    <tr>\n",
       "      <th>4</th>\n",
       "      <td>1</td>\n",
       "      <td>SVM</td>\n",
       "      <td>1.365394</td>\n",
       "      <td>True</td>\n",
       "      <td>False</td>\n",
       "      <td>False</td>\n",
       "      <td>0.091501</td>\n",
       "    </tr>\n",
       "    <tr>\n",
       "      <th>...</th>\n",
       "      <td>...</td>\n",
       "      <td>...</td>\n",
       "      <td>...</td>\n",
       "      <td>...</td>\n",
       "      <td>...</td>\n",
       "      <td>...</td>\n",
       "      <td>...</td>\n",
       "    </tr>\n",
       "    <tr>\n",
       "      <th>200</th>\n",
       "      <td>41</td>\n",
       "      <td>RF</td>\n",
       "      <td>0.255652</td>\n",
       "      <td>False</td>\n",
       "      <td>False</td>\n",
       "      <td>False</td>\n",
       "      <td>0.400117</td>\n",
       "    </tr>\n",
       "    <tr>\n",
       "      <th>201</th>\n",
       "      <td>41</td>\n",
       "      <td>XGB</td>\n",
       "      <td>0.897497</td>\n",
       "      <td>False</td>\n",
       "      <td>False</td>\n",
       "      <td>False</td>\n",
       "      <td>0.188878</td>\n",
       "    </tr>\n",
       "    <tr>\n",
       "      <th>202</th>\n",
       "      <td>41</td>\n",
       "      <td>MLP</td>\n",
       "      <td>1.735267</td>\n",
       "      <td>True</td>\n",
       "      <td>True</td>\n",
       "      <td>False</td>\n",
       "      <td>0.047330</td>\n",
       "    </tr>\n",
       "    <tr>\n",
       "      <th>203</th>\n",
       "      <td>41</td>\n",
       "      <td>KNN</td>\n",
       "      <td>0.567363</td>\n",
       "      <td>False</td>\n",
       "      <td>False</td>\n",
       "      <td>False</td>\n",
       "      <td>0.287713</td>\n",
       "    </tr>\n",
       "    <tr>\n",
       "      <th>204</th>\n",
       "      <td>41</td>\n",
       "      <td>SVM</td>\n",
       "      <td>0.843238</td>\n",
       "      <td>False</td>\n",
       "      <td>False</td>\n",
       "      <td>False</td>\n",
       "      <td>0.203631</td>\n",
       "    </tr>\n",
       "  </tbody>\n",
       "</table>\n",
       "<p>205 rows × 7 columns</p>\n",
       "</div>"
      ],
      "text/plain": [
       "     Test ID Comparison Model  T-Statistic  Significance (10%)  \\\n",
       "0          1               RF     0.267122               False   \n",
       "1          1              XGB     1.005736               False   \n",
       "2          1              MLP     1.522545                True   \n",
       "3          1              KNN     1.017248               False   \n",
       "4          1              SVM     1.365394                True   \n",
       "..       ...              ...          ...                 ...   \n",
       "200       41               RF     0.255652               False   \n",
       "201       41              XGB     0.897497               False   \n",
       "202       41              MLP     1.735267                True   \n",
       "203       41              KNN     0.567363               False   \n",
       "204       41              SVM     0.843238               False   \n",
       "\n",
       "     Significance (5%)  Significance (1%)  P-Value (One-Sided)  \n",
       "0                False              False             0.395686  \n",
       "1                False              False             0.161854  \n",
       "2                False              False             0.069546  \n",
       "3                False              False             0.159049  \n",
       "4                False              False             0.091501  \n",
       "..                 ...                ...                  ...  \n",
       "200              False              False             0.400117  \n",
       "201              False              False             0.188878  \n",
       "202               True              False             0.047330  \n",
       "203              False              False             0.287713  \n",
       "204              False              False             0.203631  \n",
       "\n",
       "[205 rows x 7 columns]"
      ]
     },
     "execution_count": 29,
     "metadata": {},
     "output_type": "execute_result"
    }
   ],
   "source": [
    "# Initialize final results list\n",
    "final_ttest_results = []\n",
    "\n",
    "# Loop over all test IDs\n",
    "for test_id in range(1, 42):  # Assuming test IDs range from 1 to 41\n",
    "    # Filter data for the current test ID\n",
    "    rf_rmse_test = rf_results[rf_results['Test ID'] == test_id]['RMSE']\n",
    "    gbc_rmse_test = gbc_results[gbc_results['Test ID'] == test_id]['RMSE']\n",
    "    mlp_rmse_test = mlp_results[mlp_results['Test ID'] == test_id]['RMSE']\n",
    "    knn_rmse_test = knn_results[knn_results['Test ID'] == test_id]['RMSE']\n",
    "    svr_rmse_test = svr_results[svr_results['Test ID'] == test_id]['RMSE']\n",
    "    gcn_rmse_test = gcn_results[gcn_results['Test ID'] == test_id]['RMSE']\n",
    "\n",
    "    # Combine RMSEs into a single DataFrame for easier processing\n",
    "    rmse_stats = pd.concat(\n",
    "        [rf_rmse_test, gbc_rmse_test, mlp_rmse_test, knn_rmse_test, svr_rmse_test, gcn_rmse_test],\n",
    "        axis=1,\n",
    "        ignore_index=True\n",
    "    )\n",
    "    rmse_stats.columns = ['RF', 'XGB', 'MLP', 'KNN', 'SVM', 'GCN']\n",
    "\n",
    "    # Extract GCN column\n",
    "    gcn_values = rmse_stats['GCN']\n",
    "\n",
    "    # Perform t-tests comparing GCN with each of the other models\n",
    "    t_test_results = []\n",
    "    models = ['RF', 'XGB', 'MLP', 'KNN', 'SVM']\n",
    "\n",
    "    for model in models:\n",
    "        other_values = rmse_stats[model]\n",
    "\n",
    "        # Perform t-test (양측 검정)\n",
    "        t_stat, p_value_two_sided = ttest_ind(other_values, gcn_values, equal_var=False)\n",
    "\n",
    "        # 단측 검정으로 p-value 변환 (GCN이 RMSE가 작다는 방향으로 가정)\n",
    "        p_value_one_sided = p_value_two_sided / 2 if t_stat > 0 else 1 - (p_value_two_sided / 2)\n",
    "\n",
    "        # Store results\n",
    "        t_test_results.append({\n",
    "            'Test ID': test_id,\n",
    "            'Comparison Model': model,\n",
    "            'T-Statistic': t_stat,\n",
    "            'Significance (10%)': p_value_one_sided < 0.1,\n",
    "            'Significance (5%)': p_value_one_sided < 0.05,\n",
    "            'Significance (1%)': p_value_one_sided < 0.01,\n",
    "            'P-Value (One-Sided)': p_value_one_sided\n",
    "        })\n",
    "\n",
    "    # Append t-test results for this test ID\n",
    "    final_ttest_results.extend(t_test_results)\n",
    "\n",
    "# Convert final results to a DataFrame\n",
    "final_gcn_rmse_ttest_results_df = pd.DataFrame(final_ttest_results)\n",
    "\n",
    "# Save to CSV for later analysis\n",
    "final_gcn_rmse_ttest_results_df.to_csv(\"reg_gcn_rmse_ttest_results.csv\", index=False)\n",
    "\n",
    "# Display the final results\n",
    "print(\"T-Test Results Across All Test Periods:\")\n",
    "final_gcn_rmse_ttest_results_df"
   ]
  },
  {
   "cell_type": "markdown",
   "metadata": {},
   "source": [
    "##### 6.2.2. RMAE"
   ]
  },
  {
   "cell_type": "code",
   "execution_count": 31,
   "metadata": {},
   "outputs": [
    {
     "name": "stdout",
     "output_type": "stream",
     "text": [
      "T-Test Results Across All Test Periods (RMAE):\n"
     ]
    },
    {
     "data": {
      "text/html": [
       "<div>\n",
       "<style scoped>\n",
       "    .dataframe tbody tr th:only-of-type {\n",
       "        vertical-align: middle;\n",
       "    }\n",
       "\n",
       "    .dataframe tbody tr th {\n",
       "        vertical-align: top;\n",
       "    }\n",
       "\n",
       "    .dataframe thead th {\n",
       "        text-align: right;\n",
       "    }\n",
       "</style>\n",
       "<table border=\"1\" class=\"dataframe\">\n",
       "  <thead>\n",
       "    <tr style=\"text-align: right;\">\n",
       "      <th></th>\n",
       "      <th>Test ID</th>\n",
       "      <th>Comparison Model</th>\n",
       "      <th>T-Statistic</th>\n",
       "      <th>Significance (10%)</th>\n",
       "      <th>Significance (5%)</th>\n",
       "      <th>Significance (1%)</th>\n",
       "      <th>P-Value (One-Sided)</th>\n",
       "    </tr>\n",
       "  </thead>\n",
       "  <tbody>\n",
       "    <tr>\n",
       "      <th>0</th>\n",
       "      <td>1</td>\n",
       "      <td>RF</td>\n",
       "      <td>0.397990</td>\n",
       "      <td>False</td>\n",
       "      <td>False</td>\n",
       "      <td>False</td>\n",
       "      <td>0.346857</td>\n",
       "    </tr>\n",
       "    <tr>\n",
       "      <th>1</th>\n",
       "      <td>1</td>\n",
       "      <td>XGB</td>\n",
       "      <td>1.107216</td>\n",
       "      <td>False</td>\n",
       "      <td>False</td>\n",
       "      <td>False</td>\n",
       "      <td>0.139019</td>\n",
       "    </tr>\n",
       "    <tr>\n",
       "      <th>2</th>\n",
       "      <td>1</td>\n",
       "      <td>MLP</td>\n",
       "      <td>1.737736</td>\n",
       "      <td>True</td>\n",
       "      <td>True</td>\n",
       "      <td>False</td>\n",
       "      <td>0.046625</td>\n",
       "    </tr>\n",
       "    <tr>\n",
       "      <th>3</th>\n",
       "      <td>1</td>\n",
       "      <td>KNN</td>\n",
       "      <td>1.070953</td>\n",
       "      <td>False</td>\n",
       "      <td>False</td>\n",
       "      <td>False</td>\n",
       "      <td>0.146835</td>\n",
       "    </tr>\n",
       "    <tr>\n",
       "      <th>4</th>\n",
       "      <td>1</td>\n",
       "      <td>SVM</td>\n",
       "      <td>1.601321</td>\n",
       "      <td>True</td>\n",
       "      <td>False</td>\n",
       "      <td>False</td>\n",
       "      <td>0.060290</td>\n",
       "    </tr>\n",
       "    <tr>\n",
       "      <th>...</th>\n",
       "      <td>...</td>\n",
       "      <td>...</td>\n",
       "      <td>...</td>\n",
       "      <td>...</td>\n",
       "      <td>...</td>\n",
       "      <td>...</td>\n",
       "      <td>...</td>\n",
       "    </tr>\n",
       "    <tr>\n",
       "      <th>200</th>\n",
       "      <td>41</td>\n",
       "      <td>RF</td>\n",
       "      <td>0.291998</td>\n",
       "      <td>False</td>\n",
       "      <td>False</td>\n",
       "      <td>False</td>\n",
       "      <td>0.386304</td>\n",
       "    </tr>\n",
       "    <tr>\n",
       "      <th>201</th>\n",
       "      <td>41</td>\n",
       "      <td>XGB</td>\n",
       "      <td>1.011017</td>\n",
       "      <td>False</td>\n",
       "      <td>False</td>\n",
       "      <td>False</td>\n",
       "      <td>0.160727</td>\n",
       "    </tr>\n",
       "    <tr>\n",
       "      <th>202</th>\n",
       "      <td>41</td>\n",
       "      <td>MLP</td>\n",
       "      <td>2.064607</td>\n",
       "      <td>True</td>\n",
       "      <td>True</td>\n",
       "      <td>False</td>\n",
       "      <td>0.024571</td>\n",
       "    </tr>\n",
       "    <tr>\n",
       "      <th>203</th>\n",
       "      <td>41</td>\n",
       "      <td>KNN</td>\n",
       "      <td>0.710009</td>\n",
       "      <td>False</td>\n",
       "      <td>False</td>\n",
       "      <td>False</td>\n",
       "      <td>0.242103</td>\n",
       "    </tr>\n",
       "    <tr>\n",
       "      <th>204</th>\n",
       "      <td>41</td>\n",
       "      <td>SVM</td>\n",
       "      <td>1.021052</td>\n",
       "      <td>False</td>\n",
       "      <td>False</td>\n",
       "      <td>False</td>\n",
       "      <td>0.158970</td>\n",
       "    </tr>\n",
       "  </tbody>\n",
       "</table>\n",
       "<p>205 rows × 7 columns</p>\n",
       "</div>"
      ],
      "text/plain": [
       "     Test ID Comparison Model  T-Statistic  Significance (10%)  \\\n",
       "0          1               RF     0.397990               False   \n",
       "1          1              XGB     1.107216               False   \n",
       "2          1              MLP     1.737736                True   \n",
       "3          1              KNN     1.070953               False   \n",
       "4          1              SVM     1.601321                True   \n",
       "..       ...              ...          ...                 ...   \n",
       "200       41               RF     0.291998               False   \n",
       "201       41              XGB     1.011017               False   \n",
       "202       41              MLP     2.064607                True   \n",
       "203       41              KNN     0.710009               False   \n",
       "204       41              SVM     1.021052               False   \n",
       "\n",
       "     Significance (5%)  Significance (1%)  P-Value (One-Sided)  \n",
       "0                False              False             0.346857  \n",
       "1                False              False             0.139019  \n",
       "2                 True              False             0.046625  \n",
       "3                False              False             0.146835  \n",
       "4                False              False             0.060290  \n",
       "..                 ...                ...                  ...  \n",
       "200              False              False             0.386304  \n",
       "201              False              False             0.160727  \n",
       "202               True              False             0.024571  \n",
       "203              False              False             0.242103  \n",
       "204              False              False             0.158970  \n",
       "\n",
       "[205 rows x 7 columns]"
      ]
     },
     "execution_count": 31,
     "metadata": {},
     "output_type": "execute_result"
    }
   ],
   "source": [
    "from scipy.stats import ttest_ind\n",
    "\n",
    "# Initialize final results list\n",
    "final_ttest_results = []\n",
    "\n",
    "# Loop over all test IDs\n",
    "for test_id in range(1, 42):  # Assuming test IDs range from 1 to 41\n",
    "    # Filter data for the current test ID\n",
    "    rf_rmae_test = rf_results[rf_results['Test ID'] == test_id]['RMAE']\n",
    "    gbc_rmae_test = gbc_results[gbc_results['Test ID'] == test_id]['RMAE']\n",
    "    mlp_rmae_test = mlp_results[mlp_results['Test ID'] == test_id]['RMAE']\n",
    "    knn_rmae_test = knn_results[knn_results['Test ID'] == test_id]['RMAE']\n",
    "    svr_rmae_test = svr_results[svr_results['Test ID'] == test_id]['RMAE']\n",
    "    gcn_rmae_test = gcn_results[gcn_results['Test ID'] == test_id]['RMAE']\n",
    "\n",
    "    # Combine RMAEs into a single DataFrame for easier processing\n",
    "    rmae_stats = pd.concat(\n",
    "        [rf_rmae_test, gbc_rmae_test, mlp_rmae_test, knn_rmae_test, svr_rmae_test, gcn_rmae_test],\n",
    "        axis=1,\n",
    "        ignore_index=True\n",
    "    )\n",
    "    rmae_stats.columns = ['RF', 'XGB', 'MLP', 'KNN', 'SVM', 'GCN']\n",
    "\n",
    "    # Extract GCN column\n",
    "    gcn_values = rmae_stats['GCN']\n",
    "\n",
    "    # Perform t-tests comparing GCN with each of the other models\n",
    "    t_test_results = []\n",
    "    models = ['RF', 'XGB', 'MLP', 'KNN', 'SVM']\n",
    "\n",
    "    for model in models:\n",
    "        other_values = rmae_stats[model]\n",
    "\n",
    "        # Perform t-test (양측 검정)\n",
    "        t_stat, p_value_two_sided = ttest_ind(other_values, gcn_values, equal_var=False)\n",
    "\n",
    "        # 단측 검정으로 p-value 변환 (GCN이 RMAE가 작다는 방향으로 가정)\n",
    "        p_value_one_sided = p_value_two_sided / 2 if t_stat > 0 else 1 - (p_value_two_sided / 2)\n",
    "\n",
    "        # Store results\n",
    "        t_test_results.append({\n",
    "            'Test ID': test_id,\n",
    "            'Comparison Model': model,\n",
    "            'T-Statistic': t_stat,\n",
    "            'Significance (10%)': p_value_one_sided < 0.1,\n",
    "            'Significance (5%)': p_value_one_sided < 0.05,\n",
    "            'Significance (1%)': p_value_one_sided < 0.01,\n",
    "            'P-Value (One-Sided)': p_value_one_sided\n",
    "        })\n",
    "\n",
    "    # Append t-test results for this test ID\n",
    "    final_ttest_results.extend(t_test_results)\n",
    "\n",
    "# Convert final results to a DataFrame\n",
    "final_gcn_rmae_ttest_results_df = pd.DataFrame(final_ttest_results)\n",
    "\n",
    "# Save to CSV for later analysis\n",
    "final_gcn_rmae_ttest_results_df.to_csv(\"reg_gcn_rmae_ttest_results.csv\", index=False)\n",
    "\n",
    "# Display the final results\n",
    "print(\"T-Test Results Across All Test Periods (RMAE):\")\n",
    "final_gcn_rmae_ttest_results_df"
   ]
  },
  {
   "cell_type": "markdown",
   "metadata": {},
   "source": [
    "#### 6.3. GAT와 Benchmark Accuracy 성능 비교"
   ]
  },
  {
   "cell_type": "markdown",
   "metadata": {},
   "source": [
    "##### 6.3.1. RMSE"
   ]
  },
  {
   "cell_type": "code",
   "execution_count": 32,
   "metadata": {},
   "outputs": [
    {
     "name": "stdout",
     "output_type": "stream",
     "text": [
      "T-Test Results Across All Test Periods:\n"
     ]
    },
    {
     "data": {
      "text/html": [
       "<div>\n",
       "<style scoped>\n",
       "    .dataframe tbody tr th:only-of-type {\n",
       "        vertical-align: middle;\n",
       "    }\n",
       "\n",
       "    .dataframe tbody tr th {\n",
       "        vertical-align: top;\n",
       "    }\n",
       "\n",
       "    .dataframe thead th {\n",
       "        text-align: right;\n",
       "    }\n",
       "</style>\n",
       "<table border=\"1\" class=\"dataframe\">\n",
       "  <thead>\n",
       "    <tr style=\"text-align: right;\">\n",
       "      <th></th>\n",
       "      <th>Test ID</th>\n",
       "      <th>Comparison Model</th>\n",
       "      <th>T-Statistic</th>\n",
       "      <th>Significance (10%)</th>\n",
       "      <th>Significance (5%)</th>\n",
       "      <th>Significance (1%)</th>\n",
       "      <th>P-Value (One-Sided)</th>\n",
       "    </tr>\n",
       "  </thead>\n",
       "  <tbody>\n",
       "    <tr>\n",
       "      <th>0</th>\n",
       "      <td>1</td>\n",
       "      <td>RF</td>\n",
       "      <td>0.278628</td>\n",
       "      <td>False</td>\n",
       "      <td>False</td>\n",
       "      <td>False</td>\n",
       "      <td>0.391309</td>\n",
       "    </tr>\n",
       "    <tr>\n",
       "      <th>1</th>\n",
       "      <td>1</td>\n",
       "      <td>XGB</td>\n",
       "      <td>1.015954</td>\n",
       "      <td>False</td>\n",
       "      <td>False</td>\n",
       "      <td>False</td>\n",
       "      <td>0.159451</td>\n",
       "    </tr>\n",
       "    <tr>\n",
       "      <th>2</th>\n",
       "      <td>1</td>\n",
       "      <td>MLP</td>\n",
       "      <td>1.533658</td>\n",
       "      <td>True</td>\n",
       "      <td>False</td>\n",
       "      <td>False</td>\n",
       "      <td>0.068170</td>\n",
       "    </tr>\n",
       "    <tr>\n",
       "      <th>3</th>\n",
       "      <td>1</td>\n",
       "      <td>KNN</td>\n",
       "      <td>1.027783</td>\n",
       "      <td>False</td>\n",
       "      <td>False</td>\n",
       "      <td>False</td>\n",
       "      <td>0.156600</td>\n",
       "    </tr>\n",
       "    <tr>\n",
       "      <th>4</th>\n",
       "      <td>1</td>\n",
       "      <td>SVM</td>\n",
       "      <td>1.376674</td>\n",
       "      <td>True</td>\n",
       "      <td>False</td>\n",
       "      <td>False</td>\n",
       "      <td>0.089762</td>\n",
       "    </tr>\n",
       "    <tr>\n",
       "      <th>...</th>\n",
       "      <td>...</td>\n",
       "      <td>...</td>\n",
       "      <td>...</td>\n",
       "      <td>...</td>\n",
       "      <td>...</td>\n",
       "      <td>...</td>\n",
       "      <td>...</td>\n",
       "    </tr>\n",
       "    <tr>\n",
       "      <th>200</th>\n",
       "      <td>41</td>\n",
       "      <td>RF</td>\n",
       "      <td>0.258153</td>\n",
       "      <td>False</td>\n",
       "      <td>False</td>\n",
       "      <td>False</td>\n",
       "      <td>0.399162</td>\n",
       "    </tr>\n",
       "    <tr>\n",
       "      <th>201</th>\n",
       "      <td>41</td>\n",
       "      <td>XGB</td>\n",
       "      <td>0.899501</td>\n",
       "      <td>False</td>\n",
       "      <td>False</td>\n",
       "      <td>False</td>\n",
       "      <td>0.188353</td>\n",
       "    </tr>\n",
       "    <tr>\n",
       "      <th>202</th>\n",
       "      <td>41</td>\n",
       "      <td>MLP</td>\n",
       "      <td>1.736720</td>\n",
       "      <td>True</td>\n",
       "      <td>True</td>\n",
       "      <td>False</td>\n",
       "      <td>0.047201</td>\n",
       "    </tr>\n",
       "    <tr>\n",
       "      <th>203</th>\n",
       "      <td>41</td>\n",
       "      <td>KNN</td>\n",
       "      <td>0.569541</td>\n",
       "      <td>False</td>\n",
       "      <td>False</td>\n",
       "      <td>False</td>\n",
       "      <td>0.286984</td>\n",
       "    </tr>\n",
       "    <tr>\n",
       "      <th>204</th>\n",
       "      <td>41</td>\n",
       "      <td>SVM</td>\n",
       "      <td>0.845139</td>\n",
       "      <td>False</td>\n",
       "      <td>False</td>\n",
       "      <td>False</td>\n",
       "      <td>0.203107</td>\n",
       "    </tr>\n",
       "  </tbody>\n",
       "</table>\n",
       "<p>205 rows × 7 columns</p>\n",
       "</div>"
      ],
      "text/plain": [
       "     Test ID Comparison Model  T-Statistic  Significance (10%)  \\\n",
       "0          1               RF     0.278628               False   \n",
       "1          1              XGB     1.015954               False   \n",
       "2          1              MLP     1.533658                True   \n",
       "3          1              KNN     1.027783               False   \n",
       "4          1              SVM     1.376674                True   \n",
       "..       ...              ...          ...                 ...   \n",
       "200       41               RF     0.258153               False   \n",
       "201       41              XGB     0.899501               False   \n",
       "202       41              MLP     1.736720                True   \n",
       "203       41              KNN     0.569541               False   \n",
       "204       41              SVM     0.845139               False   \n",
       "\n",
       "     Significance (5%)  Significance (1%)  P-Value (One-Sided)  \n",
       "0                False              False             0.391309  \n",
       "1                False              False             0.159451  \n",
       "2                False              False             0.068170  \n",
       "3                False              False             0.156600  \n",
       "4                False              False             0.089762  \n",
       "..                 ...                ...                  ...  \n",
       "200              False              False             0.399162  \n",
       "201              False              False             0.188353  \n",
       "202               True              False             0.047201  \n",
       "203              False              False             0.286984  \n",
       "204              False              False             0.203107  \n",
       "\n",
       "[205 rows x 7 columns]"
      ]
     },
     "execution_count": 32,
     "metadata": {},
     "output_type": "execute_result"
    }
   ],
   "source": [
    "# Initialize final results list\n",
    "final_ttest_results = []\n",
    "\n",
    "# Loop over all test IDs\n",
    "for test_id in range(1, 42):  # Assuming test IDs range from 1 to 41\n",
    "    # Filter data for the current test ID\n",
    "    rf_rmse_test = rf_results[rf_results['Test ID'] == test_id]['RMSE']\n",
    "    gbc_rmse_test = gbc_results[gbc_results['Test ID'] == test_id]['RMSE']\n",
    "    mlp_rmse_test = mlp_results[mlp_results['Test ID'] == test_id]['RMSE']\n",
    "    knn_rmse_test = knn_results[knn_results['Test ID'] == test_id]['RMSE']\n",
    "    svr_rmse_test = svr_results[svr_results['Test ID'] == test_id]['RMSE']\n",
    "    gat_rmse_test = gat_results[gat_results['Test ID'] == test_id]['RMSE']\n",
    "\n",
    "    # Combine RMSEs into a single DataFrame for easier processing\n",
    "    rmse_stats = pd.concat(\n",
    "        [rf_rmse_test, gbc_rmse_test, mlp_rmse_test, knn_rmse_test, svr_rmse_test, gat_rmse_test],\n",
    "        axis=1,\n",
    "        ignore_index=True\n",
    "    )\n",
    "    rmse_stats.columns = ['RF', 'XGB', 'MLP', 'KNN', 'SVM', 'GAT']\n",
    "\n",
    "    # Extract GCN column\n",
    "    gat_values = rmse_stats['GAT']\n",
    "\n",
    "    # Perform t-tests comparing GCN with each of the other models\n",
    "    t_test_results = []\n",
    "    models = ['RF', 'XGB', 'MLP', 'KNN', 'SVM']\n",
    "\n",
    "    for model in models:\n",
    "        other_values = rmse_stats[model]\n",
    "\n",
    "        # Perform t-test (양측 검정)\n",
    "        t_stat, p_value_two_sided = ttest_ind(other_values, gat_values, equal_var=False)\n",
    "\n",
    "        # 단측 검정으로 p-value 변환 (GCN이 RMSE가 작다는 방향으로 가정)\n",
    "        p_value_one_sided = p_value_two_sided / 2 if t_stat > 0 else 1 - (p_value_two_sided / 2)\n",
    "\n",
    "        # Store results\n",
    "        t_test_results.append({\n",
    "            'Test ID': test_id,\n",
    "            'Comparison Model': model,\n",
    "            'T-Statistic': t_stat,\n",
    "            'Significance (10%)': p_value_one_sided < 0.1,\n",
    "            'Significance (5%)': p_value_one_sided < 0.05,\n",
    "            'Significance (1%)': p_value_one_sided < 0.01,\n",
    "            'P-Value (One-Sided)': p_value_one_sided\n",
    "        })\n",
    "\n",
    "    # Append t-test results for this test ID\n",
    "    final_ttest_results.extend(t_test_results)\n",
    "\n",
    "# Convert final results to a DataFrame\n",
    "final_gat_rmse_ttest_results_df = pd.DataFrame(final_ttest_results)\n",
    "\n",
    "# Save to CSV for later analysis\n",
    "final_gat_rmse_ttest_results_df.to_csv(\"reg_gat_rmse_ttest_results.csv\", index=False)\n",
    "\n",
    "# Display the final results\n",
    "print(\"T-Test Results Across All Test Periods:\")\n",
    "final_gat_rmse_ttest_results_df"
   ]
  },
  {
   "cell_type": "markdown",
   "metadata": {},
   "source": [
    "##### 6.3.2. RMAE"
   ]
  },
  {
   "cell_type": "code",
   "execution_count": 33,
   "metadata": {},
   "outputs": [
    {
     "name": "stdout",
     "output_type": "stream",
     "text": [
      "T-Test Results Across All Test Periods (RMAE):\n"
     ]
    },
    {
     "data": {
      "text/html": [
       "<div>\n",
       "<style scoped>\n",
       "    .dataframe tbody tr th:only-of-type {\n",
       "        vertical-align: middle;\n",
       "    }\n",
       "\n",
       "    .dataframe tbody tr th {\n",
       "        vertical-align: top;\n",
       "    }\n",
       "\n",
       "    .dataframe thead th {\n",
       "        text-align: right;\n",
       "    }\n",
       "</style>\n",
       "<table border=\"1\" class=\"dataframe\">\n",
       "  <thead>\n",
       "    <tr style=\"text-align: right;\">\n",
       "      <th></th>\n",
       "      <th>Test ID</th>\n",
       "      <th>Comparison Model</th>\n",
       "      <th>T-Statistic</th>\n",
       "      <th>Significance (10%)</th>\n",
       "      <th>Significance (5%)</th>\n",
       "      <th>Significance (1%)</th>\n",
       "      <th>P-Value (One-Sided)</th>\n",
       "    </tr>\n",
       "  </thead>\n",
       "  <tbody>\n",
       "    <tr>\n",
       "      <th>0</th>\n",
       "      <td>1</td>\n",
       "      <td>RF</td>\n",
       "      <td>0.410765</td>\n",
       "      <td>False</td>\n",
       "      <td>False</td>\n",
       "      <td>False</td>\n",
       "      <td>0.342215</td>\n",
       "    </tr>\n",
       "    <tr>\n",
       "      <th>1</th>\n",
       "      <td>1</td>\n",
       "      <td>XGB</td>\n",
       "      <td>1.118785</td>\n",
       "      <td>False</td>\n",
       "      <td>False</td>\n",
       "      <td>False</td>\n",
       "      <td>0.136574</td>\n",
       "    </tr>\n",
       "    <tr>\n",
       "      <th>2</th>\n",
       "      <td>1</td>\n",
       "      <td>MLP</td>\n",
       "      <td>1.749756</td>\n",
       "      <td>True</td>\n",
       "      <td>True</td>\n",
       "      <td>False</td>\n",
       "      <td>0.045559</td>\n",
       "    </tr>\n",
       "    <tr>\n",
       "      <th>3</th>\n",
       "      <td>1</td>\n",
       "      <td>KNN</td>\n",
       "      <td>1.082681</td>\n",
       "      <td>False</td>\n",
       "      <td>False</td>\n",
       "      <td>False</td>\n",
       "      <td>0.144258</td>\n",
       "    </tr>\n",
       "    <tr>\n",
       "      <th>4</th>\n",
       "      <td>1</td>\n",
       "      <td>SVM</td>\n",
       "      <td>1.613246</td>\n",
       "      <td>True</td>\n",
       "      <td>False</td>\n",
       "      <td>False</td>\n",
       "      <td>0.058976</td>\n",
       "    </tr>\n",
       "    <tr>\n",
       "      <th>...</th>\n",
       "      <td>...</td>\n",
       "      <td>...</td>\n",
       "      <td>...</td>\n",
       "      <td>...</td>\n",
       "      <td>...</td>\n",
       "      <td>...</td>\n",
       "      <td>...</td>\n",
       "    </tr>\n",
       "    <tr>\n",
       "      <th>200</th>\n",
       "      <td>41</td>\n",
       "      <td>RF</td>\n",
       "      <td>0.293302</td>\n",
       "      <td>False</td>\n",
       "      <td>False</td>\n",
       "      <td>False</td>\n",
       "      <td>0.385811</td>\n",
       "    </tr>\n",
       "    <tr>\n",
       "      <th>201</th>\n",
       "      <td>41</td>\n",
       "      <td>XGB</td>\n",
       "      <td>1.011619</td>\n",
       "      <td>False</td>\n",
       "      <td>False</td>\n",
       "      <td>False</td>\n",
       "      <td>0.160584</td>\n",
       "    </tr>\n",
       "    <tr>\n",
       "      <th>202</th>\n",
       "      <td>41</td>\n",
       "      <td>MLP</td>\n",
       "      <td>2.063978</td>\n",
       "      <td>True</td>\n",
       "      <td>True</td>\n",
       "      <td>False</td>\n",
       "      <td>0.024605</td>\n",
       "    </tr>\n",
       "    <tr>\n",
       "      <th>203</th>\n",
       "      <td>41</td>\n",
       "      <td>KNN</td>\n",
       "      <td>0.710879</td>\n",
       "      <td>False</td>\n",
       "      <td>False</td>\n",
       "      <td>False</td>\n",
       "      <td>0.241836</td>\n",
       "    </tr>\n",
       "    <tr>\n",
       "      <th>204</th>\n",
       "      <td>41</td>\n",
       "      <td>SVM</td>\n",
       "      <td>1.021675</td>\n",
       "      <td>False</td>\n",
       "      <td>False</td>\n",
       "      <td>False</td>\n",
       "      <td>0.158819</td>\n",
       "    </tr>\n",
       "  </tbody>\n",
       "</table>\n",
       "<p>205 rows × 7 columns</p>\n",
       "</div>"
      ],
      "text/plain": [
       "     Test ID Comparison Model  T-Statistic  Significance (10%)  \\\n",
       "0          1               RF     0.410765               False   \n",
       "1          1              XGB     1.118785               False   \n",
       "2          1              MLP     1.749756                True   \n",
       "3          1              KNN     1.082681               False   \n",
       "4          1              SVM     1.613246                True   \n",
       "..       ...              ...          ...                 ...   \n",
       "200       41               RF     0.293302               False   \n",
       "201       41              XGB     1.011619               False   \n",
       "202       41              MLP     2.063978                True   \n",
       "203       41              KNN     0.710879               False   \n",
       "204       41              SVM     1.021675               False   \n",
       "\n",
       "     Significance (5%)  Significance (1%)  P-Value (One-Sided)  \n",
       "0                False              False             0.342215  \n",
       "1                False              False             0.136574  \n",
       "2                 True              False             0.045559  \n",
       "3                False              False             0.144258  \n",
       "4                False              False             0.058976  \n",
       "..                 ...                ...                  ...  \n",
       "200              False              False             0.385811  \n",
       "201              False              False             0.160584  \n",
       "202               True              False             0.024605  \n",
       "203              False              False             0.241836  \n",
       "204              False              False             0.158819  \n",
       "\n",
       "[205 rows x 7 columns]"
      ]
     },
     "execution_count": 33,
     "metadata": {},
     "output_type": "execute_result"
    }
   ],
   "source": [
    "from scipy.stats import ttest_ind\n",
    "\n",
    "# Initialize final results list\n",
    "final_ttest_results = []\n",
    "\n",
    "# Loop over all test IDs\n",
    "for test_id in range(1, 42):  # Assuming test IDs range from 1 to 41\n",
    "    # Filter data for the current test ID\n",
    "    rf_rmae_test = rf_results[rf_results['Test ID'] == test_id]['RMAE']\n",
    "    gbc_rmae_test = gbc_results[gbc_results['Test ID'] == test_id]['RMAE']\n",
    "    mlp_rmae_test = mlp_results[mlp_results['Test ID'] == test_id]['RMAE']\n",
    "    knn_rmae_test = knn_results[knn_results['Test ID'] == test_id]['RMAE']\n",
    "    svr_rmae_test = svr_results[svr_results['Test ID'] == test_id]['RMAE']\n",
    "    gat_rmae_test = gat_results[gat_results['Test ID'] == test_id]['RMAE']\n",
    "\n",
    "    # Combine RMAEs into a single DataFrame for easier processing\n",
    "    rmae_stats = pd.concat(\n",
    "        [rf_rmae_test, gbc_rmae_test, mlp_rmae_test, knn_rmae_test, svr_rmae_test, gat_rmae_test],\n",
    "        axis=1,\n",
    "        ignore_index=True\n",
    "    )\n",
    "    rmae_stats.columns = ['RF', 'XGB', 'MLP', 'KNN', 'SVM', 'GAT']\n",
    "\n",
    "    # Extract GCN column\n",
    "    gat_values = rmae_stats['GAT']\n",
    "\n",
    "    # Perform t-tests comparing GCN with each of the other models\n",
    "    t_test_results = []\n",
    "    models = ['RF', 'XGB', 'MLP', 'KNN', 'SVM']\n",
    "\n",
    "    for model in models:\n",
    "        other_values = rmae_stats[model]\n",
    "\n",
    "        # Perform t-test (양측 검정)\n",
    "        t_stat, p_value_two_sided = ttest_ind(other_values, gat_values, equal_var=False)\n",
    "\n",
    "        # 단측 검정으로 p-value 변환 (GCN이 RMAE가 작다는 방향으로 가정)\n",
    "        p_value_one_sided = p_value_two_sided / 2 if t_stat > 0 else 1 - (p_value_two_sided / 2)\n",
    "\n",
    "        # Store results\n",
    "        t_test_results.append({\n",
    "            'Test ID': test_id,\n",
    "            'Comparison Model': model,\n",
    "            'T-Statistic': t_stat,\n",
    "            'Significance (10%)': p_value_one_sided < 0.1,\n",
    "            'Significance (5%)': p_value_one_sided < 0.05,\n",
    "            'Significance (1%)': p_value_one_sided < 0.01,\n",
    "            'P-Value (One-Sided)': p_value_one_sided\n",
    "        })\n",
    "\n",
    "    # Append t-test results for this test ID\n",
    "    final_ttest_results.extend(t_test_results)\n",
    "\n",
    "# Convert final results to a DataFrame\n",
    "final_gat_rmae_ttest_results_df = pd.DataFrame(final_ttest_results)\n",
    "\n",
    "# Save to CSV for later analysis\n",
    "final_gat_rmae_ttest_results_df.to_csv(\"reg_gat_rmae_ttest_results.csv\", index=False)\n",
    "\n",
    "# Display the final results\n",
    "print(\"T-Test Results Across All Test Periods (RMAE):\")\n",
    "final_gat_rmae_ttest_results_df"
   ]
  }
 ],
 "metadata": {
  "kernelspec": {
   "display_name": "base",
   "language": "python",
   "name": "python3"
  },
  "language_info": {
   "codemirror_mode": {
    "name": "ipython",
    "version": 3
   },
   "file_extension": ".py",
   "mimetype": "text/x-python",
   "name": "python",
   "nbconvert_exporter": "python",
   "pygments_lexer": "ipython3",
   "version": "3.11.7"
  }
 },
 "nbformat": 4,
 "nbformat_minor": 2
}
